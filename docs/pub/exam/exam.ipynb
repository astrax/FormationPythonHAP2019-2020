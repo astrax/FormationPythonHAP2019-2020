{
 "cells": [
  {
   "cell_type": "markdown",
   "metadata": {},
   "source": [
    "<!-- dom:TITLE: Contrôle continu: Devoir Surveillé N°2 -->\n",
    "# Contrôle continu: Devoir Surveillé N°2\n",
    "<!-- dom:AUTHOR: Ahmed Ammar Email:ahmed.ammar@fst.utm.tn at Institut Préparatoire aux Études Scientifiques et Techniques, Université de Carthage. -->\n",
    "<!-- Author: -->  \n",
    "**Ahmed Ammar** (email: `ahmed.ammar@fst.utm.tn`), Institut Préparatoire aux Études Scientifiques et Techniques, Université de Carthage.\n",
    "\n",
    "Date: **11 Décembre 2019**\n",
    "\n",
    "<!-- FIGURE: [images/header2, width=700 frac=1] -->\n",
    "\n",
    "\n",
    "\n",
    "<!-- --- begin exercise --- -->\n",
    "\n",
    "## Exercise 1: Calculer les niveaux d'énergie dans un atome (6 points)\n",
    "\n",
    "Le $n^{ième}$ niveau d'énergie d'un électron dans un atome d'hydrogène est donné par:"
   ]
  },
  {
   "cell_type": "markdown",
   "metadata": {},
   "source": [
    "<!-- Equation labels as ordinary links -->\n",
    "<div id=\"_auto1\"></div>\n",
    "\n",
    "$$\n",
    "\\begin{equation}\n",
    "E_n = -\\frac{m_e e^4}{8\\epsilon_0^2h^2}\\cdot\\frac{1}{n^2} ,\n",
    "\\label{_auto1} \\tag{1}\n",
    "\\end{equation}\n",
    "$$"
   ]
  },
  {
   "cell_type": "markdown",
   "metadata": {},
   "source": [
    "où $m_e = 9.1094⋅10^{-31} \\ kg$ est la masse de l'électron, $e = 1.602210^{−19} \\ C$ est la charge élémentaire, $\\epsilon_0 = 8.8542 \\cdot 10^{-12} C^2 s^2 \\ kg^{-1}m^{-3}$ est la permittivité électrique du vide, et $h=6.6261 \\cdot 10^{−34} \\ Js$\n",
    "\n",
    "\n",
    "**a)**\n",
    "Définir la fonction `E(n)` qui retourne la valeur du niveau d’énergie en électron-volt ($eV$).\n",
    "\n",
    "<!-- --- begin hint in exercise --- -->\n",
    "\n",
    "**Hint.**\n",
    "* On vous donne $1 \\ eV = 1.6022 \\dot 10^{-19} \\ J$.\n",
    "\n",
    "<!-- --- end hint in exercise --- -->\n",
    "\n",
    "\n",
    "<!-- --- begin solution of exercise --- -->\n",
    "**Solution.**\n",
    "On défini d'abord les constantes dans l'équation, ensuite la fonction `E(n)` qui retourne la valeur du niveau d’énergie en électron-volt ($eV$):"
   ]
  },
  {
   "cell_type": "code",
   "execution_count": 1,
   "metadata": {},
   "outputs": [],
   "source": [
    "# Constantes\n",
    "me = 9.1094e-31\n",
    "e = 1.6022e-19\n",
    "eps0 = 8.8542e-12\n",
    "h = 6.6261e-34\n",
    "def E(n):\n",
    "    Ejoule = - (me * e**4)/(8*eps0**2 * h**2)* (1/n**2)\n",
    "    return Ejoule/e"
   ]
  },
  {
   "cell_type": "markdown",
   "metadata": {},
   "source": [
    "<!-- --- end solution of exercise --- -->\n",
    "\n",
    "**b)**\n",
    "* Calculer la valeur du niveau d'énergie le plus bas, `E(n=1)`. A quoi correspond ce niveau d'énergie?\n",
    "\n",
    "* Tester la valeur du niveau d'énergie pour $n \\rightarrow \\infty$. A quoi correspond le niveau d'énergie $E = 0$ eV ?\n",
    "\n",
    "<!-- --- begin solution of exercise --- -->\n",
    "**Solution.**\n",
    "Le niveau d'énergie pour n = 1:"
   ]
  },
  {
   "cell_type": "code",
   "execution_count": 2,
   "metadata": {},
   "outputs": [],
   "source": [
    "print(\"E(n = 1) = \", E(n = 1), \" eV\")\n",
    "# ==> E(n = 1) =  -13.606152702370753  eV"
   ]
  },
  {
   "cell_type": "markdown",
   "metadata": {},
   "source": [
    "Le niveau d'énergie le plus bas $E_1 = - 13,6 \\ eV$ obtenu pour n = 1, correspond au niveau fondamental de l'atome d'hydrogène. C'est l'état le plus stable.\n",
    "\n",
    "Le niveau d'énergie pour n = 100:"
   ]
  },
  {
   "cell_type": "code",
   "execution_count": 3,
   "metadata": {},
   "outputs": [],
   "source": [
    "print(\"E(n = 100) = \", E(n = 100), \" eV\")\n",
    "# ==> E(n = 100) =  -0.0013606152702370755  eV"
   ]
  },
  {
   "cell_type": "markdown",
   "metadata": {},
   "source": [
    "Le niveau d'énergie est nul $E = 0 \\ eV$  lorsque n tend vers l'infini (l'électron est alors séparé du noyau).\n",
    "\n",
    "<!-- --- end solution of exercise --- -->\n",
    "\n",
    "**c)**\n",
    "Écrire une boucle qui calcule et affiche le niveau d'énergie $E_n$ pour $n = 1,…, 20$.\n",
    "\n",
    "<!-- --- begin hint in exercise --- -->\n",
    "\n",
    "**Hint.**\n",
    "Le résultat doit être comme suivant:"
   ]
  },
  {
   "cell_type": "markdown",
   "metadata": {},
   "source": [
    "        E1 = -13.606152702370753 eV\n",
    "        E2 = -3.4015381755926883 eV\n",
    "        ............................\n",
    "        ............................\n",
    "        E19 = -0.03769017369077771 eV\n",
    "        E20 = -0.03401538175592689 eV\n"
   ]
  },
  {
   "cell_type": "markdown",
   "metadata": {},
   "source": [
    "<!-- --- end hint in exercise --- -->\n",
    "\n",
    "\n",
    "<!-- --- begin solution of exercise --- -->\n",
    "**Solution.**\n",
    "On peut calculer et afficher les valeurs $E_n$ pour $n = 1,…, 20$ en utilisant une boucle for:"
   ]
  },
  {
   "cell_type": "code",
   "execution_count": 4,
   "metadata": {},
   "outputs": [],
   "source": [
    "for n in range(1, 21):\n",
    "    print(\"E{} = {} eV\".format(n, E(n)))"
   ]
  },
  {
   "cell_type": "markdown",
   "metadata": {},
   "source": [
    "<!-- --- end solution of exercise --- -->\n",
    "\n",
    "**d)**\n",
    "L'énergie libérée lorsqu'un électron se déplace du niveau ni au niveau nf est donnée par:"
   ]
  },
  {
   "cell_type": "markdown",
   "metadata": {},
   "source": [
    "<!-- Equation labels as ordinary links -->\n",
    "<div id=\"_auto2\"></div>\n",
    "\n",
    "$$\n",
    "\\begin{equation}\n",
    "\\Delta E = -\\frac{m_e e^4}{8\\epsilon_0^2h^2}\\cdot\\left( \\frac{1}{n_i^2}-\\frac{1}{n_f^2}\\right)\n",
    "\\label{_auto2} \\tag{2}\n",
    "\\end{equation}\n",
    "$$"
   ]
  },
  {
   "cell_type": "markdown",
   "metadata": {},
   "source": [
    "Construire et afficher les valeurs de la matrice $\\Delta E^{i,f}$ dont la cellule de la colonne `i` et de la ligne `f` contient l’énergie libérée lorsqu’un électron passe du niveau d’énergie `i` au niveau `f`, pour $i, f = 1, …, 5$."
   ]
  },
  {
   "cell_type": "markdown",
   "metadata": {},
   "source": [
    "<!-- Equation labels as ordinary links -->\n",
    "<div id=\"_auto3\"></div>\n",
    "\n",
    "$$\n",
    "\\begin{equation}\n",
    "\\Delta E^{i,f} = \\begin{pmatrix}\n",
    "\\Delta  E_{1,1}  & \\Delta  E_{1,2}  & \\Delta  E_{1,3}  & \\Delta  E_{1,4}  & \\Delta  E_{1,5} \\\\\\\n",
    "\\Delta E_{2,1}  & \\Delta  E_{2,2}  & \\Delta  E_{2,3}  & \\Delta  E_{2,4}  & \\Delta  E_{2,5} \\\\\\\n",
    "\\Delta E_{3,1}  & \\Delta  E_{3,2}  & \\Delta  E_{3,3}  & \\Delta  E_{3,4}  & \\Delta  E_{3,5} \\\\\\\n",
    "\\Delta E_{4,1}  & \\Delta  E_{4,2}  & \\Delta  E_{4,3}  & \\Delta  E_{4,4}  & \\Delta  E_{4,5} \\\\\\\n",
    "\\Delta E_{5,1}  & \\Delta  E_{5,2}  & \\Delta  E_{5,3}  & \\Delta  E_{5,4}  & \\Delta  E_{5,5}\n",
    "\\end{pmatrix}\n",
    "\\label{_auto3} \\tag{3}\n",
    "\\end{equation}\n",
    "$$"
   ]
  },
  {
   "cell_type": "markdown",
   "metadata": {},
   "source": [
    "<!-- --- begin solution of exercise --- -->\n",
    "**Solution.**\n",
    "On peut créer la matrice $\\Delta E^{i,f}$ et afficher ces valeurs avec la méthode suivante:"
   ]
  },
  {
   "cell_type": "code",
   "execution_count": 5,
   "metadata": {},
   "outputs": [],
   "source": [
    "from numpy import array\n",
    "DEn = [[E(ni) - E(nf) for ni in range(1, 6)] for nf in range(1,6)]\n",
    "print(array(DEn))\n",
    "#==> DEn =\n",
    "#[[  0.          10.20461453  12.09435796  12.75576816  13.06190659]\n",
    "# [-10.20461453   0.           1.88974343   2.55115363   2.85729207]\n",
    "# [-12.09435796  -1.88974343   0.           0.6614102    0.96754864]\n",
    "# [-12.75576816  -2.55115363  -0.6614102    0.           0.30613844]\n",
    "# [-13.06190659  -2.85729207  -0.96754864  -0.30613844   0.        ]]"
   ]
  },
  {
   "cell_type": "markdown",
   "metadata": {},
   "source": [
    "<!-- --- end solution of exercise --- -->\n",
    "\n",
    "<!-- --- end exercise --- -->\n",
    "\n",
    "\n",
    "\n",
    "\n",
    "<!-- --- begin exercise --- -->\n",
    "\n",
    "## Exercise 2: Générer des coordonnées équidistantes (4 points)\n",
    "<div id=\"ex:coordonnee\"></div>\n",
    "\n",
    "Nous voulons générer $n + 1$ coordonnées $x$ équidistantes dans $[a, b]$. Stocker, pour `a = -2`; `b = 3` et `n= 20` les coordonnées $x$ dans une liste `xList`.\n",
    "\n",
    "\n",
    "**a)**\n",
    "Définir toutes les variables puis utiliser une boucle **for** et ajouter chaque coordonnée à la liste `xList` (*initialement vide*).\n",
    "\n",
    "<!-- --- begin hint in exercise --- -->\n",
    "\n",
    "**Hint.**\n",
    "Avec $n$ intervalles, correspondant à $n + 1$ points, dans $[a, b]$, chaque intervalle a une longueur $h = (b-a) / n$. Les coordonnées peuvent alors être générées par la formule `xi = a + i * h`; $i = 0,…, n$.\n",
    "\n",
    "<!-- --- end hint in exercise --- -->\n",
    "\n",
    "\n",
    "<!-- --- begin solution of exercise --- -->\n",
    "**Solution.**\n",
    "La liste `xList` sera remplis par les valeurs de `xi` comme suivant:"
   ]
  },
  {
   "cell_type": "code",
   "execution_count": 6,
   "metadata": {},
   "outputs": [],
   "source": [
    "n =20\n",
    "a, b = -2, 3\n",
    "h = (b - a) / n\n",
    "xList = []\n",
    "for i in range(n+1):\n",
    "    xi  = a + i * h\n",
    "    xList.append(xi)"
   ]
  },
  {
   "cell_type": "markdown",
   "metadata": {},
   "source": [
    "<!-- --- end solution of exercise --- -->\n",
    "\n",
    "**b)**\n",
    "Utiliser une liste de compréhension comme une implémentation alternative.\n",
    "\n",
    "\n",
    "<!-- --- begin solution of exercise --- -->\n",
    "**Solution.**\n",
    "Nous pouvons également remplir `xList` par une liste de compréhension:"
   ]
  },
  {
   "cell_type": "code",
   "execution_count": 7,
   "metadata": {},
   "outputs": [],
   "source": [
    "xList = [a + i * h for i in range(n+1)]"
   ]
  },
  {
   "cell_type": "markdown",
   "metadata": {},
   "source": [
    "<!-- --- end solution of exercise --- -->\n",
    "\n",
    "**c)**\n",
    "Vectoriser la liste résultante `xList` en un tableau `numpy` xVect. N'oubliez pas **d'importer** d'abord la fonction qui transforme les listes en tableaux à partir de `numpy`.\n",
    "\n",
    "\n",
    "<!-- --- begin solution of exercise --- -->\n",
    "**Solution.**\n",
    "La fonction `numpy.array()` transforme les listes en tableaux `numpy`:"
   ]
  },
  {
   "cell_type": "code",
   "execution_count": 8,
   "metadata": {},
   "outputs": [],
   "source": [
    "from numpy import array\n",
    "xVect = array(xList)"
   ]
  },
  {
   "cell_type": "markdown",
   "metadata": {},
   "source": [
    "<!-- --- end solution of exercise --- -->\n",
    "\n",
    "<!-- --- end exercise --- -->\n",
    "\n",
    "\n",
    "\n",
    "\n",
    "<!-- --- begin exercise --- -->\n",
    "\n",
    "## Exercise 3: Tracer une fonction gaussienne (7 points)\n",
    "\n",
    "\n",
    "**a)**\n",
    "Définir une fonction `f(x)` qui met en œuvre la gaussienne suivante"
   ]
  },
  {
   "cell_type": "markdown",
   "metadata": {},
   "source": [
    "<!-- Equation labels as ordinary links -->\n",
    "<div id=\"_auto4\"></div>\n",
    "\n",
    "$$\n",
    "\\begin{equation}\n",
    "f(x) = {1\\over\\sqrt{2\\pi}}e^{-\\frac{1}{2}x^2}\n",
    "\\label{_auto4} \\tag{4}\n",
    "\\end{equation}\n",
    "$$"
   ]
  },
  {
   "cell_type": "markdown",
   "metadata": {},
   "source": [
    "<!-- --- begin solution of exercise --- -->\n",
    "**Solution.**\n",
    "La fonction `f(x)` s'écrit:"
   ]
  },
  {
   "cell_type": "code",
   "execution_count": 9,
   "metadata": {},
   "outputs": [],
   "source": [
    "import numpy as np\n",
    "def f(x):\n",
    "    return 1/np.sqrt(2*np.pi) * np.exp(-0.5 *x*x)"
   ]
  },
  {
   "cell_type": "markdown",
   "metadata": {},
   "source": [
    "<!-- --- end solution of exercise --- -->\n",
    "\n",
    "**b)**\n",
    "Remplir les listes `xList` et `fList` avec $x$ et $f(x)$ valeurs pour 41 coordonnées $x$ uniformément espacées dans $[−4,4]$.\n",
    "\n",
    "<!-- --- begin hint in exercise --- -->\n",
    "\n",
    "**Hint.**\n",
    "Adapter l'exemple de l'exercice [Exercise 2: Générer des coordonnées équidistantes (4 points)](#ex:coordonnee).\n",
    "\n",
    "<!-- --- end hint in exercise --- -->\n",
    "\n",
    "\n",
    "<!-- --- begin solution of exercise --- -->\n",
    "**Solution.**"
   ]
  },
  {
   "cell_type": "code",
   "execution_count": 10,
   "metadata": {},
   "outputs": [],
   "source": [
    "n = 40\n",
    "a, b = -4, 4\n",
    "h = (b - a) / n\n",
    "xList, fList=[], []\n",
    "\n",
    "for i in range(n+1):\n",
    "    xi  = a + i * h\n",
    "    fi = f(xi)\n",
    "    xList.append(xi)\n",
    "    fList.append(fi)\n",
    "\n",
    "print(fList)"
   ]
  },
  {
   "cell_type": "markdown",
   "metadata": {},
   "source": [
    "<!-- --- end solution of exercise --- -->\n",
    "\n",
    "**c)**\n",
    "Vectoriser le code en **b)** en créant les valeurs `x` à l'aide de la fonction `linspace()` à partir de la bibliothèque `numpy` et en évaluant `f(x)` pour un argument du tableau.\n",
    "\n",
    "\n",
    "<!-- --- begin solution of exercise --- -->\n",
    "**Solution.**\n",
    "Soit un tableau `x` généré par la fonction `numpy.linspace()`:"
   ]
  },
  {
   "cell_type": "code",
   "execution_count": 11,
   "metadata": {},
   "outputs": [],
   "source": [
    "x = np.linspace(-4, 4, 41)\n",
    "print(f(x))"
   ]
  },
  {
   "cell_type": "markdown",
   "metadata": {},
   "source": [
    "<!-- --- end solution of exercise --- -->\n",
    "\n",
    "**d)**\n",
    "Faites un tracé de cette fonction `f(x)` en utilisant la bibliothèque `matplotlib`.\n",
    "\n",
    "<!-- --- begin hint in exercise --- -->\n",
    "\n",
    "**Hint.**\n",
    "La sortie du programme devrait ressembler à la figure ci-dessous.\n",
    "<!-- dom:FIGURE: [scripts/gauss.png, width=500 frac=.5] -->\n",
    "<!-- begin figure -->\n",
    "\n",
    "<p></p>\n",
    "<img src=\"scripts/gauss.png\" width=500>\n",
    "\n",
    "<!-- end figure -->\n",
    "\n",
    "\n",
    "<!-- --- end hint in exercise --- -->\n",
    "\n",
    "\n",
    "<!-- --- begin solution of exercise --- -->\n",
    "**Solution.**\n",
    "Le graphique sera généré en implémentant le code suivant:"
   ]
  },
  {
   "cell_type": "code",
   "execution_count": 12,
   "metadata": {},
   "outputs": [],
   "source": [
    "%matplotlib inline\n",
    "\n",
    "import matplotlib.pyplot as plt\n",
    "\n",
    "plt.plot(x, f(x), 'ko-',lw=2)\n",
    "plt.title(\"Fonction gaussienne\", fontweight='bold')\n",
    "plt.xlabel(\"x\")\n",
    "plt.ylabel(\"f(x)\")\n",
    "plt.grid()\n",
    "plt.tight_layout()\n",
    "plt.savefig(\"gauss.png\"); plt.savefig(\"gauss.pdf\")"
   ]
  },
  {
   "cell_type": "markdown",
   "metadata": {},
   "source": [
    "<!-- --- end solution of exercise --- -->\n",
    "\n",
    "<!-- --- end exercise --- -->\n",
    "\n",
    "\n",
    "\n",
    "\n",
    "<!-- --- begin exercise --- -->\n",
    "\n",
    "## Exercise 4: Tracer la viscosité de l'eau (5 points)\n",
    "\n",
    "La viscosité de l'eau, $\\mu$, varie avec la température $T$ (en Kelvin) selon la formule:"
   ]
  },
  {
   "cell_type": "markdown",
   "metadata": {},
   "source": [
    "<!-- Equation labels as ordinary links -->\n",
    "<div id=\"_auto5\"></div>\n",
    "\n",
    "$$\n",
    "\\begin{equation}\n",
    "\\mu (T) = A\\cdot 10^{B/(T-C)}\n",
    "\\label{_auto5} \\tag{5}\n",
    "\\end{equation}\n",
    "$$"
   ]
  },
  {
   "cell_type": "markdown",
   "metadata": {},
   "source": [
    "où $A=2.414\\cdot 10^{-5}\\hbox{ Pa s}$, $B=247.8 \\ K$ et $C = 140 \\ K$.\n",
    "\n",
    "\n",
    "**a)**\n",
    "Définir la fonction `mu(T, A, B, C)` qui renvoie la valeur de la viscosité $\\mu$ pour chaque valeur donnée de la température $T$.\n",
    "\n",
    "\n",
    "<!-- --- begin solution of exercise --- -->\n",
    "**Solution.**\n",
    "La fonction `mu(T, A, B, C)` est définie comme suivant:"
   ]
  },
  {
   "cell_type": "code",
   "execution_count": 13,
   "metadata": {},
   "outputs": [],
   "source": [
    "def mu(T, A, B, C):\n",
    "    return A*10**(B/(T-C))"
   ]
  },
  {
   "cell_type": "markdown",
   "metadata": {},
   "source": [
    "<!-- --- end solution of exercise --- -->\n",
    "\n",
    "**b)**\n",
    "Tracer $\\mu (T)$ pour 20 valeurs de $T$ entre 0 et 100 degrés Celsius. Marquer l'axe des $x$ avec \"Température (degrés Celsius)\", l'axe des $y$ avec \"viscosité (Pa s)\" et le titre \"Évolution de la viscosité de l'eau avec la température\". **Notez que $T$ dans la formule de $\\mu$ doit être en Kelvin**.\n",
    "\n",
    "<!-- --- begin hint in exercise --- -->\n",
    "\n",
    "**Hint.**\n",
    "* On vous donne: 0 deg C = 273 deg K\n",
    "\n",
    "* La sortie du programme devrait ressembler à la figure ci-dessous.\n",
    "\n",
    "<!-- dom:FIGURE: [scripts/viscosity.png, width=500 frac=.5] -->\n",
    "<!-- begin figure -->\n",
    "\n",
    "<p></p>\n",
    "<img src=\"scripts/viscosity.png\" width=500>\n",
    "\n",
    "<!-- end figure -->\n",
    "\n",
    "\n",
    "<!-- --- end hint in exercise --- -->\n",
    "\n",
    "\n",
    "<!-- --- begin solution of exercise --- -->\n",
    "**Solution.**\n",
    "Le code qui trace la viscosité de l'eau en fonction de la température est comme suivant:"
   ]
  },
  {
   "cell_type": "code",
   "execution_count": 14,
   "metadata": {},
   "outputs": [],
   "source": [
    "import matplotlib.pyplot as plt\n",
    "import numpy as np\n",
    "# 0 deg C = 273 deg K\n",
    "T = np.linspace(0, 100, 20)\n",
    "\n",
    "plt.plot(T, mu(T+273, A = 2.414e-5, B = 247.8, C = 140), 'k^--')\n",
    "plt.title(\"Évolution de la viscosité de l'eau avec la température\",\n",
    "          fontweight='bold')\n",
    "plt.xlabel(\"Température (degrés Celsius)\")\n",
    "plt.ylabel(\"Viscosité (Pa s)\")\n",
    "plt.grid()\n",
    "plt.savefig(\"viscosity.png\"); plt.savefig(\"viscosity.pdf\")"
   ]
  },
  {
   "cell_type": "markdown",
   "metadata": {},
   "source": [
    "<!-- --- end solution of exercise --- -->\n",
    "\n",
    "<!-- --- end exercise --- -->"
   ]
  }
 ],
 "metadata": {
  "kernelspec": {
   "display_name": "Python 3",
   "language": "python",
   "name": "python3"
  },
  "language_info": {
   "codemirror_mode": {
    "name": "ipython",
    "version": 3
   },
   "file_extension": ".py",
   "mimetype": "text/x-python",
   "name": "python",
   "nbconvert_exporter": "python",
   "pygments_lexer": "ipython3",
   "version": "3.6.8"
  }
 },
 "nbformat": 4,
 "nbformat_minor": 2
}
