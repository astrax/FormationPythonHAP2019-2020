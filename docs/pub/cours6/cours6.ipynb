{
 "cells": [
  {
   "cell_type": "markdown",
   "metadata": {},
   "source": [
    "<!-- dom:TITLE: Résolution des équations aux dérivées partielles -->\n",
    "# Résolution des équations aux dérivées partielles\n",
    "<!-- dom:AUTHOR: Ahmed Ammar Email:ahmed.ammar@fst.utm.tn at Institut Préparatoire aux Études Scientifiques et Techniques, Université de Carthage. -->\n",
    "<!-- Author: -->  \n",
    "**Ahmed Ammar** (email: `ahmed.ammar@fst.utm.tn`), Institut Préparatoire aux Études Scientifiques et Techniques, Université de Carthage.\n",
    "\n",
    "Date: **Mar 31, 2020**\n",
    "\n",
    "Copyright 2020, Ahmed Ammar. Released under CC Attribution 4.0 license\n",
    "\n",
    "\n",
    "\n",
    "<!-- TOC: on -->\n",
    "# Introduction\n",
    "Il existe trois types d'équations aux dérivées partielles.\n",
    "* Des équations telles que l'équation d'onde,"
   ]
  },
  {
   "cell_type": "markdown",
   "metadata": {},
   "source": [
    "<!-- Equation labels as ordinary links -->\n",
    "<div id=\"_auto1\"></div>\n",
    "\n",
    "$$\n",
    "\\begin{equation}\n",
    "\\frac{\\partial^2 u}{\\partial t^2} =  c^2 \\frac{\\partial^2 u}{\\partial x^2}\n",
    "\\label{_auto1} \\tag{1}\n",
    "\\end{equation}\n",
    "$$"
   ]
  },
  {
   "cell_type": "markdown",
   "metadata": {},
   "source": [
    "où $u (t, x)$ est une fonction de déplacement et $c$ une vitesse constante, sont connues sous le nom d'équations hyperboliques.\n",
    "* Des équations telles que l'équation de diffusion,"
   ]
  },
  {
   "cell_type": "markdown",
   "metadata": {},
   "source": [
    "<!-- Equation labels as ordinary links -->\n",
    "<div id=\"_auto2\"></div>\n",
    "\n",
    "$$\n",
    "\\begin{equation}\n",
    "\\frac{\\partial u}{\\partial t} =  \\frac{\\partial}{\\partial x} \\left( D \\frac{\\partial u}{\\partial x}\\right)\n",
    "\\label{_auto2} \\tag{2}\n",
    "\\end{equation}\n",
    "$$"
   ]
  },
  {
   "cell_type": "markdown",
   "metadata": {},
   "source": [
    "où $u (t, x)$ est le champ de densité et $D$ le coefficient de diffusion sont appelés équations paraboliques. L'équation de Schrödinger en fonction du temps est un autre exemple d'équation parabolique.\n",
    "* Des équations telles que l'équation de Poisson,"
   ]
  },
  {
   "cell_type": "markdown",
   "metadata": {},
   "source": [
    "<!-- Equation labels as ordinary links -->\n",
    "<div id=\"_auto3\"></div>\n",
    "\n",
    "$$\n",
    "\\begin{equation}\n",
    "\\frac{\\partial^2 u}{\\partial x^2} + \\frac{\\partial^2 u}{\\partial y^2} + \\frac{\\partial^2 u}{\\partial z^2} = - \\frac{\\rho(x, y, z)}{\\epsilon_0}\n",
    "\\label{_auto3} \\tag{3}\n",
    "\\end{equation}\n",
    "$$"
   ]
  },
  {
   "cell_type": "markdown",
   "metadata": {},
   "source": [
    "où $u (x, y, z)$ est une fonction potentielle et $\\rho/ \\epsilon_0$ est une source, appelées équations elliptiques. L'équation de Schrödinger indépendante du temps est un autre exemple d'équation elliptique.\n",
    "\n",
    "On trouve des équations hyperboliques ou paraboliques dans les problèmes de valeurs initiales: la configuration du champ $u (t, x)$ est spécifiée à un moment initial et évolue dans le temps. Les équations elliptiques se retrouvent dans les problèmes de valeur limite: la valeur du champ $u (x, y, z)$ est spécifiée sur la limite d'une région et nous cherchons la solution à travers l'intérieur.\n",
    "\n",
    "# Équation de diffusion thermique\n",
    "\n",
    "L'équation de diffusion thermique est historiquement liée à Joseph Fourier. Ce dernier naquit en 1768 à Auxerre, où il étudie dans une école militaire. Fin 1794, il est élève à Normale Sup et en 1795-1796, il enseigne la physique à Normale Sup et à l'X. Il débute ses travaux sur la chaleur en 1802 lorsqu'il est nommé préfet de l'Isère par Napoléon. Il publie sa théorie sur la chaleur (et l'analyse de Fourier) en 1822. Il est élu à l'Académie française en 1826 et décédé à Paris en 1830.\n",
    "\n",
    "<!-- dom:FIGURE:[imgs/JFourier.jpg, width=600 frac=0.7] Gravure du mathématicien Jean Baptiste Joseph Fourier (1768-1830). [source 1: Article de **CNRS Le journal**, [Joseph Fourier transforme toujours la science](https://lejournal.cnrs.fr/articles/joseph-fourier-transforme-toujours-la-science)] -->\n",
    "<!-- begin figure -->\n",
    "\n",
    "<p>Gravure du mathématicien Jean Baptiste Joseph Fourier (1768-1830). [source 1: Article de <b>CNRS Le journal</b>, [Joseph Fourier transforme toujours la science](https://lejournal.cnrs.fr/articles/joseph-fourier-transforme-toujours-la-science)]</p>\n",
    "<img src=\"imgs/JFourier.jpg\" width=600>\n",
    "\n",
    "<!-- end figure -->\n",
    "\n",
    "\n",
    "## La conduction thermique dans les solides\n",
    "Dans les solides, les molécules ou les atomes sont figés dans un réseau maillé qui empêchent les grands déplacements. Le seul mouvement possible est un mouvement de vibration autour de leur position d'équilibre dans le réseau. Le transfert thermique d'énergie se traduit par une augmentation plus ou moins grande de l'amplitude de ces vibrations. Lorsque l'énergie apportée est suffisante pour que l'amplitude de la vibration dépasse une certaine valeur dépendante du réseau, alors les molécules se libèrent du réseau et le solide fond et s'évapore...\n",
    "\n",
    "Le cas des métaux est un peu particulier : eux possèdent des électrons de conduction, qui circulent librement sur le réseau du solide. Ces électrons se comportent comme les molécules d'un gaz (on parle de gaz d'électrons) et dans ce cas, à l'augmentation de l'amplitude des vibrations sur le réseau s'ajoute le transfert d'énergie cinétique des électrons rapides, \"chauds\" vers les électrons lents, \"froids\".\n",
    "## Notion de flux d'énergie\n",
    "La notion de flux d'énergie est très courante en physique. Nous l'avons déjà rencontré sous le nom d'intensité du courant électrique. Dans ce cas, il s'agit du flux de charges électriques qui traversent une surface unitaire donnée par unité de temps. Nous l'avons noté:"
   ]
  },
  {
   "cell_type": "markdown",
   "metadata": {},
   "source": [
    "<!-- Equation labels as ordinary links -->\n",
    "<div id=\"_auto4\"></div>\n",
    "\n",
    "$$\n",
    "\\begin{equation}\n",
    "I_q = \\dfrac{dQ}{dt}\n",
    "\\label{_auto4} \\tag{4}\n",
    "\\end{equation}\n",
    "$$"
   ]
  },
  {
   "cell_type": "markdown",
   "metadata": {},
   "source": [
    "Par analogie, on définit le flux thermique, plus exactement le flux d'énergie interne par $I_u = \\dfrac{dU}{dt}$. C'est la quantité d'énergie interne U qui traverse, sans travail, une surface unitaire par unité de temps.\n",
    "\n",
    "Pour l'exprimer plus précisément, on introduit un nouvel objet par analogie avec le courant électrique. Il s'agit du vecteur de courant volumique d'énergie interne sans travail noté classiquement $\\vec{J_u}$ et souvent nommé improprement \"vecteur courant thermique\", ce qui nous permet d'écrire l'expression du flux de ce vecteur à travers une surface dS orientée vers l'extérieur par le vecteur normal $\\vec{n}$ , ce qui nous donne $I_u = \\int_S \\vec{J_u} . \\vec{n} dS$. Le signe de $I_u$ dépend du sens du flux à travers la surface. Il est négatif pour le flux entrant et positif pour le flux sortant (pensez au signe du produit scalaire sous l'intégrale...).\n",
    "\n",
    "## L'expression de la loi de Fourier\n",
    "Après ces préambules utiles, venons en à la loi de Fourier proprement dite. La conduction thermique est un transfert thermique spontané d'une région de température élevée vers une région de température plus basse, et est décrite par la loi dite de Fourier établie mathématiquement par Jean-Baptiste Biot en 1804 puis expérimentalement par Fourier en 1822 : la densité de flux de chaleur est proportionnelle au gradient de température.\n",
    "\n",
    "Pour faire simple, ici et dans la suite, on va se placer dans le cadre d'un problème unidimensionnel, c'est à dire que le transfert thermique d'énergie se fait sur une dimension $Ox$.\n",
    "\n",
    "La loi de Fourier relie, après constat expérimental, le vecteur de courant volumique d'énergie interne sans travail $\\vec{J_u}$ avec le gradient de température $\\vec{grad} T$. La relation est linéaire et s'écrit $\\vec{J_u} = - \\kappa \\ \\vec{grad} T$. La linéarité de l'équation n'est due qu'aux approximations que nous avons fixé à son domaine de validité, comme pour la loi d'Ohm.\n",
    "\n",
    "Le paramètre $\\kappa$ est appelé conductivité thermique, toujours positif, de dimension $W.m^{-1}.K^{-1}$. Notez la présence du signe $-$, qui résulte du second principe de la thermodynamique : le flux d'énergie va des régions aux températures les plus hautes vers les régions aux températures les plus basses.\n",
    "\n",
    "Dans notre hypothèse d'un problème unidimensionnel, en développant le gradient, on obtient l'équation $\\vec{J_u} = - \\kappa \\dfrac{\\partial T}{\\partial x}\\vec{u}$, soit en projetant sur $Ox$, $J_u(x,t) = - \\kappa \\dfrac{\\partial T(x,t)}{\\partial x}$ Nous obtenons une équation à deux variables, la position x et le temps t, avec une dérivée partielle.\n",
    "\n",
    "## Comment obtenir cette équation?\n",
    "Nous allons l'établir en utilisant la loi de Fourier décrite ci-dessus et le principe de conservation d'énergie. Nous resterons dans le cadre du problème unidimensionnel, sachant que l'extension en dimension 2 ou 3 n'est pas très compliquée, mais trop lourde pour notre étude.\n",
    "\n",
    "Considérons un élément de volume dV orienté selon l'axe $Ox$ de propagation du flux d'énergie, limité par deux surfaces dS, l'une entrante et l'autre sortante, et d'épaisseur $dx$. Appelons $\\vec{J_uE}$ le vecteur de courant d'énergie volumique entrant et $\\vec{J_uS}$ le vecteur de courant d'énergie volumique sortant. Supposons que ces deux vecteurs soient normaux aux surfaces entrantes et sortantes.\n",
    "\n",
    "Cet élément de volume $dV$ est immobile et son énergie potentielle n'est pas modifiée par hypothèse. Selon le premier principe de la thermodynamique, la variation d'énergie interne dU n'est donc attribuable qu'à la variation $dQ$, le transfert thermique d'énergie.\n",
    "\n",
    "Calculons la variation d'énergie interne dans ce volume dV, de masse volumique $\\rho$, en utilisant la définition de $\\vec{J_u}$ donnée plus haut dans le cas unidimensionnel. Nous obtenons après simplification, en égalant $dU$ et $dQ$ :"
   ]
  },
  {
   "cell_type": "markdown",
   "metadata": {},
   "source": [
    "<!-- Equation labels as ordinary links -->\n",
    "<div id=\"_auto5\"></div>\n",
    "\n",
    "$$\n",
    "\\begin{equation}\n",
    "\\dfrac{\\partial(\\rho u)}{\\partial t}dx = -J_{u,x}(x + dx,t) + J_{u,x}(x,t)\n",
    "\\label{_auto5} \\tag{5}\n",
    "\\end{equation}\n",
    "$$"
   ]
  },
  {
   "cell_type": "markdown",
   "metadata": {},
   "source": [
    "En remarquant que $J_{u,x}(x + dx,t) - J_{u,x}(x,t)= \\dfrac{\\partial J_{u,x}}{\\partial x}dx$, on obtient finalement :"
   ]
  },
  {
   "cell_type": "markdown",
   "metadata": {},
   "source": [
    "<!-- Equation labels as ordinary links -->\n",
    "<div id=\"_auto6\"></div>\n",
    "\n",
    "$$\n",
    "\\begin{equation}\n",
    "\\dfrac{\\partial(\\rho u)}{\\partial t} = - \\dfrac{\\partial J_{u,x}}{\\partial x}\n",
    "\\label{_auto6} \\tag{6}\n",
    "\\end{equation}\n",
    "$$"
   ]
  },
  {
   "cell_type": "markdown",
   "metadata": {},
   "source": [
    "Dans cette dernière équation, remplaçons dans le terme de droite $J_{u,x}$ par sa définition donnée par la loi de Fourier, on obtient :\n",
    "\n",
    "$\\dfrac{\\partial(\\rho u)}{\\partial t} = - \\dfrac{\\partial}{\\partial x}(- \\kappa \\dfrac{\\partial T}{\\partial x})$ ou en condensant l'écriture :"
   ]
  },
  {
   "cell_type": "markdown",
   "metadata": {},
   "source": [
    "<!-- Equation labels as ordinary links -->\n",
    "<div id=\"_auto7\"></div>\n",
    "\n",
    "$$\n",
    "\\begin{equation}\n",
    "\\dfrac{\\partial(\\rho u)}{\\partial t} = \\kappa \\dfrac{\\partial^2 T}{\\partial x^2}\n",
    "\\label{_auto7} \\tag{7}\n",
    "\\end{equation}\n",
    "$$"
   ]
  },
  {
   "cell_type": "markdown",
   "metadata": {},
   "source": [
    "Vous aurez noté ici, si vous êtes attentifs, que j'ai considéré que $\\kappa$ était constant puisque je l'ai sorti de la dérivée sans autre forme de procès! C'est un peu osé, et vrai seulement si le milieu est isotrope (le matériaux est homogène) et si l'on ne chauffe pas trop fort ou trop vite, parce que sinon, il devient dépendant de la température.\n",
    "\n",
    "Reste maintenant à traiter le terme de gauche. Pour ce faire, je vais faire appel à l'expression de la capacité calorique qui relie les variations de l'énergie avec les variations de température. On peut donc écrire que, si $\\rho u$ désigne l'énergie interne volumique :"
   ]
  },
  {
   "cell_type": "markdown",
   "metadata": {},
   "source": [
    "<!-- Equation labels as ordinary links -->\n",
    "<div id=\"_auto8\"></div>\n",
    "\n",
    "$$\n",
    "\\begin{equation}\n",
    "\\dfrac{\\partial(\\rho u)}{\\partial t} = \\rho c_v \\dfrac{\\partial\n",
    "        T}{\\partial t}\n",
    "\\label{_auto8} \\tag{8}\n",
    "\\end{equation}\n",
    "$$"
   ]
  },
  {
   "cell_type": "markdown",
   "metadata": {},
   "source": [
    "avec $c_v$ la capacité thermique massique à volume constant.\n",
    "\n",
    "En reportant cette expression dans le terme de gauche de notre équation, j'obtiens :"
   ]
  },
  {
   "cell_type": "markdown",
   "metadata": {},
   "source": [
    "<!-- Equation labels as ordinary links -->\n",
    "<div id=\"_auto9\"></div>\n",
    "\n",
    "$$\n",
    "\\begin{equation}\n",
    "\\rho c_v \\dfrac{\\partial T}{\\partial t} = \\kappa \\dfrac{\\partial^2\n",
    "        T}{\\partial x^2}\n",
    "\\label{_auto9} \\tag{9}\n",
    "\\end{equation}\n",
    "$$"
   ]
  },
  {
   "cell_type": "markdown",
   "metadata": {},
   "source": [
    "soit en regroupant les termes constants à droite de l'équation :"
   ]
  },
  {
   "cell_type": "markdown",
   "metadata": {},
   "source": [
    "<!-- Equation labels as ordinary links -->\n",
    "<div id=\"_auto10\"></div>\n",
    "\n",
    "$$\n",
    "\\begin{equation}\n",
    "\\dfrac{\\partial T}{\\partial t} = \\dfrac{\\kappa}{\\rho c_v}\n",
    "        \\dfrac{\\partial^2 T}{\\partial x^2}\n",
    "\\label{_auto10} \\tag{10}\n",
    "\\end{equation}\n",
    "$$"
   ]
  },
  {
   "cell_type": "markdown",
   "metadata": {},
   "source": [
    "Pour simplifier l'écriture, je vais appeler $D$ le rapport $\\dfrac{\\kappa}{\\rho c_v}$. Ce paramètre est la diffusivité thermique du matériau constituant notre élément de volume. La dimension de $D$ est $m^2.s^{-1}$. Finalement, j'obtiens l'équation :"
   ]
  },
  {
   "cell_type": "markdown",
   "metadata": {},
   "source": [
    "<!-- Equation labels as ordinary links -->\n",
    "<div id=\"eq:diffT\"></div>\n",
    "\n",
    "$$\n",
    "\\begin{equation}\n",
    "\\label{eq:diffT} \\tag{11}\n",
    "\\dfrac{\\partial T}{\\partial t} = D \\dfrac{\\partial^2 T}{\\partial x^2}\n",
    "\\end{equation}\n",
    "$$"
   ]
  },
  {
   "cell_type": "markdown",
   "metadata": {},
   "source": [
    "qui constitue l'équation de diffusion thermique!\n",
    "\n",
    "## Résolution numérique de l'équation de diffusion thermique\n",
    "### Le modèle physique\n",
    "\n",
    "Nous allons considérer une barre métallique homogène de faible diamètre, de telle sorte que nous puissions négliger ses dimensions spatiales autre que sa longueur. Autrement dit, je m'arrange pour avoir un modèle approximativement 1D.\n",
    "\n",
    "Nous allons considérer que cette barre solide de longueur $L = 1m$ de coefficient de diffusion thermique $D \\approx 0.5 \\ m^2.s^{-1}$. La barre est initialement préparée dans un état de température $T(x, t<0) = T_0(x) = 100 C^\\circ$.\n",
    "\n",
    "À l'instant $t \\ge 0$, les extrémités de la barre spnt misent en contact avec deux sources de températures identiques $T_{extr} = 0 c^\\circ$, donc nous aurons:"
   ]
  },
  {
   "cell_type": "markdown",
   "metadata": {},
   "source": [
    "$$\n",
    "\\begin{align*}\n",
    "T(x = 0, t \\ge 0) = T(x = L, t \\ge 0) = T_{extr}\n",
    "\\end{align*}\n",
    "$$"
   ]
  },
  {
   "cell_type": "markdown",
   "metadata": {},
   "source": [
    "<!-- dom:FIGURE:[imgs/fig1.png, width=600 frac=0.7] Choc thermique sur une barre de longueur L. -->\n",
    "<!-- begin figure -->\n",
    "\n",
    "<p>Choc thermique sur une barre de longueur L.</p>\n",
    "<img src=\"imgs/fig1.png\" width=600>\n",
    "\n",
    "<!-- end figure -->\n",
    "\n",
    "\n",
    "La température $T(x, t)$ de la barre est solution de l'équation ([11](#eq:diffT)) de la diffusion thermique à 1D\n",
    "\n",
    "### Principe de la résolution numérique\n",
    "\n",
    "On recherche une solution numérique à ce problème par la classique méthode des *différences finies*.\n",
    "\n",
    "Supposons que nous cherchions l'évolution de $T(x,t)$ sur une durée totale $\\tau = 1 s$:\n",
    "* La barre est spatialement discrétisée en $N_x$ tronçons de longueur égale $\\Delta x = \\dfrac{L}{N_x}$. Ainsi, l'abscisse discrète $x_m$ est: $x_m = m * \\Delta x$ avec $m \\in [0, N_x]$.\n",
    "\n",
    "* De même, la durée totale de l'évolution est discrétisée en $N_t$ intervalles de durée $\\Delta t = \\dfrac{\\tau}{N_t}$. Ainsi, l'instant \"discret\" $t_n$ est: $t_n = n * \\Delta t$ avec $n \\in [0, N_t]$.\n",
    "\n",
    "On peut, par conséquent, poser la température discrétisée:"
   ]
  },
  {
   "cell_type": "markdown",
   "metadata": {},
   "source": [
    "$$\n",
    "\\begin{align*}\n",
    "T_{m,n} = T(m*\\Delta x, n* \\Delta t)\n",
    "\\end{align*}\n",
    "$$"
   ]
  },
  {
   "cell_type": "markdown",
   "metadata": {},
   "source": [
    "### Discrétisation du terme $\\dfrac{\\partial T}{\\partial t}$\n",
    "\n",
    "Pour $x$ fixe ($x=x_m$), $T(x_m, t)$ est de classe $C^1 $ sur $[0, \\tau]$ par rapport au temps.\n",
    "\n",
    "Soit le développement de Taylor à l'ordre 1:"
   ]
  },
  {
   "cell_type": "markdown",
   "metadata": {},
   "source": [
    "$$\n",
    "\\begin{align*}\n",
    "T(x_m, t_{n+1}) &= T(x_m, t_n+ \\Delta t) \\\\\n",
    " &\\approx T(x_m, t_n) + \\Delta t \\dfrac{\\partial T(x_m, t_n)}{\\partial t} + \\mathcal{O}(\\Delta t^2)\n",
    "\\end{align*}\n",
    "$$"
   ]
  },
  {
   "cell_type": "markdown",
   "metadata": {},
   "source": [
    "Nous revenons à l'expression explicite d'Euler déjà abordée dans le chapitre précédent. On peut donc avoir l'expression discrétisée du terme $\\dfrac{\\partial T}{\\partial t}$:"
   ]
  },
  {
   "cell_type": "markdown",
   "metadata": {},
   "source": [
    "<!-- Equation labels as ordinary links -->\n",
    "<div id=\"eq:terme1\"></div>\n",
    "\n",
    "$$\n",
    "\\begin{equation}\n",
    "\\label{eq:terme1} \\tag{12}\n",
    "\\dfrac{\\partial T(x_m, t_n)}{\\partial t} = \\dfrac{T(x_m, t_{n+1}) - T(x_m, t_n)}{\\Delta t}\n",
    "\\end{equation}\n",
    "$$"
   ]
  },
  {
   "cell_type": "markdown",
   "metadata": {},
   "source": [
    "### Discrétisation du terme $\\dfrac{\\partial^2 T}{\\partial x^2}$\n",
    "\n",
    "Pour $t$ fixe ($t=t_n$), $T(x, t_n)$ est de classe $C^2 $ sur $[0, L]$ par rapport à $x$.\n",
    "\n",
    "Soit le développement de Taylor à l'ordre 2:"
   ]
  },
  {
   "cell_type": "markdown",
   "metadata": {},
   "source": [
    "$$\n",
    "\\begin{align*}\n",
    "T(x_{m+1}, t_n) &= T(x_m + \\Delta x, t_n) \\\\\n",
    " &\\approx T(x_m, t_n) + \\Delta x \\dfrac{\\partial T(x_m, t_n)}{\\partial x} + \\dfrac{\\Delta x^2}{2!} \\dfrac{\\partial^2 T(x_m, t_n)}{\\partial x^2} + \\mathcal{O}(\\Delta t^3)\n",
    "\\end{align*}\n",
    "$$"
   ]
  },
  {
   "cell_type": "markdown",
   "metadata": {},
   "source": [
    "La dérivée première $\\dfrac{\\partial T(x_m, t_n)}{\\partial x}$ ne figure pas dans l'équation initiale (Eq. ([11](#eq:diffT))), il faut donc l'éliminer!\n",
    "\n",
    "**Notice.**\n",
    "\n",
    "L'idée est de faire une addition des développements en ($x_m + \\Delta x$) et en ($x_m - \\Delta x$)."
   ]
  },
  {
   "cell_type": "markdown",
   "metadata": {},
   "source": [
    "$$\n",
    "\\begin{align*}\n",
    "T(x_{m-1}, t_n) &= T(x_m - \\Delta x, t_n) \\\\\n",
    " &\\approx T(x_m, t_n) - \\Delta x \\dfrac{\\partial T(x_m, t_n)}{\\partial x} + \\dfrac{\\Delta x^2}{2!} \\dfrac{\\partial^2 T(x_m, t_n)}{\\partial x^2} + \\mathcal{O}(\\Delta t^3)\n",
    "\\end{align*}\n",
    "$$"
   ]
  },
  {
   "cell_type": "markdown",
   "metadata": {},
   "source": [
    "$$\n",
    "\\begin{align*}\n",
    "T(x_{m+1}, t_n) + T(x_{m-1}, t_n) &\\approx 2 T(x_m, t_n) + \\dfrac{2\\Delta x^2}{2!} \\dfrac{\\partial^2 T(x_m, t_n)}{\\partial x^2} + \\mathcal{O}(\\Delta t^3)\n",
    "\\end{align*}\n",
    "$$"
   ]
  },
  {
   "cell_type": "markdown",
   "metadata": {},
   "source": [
    "D'où l'expression discrétisée du terme $\\dfrac{\\partial^2 T}{\\partial x^2}$:"
   ]
  },
  {
   "cell_type": "markdown",
   "metadata": {},
   "source": [
    "<!-- Equation labels as ordinary links -->\n",
    "<div id=\"eq:terme2\"></div>\n",
    "\n",
    "$$\n",
    "\\begin{equation}\n",
    "\\label{eq:terme2} \\tag{13}\n",
    "\\dfrac{\\partial^2 T(x_m, t_n)}{\\partial x^2} = \\dfrac{T(x_{m+1}, t_n) - 2 T(x_m, t_n) + T(x_{m-1}, t_n)}{\\Delta x^2}\n",
    "\\end{equation}\n",
    "$$"
   ]
  },
  {
   "cell_type": "markdown",
   "metadata": {},
   "source": [
    "Remplaçons les équations ([12](#eq:terme1)) et ([13](#eq:terme2)) dans l'équation ([11](#eq:diffT)) de la diffusion thermique. Ainsi l'équation de la diffusion thermique 1D discrétisée s'écrit:"
   ]
  },
  {
   "cell_type": "markdown",
   "metadata": {},
   "source": [
    "<!-- Equation labels as ordinary links -->\n",
    "<div id=\"_auto11\"></div>\n",
    "\n",
    "$$\n",
    "\\begin{equation}\n",
    "\\dfrac{T(x_m, t_{n+1}) - T(x_m, t_n)}{\\Delta t} \\approx D \\dfrac{T(x_{m+1}, t_n) - 2 T(x_m, t_n) + T(x_{m-1}, t_n)}{\\Delta x^2}\n",
    "\\label{_auto11} \\tag{14}\n",
    "\\end{equation}\n",
    "$$"
   ]
  },
  {
   "cell_type": "markdown",
   "metadata": {},
   "source": [
    "D'où l'on tire finalement la relation de récurrence permettant d'obtenir la température en $x_m$ à l'instant $t_{n+1}$ en fonction des températures $T_{m,n}$, $T_{m+1,n}$ et $T_{m-1,n}$ calculées à l'instant $t_n$:"
   ]
  },
  {
   "cell_type": "markdown",
   "metadata": {},
   "source": [
    "<!-- Equation labels as ordinary links -->\n",
    "<div id=\"eq:diffTFinal\"></div>\n",
    "\n",
    "$$\n",
    "\\begin{equation}\n",
    "\\label{eq:diffTFinal} \\tag{15}\n",
    "T(x_m, t_{n+1}) \\approx T(x_m, t_n) + D \\dfrac{\\Delta t}{\\Delta x^2} \\left[T(x_{m+1}, t_n) - 2 T(x_m, t_n) + T(x_{m-1}, t_n) \\right]\n",
    "\\end{equation}\n",
    "$$"
   ]
  },
  {
   "cell_type": "markdown",
   "metadata": {},
   "source": [
    "**Notice.**\n",
    "\n",
    "On peut écrire l'expression ([15](#eq:diffTFinal)) avec la notation suivante:"
   ]
  },
  {
   "cell_type": "markdown",
   "metadata": {},
   "source": [
    "$$\n",
    "\\begin{align*}\n",
    "T_{m,n+1} \\approx T_{m,n} + D \\dfrac{\\Delta t}{\\Delta x^2} \\left[T_{m+1,n} - 2 T_{m,n} + T_{m-1,n} \\right]\n",
    "\\end{align*}\n",
    "$$"
   ]
  },
  {
   "cell_type": "markdown",
   "metadata": {},
   "source": [
    "### Code Python\n",
    "\n",
    "Le programme Python pour ce problème est:\n",
    "\n",
    "<!-- @@@CODE scripts/EDP_DiffChal.py -->"
   ]
  },
  {
   "cell_type": "code",
   "execution_count": 1,
   "metadata": {
    "collapsed": false
   },
   "outputs": [],
   "source": [
    "%matplotlib inline\n",
    "\n",
    "## NOM DU PROGRAMME: EDP_DiffChal.py\n",
    "#% IMPORTATION\n",
    "import numpy as np\n",
    "import matplotlib.pyplot as plt\n",
    "# DONNÉES NUMÉRIQUES\n",
    "L = 1 # Longueur de la barre [m]\n",
    "Nx = 100 # Nombre de tronçons\n",
    "tau = 1 # Durée totale de l'évolution [s]\n",
    "Nt = 10000 # Nombre d'intervalles de temps\n",
    "dx = L/Nx # Longueur du tronçon\n",
    "dt = tau/Nt # Intervalle élémentaire de temps\n",
    "D = 0.5 # Coefficient de diffusion thermique\n",
    "Tb = 100 # Température initiale de la barre\n",
    "Textr = 0 # Température des extrémités\n",
    "# Construction de axe des abscisses (variable espace x)\n",
    "x = np.linspace(0, L, Nx)\n",
    "# Construction CI ,CL (2 exemples pour la CI)\n",
    "T = [Textr] + (Nx - 2)*[Tb] + [Textr] # Echelon de temperature\n",
    "#T=Textr + (Tb-Textr ) * np.sin(np.pi*x/L) # Arche sinusoidale temperature\n",
    "# Construction du tableau vierge des accroissements de temperature\n",
    "accroissT = np.zeros(Nx)\n",
    "T[0] = 0\n",
    "plt.figure(figsize=(8, 6)) # Créer le graphique\n",
    "# Corps de la résolution\n",
    "for n in range(Nt): # Boucle d'évolution de temps pas à pas\n",
    "    for m in range(1, Nx-1): #boucle de calcul de accroissement de temperature pour chaque abscisse\n",
    "        accroissT[m] = ((dt*D)/(dx**2))*(T[m-1]-2*T[m]+T[m+1])\n",
    "    for m in range(1, Nx-1): # Boucle de calcul de T instant  suivant\n",
    "        T[m] += accroissT[m]\n",
    "    #Trace tous les 1000 intervalles de temps\n",
    "    if (n%1000 == 0):\n",
    "        plotlabel =\"t=%1.2f s\"%(n*dt)\n",
    "        plt.plot(x, T, label=plotlabel,lw = 4, color = plt.get_cmap('jet')(1-n/Nt))\n",
    "\n",
    "plt.grid()\n",
    "plt.xlabel(\"x [m]\", fontsize=14)\n",
    "plt.ylabel(\"T [C]\", fontsize=14)\n",
    "plt.title(\"Évolution de la température après le choc thermique\", weight =\"bold\")\n",
    "plt.legend(loc=1)\n",
    "plt.savefig(\"chaleur.png\"); plt.savefig(\"chaleur.pdf\")\n",
    "plt.tight_layout()\n",
    "plt.show()"
   ]
  },
  {
   "cell_type": "markdown",
   "metadata": {},
   "source": [
    "<!-- Lors de l'exécution de ce code, nous aurons comme sortie la figure ci-dessous: -->\n",
    "<!--  -->\n",
    "<!-- FIGURE:[scripts/chaleur, width=700 frac=0.8] -->\n",
    "\n",
    "Nous pouvons modifier le code ci-dessus pour créer une animation de l'évolution du système dans le temps:"
   ]
  },
  {
   "cell_type": "code",
   "execution_count": 2,
   "metadata": {
    "collapsed": false
   },
   "outputs": [],
   "source": [
    "## NOM DU PROGRAMME: EDP_DiffChalAnim.py\n",
    "#% IMPORTATION\n",
    "import numpy as np\n",
    "import matplotlib.pyplot as plt\n",
    "# DONNÉES NUMÉRIQUES\n",
    "L = 1 # Longueur de la barre [m]\n",
    "Nx = 100 # Nombre de tronçons\n",
    "tau = 1 # Durée totale de l'évolution [s]\n",
    "Nt = 10000 # Nombre d'intervalles de temps\n",
    "dx = L/Nx # Longueur du tronçon\n",
    "dt = tau/Nt # Intervalle élémentaire de temps\n",
    "D = 0.5 # Coefficient de diffusion thermique\n",
    "Tb = 100 # Température initiale de la barre\n",
    "Textr = 0 # Température des extrémités\n",
    "# Construction de axe des abscisses (variable espace x)\n",
    "x = np.linspace(0, L, Nx)\n",
    "# Construction CI ,CL (2 exemples pour la CI)\n",
    "T = [Textr] + (Nx - 2)*[Tb] + [Textr] # Echelon de temperature\n",
    "#T=Textr + (Tb-Textr ) * np.sin(np.pi*x/L) # Arche sinusoidale temperature\n",
    "# Construction du tableau vierge des accroissements de temperature\n",
    "accroissT = np.zeros(Nx)\n",
    "T[0] = 0\n",
    "\n",
    "# Corps de la résolution\n",
    "for n in range(Nt): # Boucle d'évolution de temps pas à pas\n",
    "    plt.clf()\n",
    "    for m in range(1, Nx-1): #boucle de calcul de accroissement de temperature pour chaque abscisse\n",
    "        accroissT[m] = ((dt*D)/(dx**2))*(T[m-1]-2*T[m]+T[m+1])\n",
    "    for m in range(1, Nx-1): # Boucle de calcul de T instant  suivant\n",
    "        T[m] += accroissT[m]  \n",
    "    if (n%100 == 0):    \n",
    "        plt.figure(1)\n",
    "        plotlabel =\"t=%1.2f s\"%(n*dt)\n",
    "        plt.plot(x, T, lw = 4, label=plotlabel, color = plt.get_cmap('jet')(1-n/Nt))\n",
    "            \n",
    "        plt.grid()\n",
    "        plt.xlabel(\"x [m]\", fontsize=14)\n",
    "        plt.ylabel(\"T [C]\", fontsize=14)\n",
    "        plt.title(\"Évolution de la température après le choc thermique\", weight =\"bold\")\n",
    "        plt.legend(loc=1)\n",
    "        plt.axis([0,L,0,100])\n",
    "        \n",
    "        plt.tight_layout()\n",
    "        plt.show()\n",
    "\n",
    "        plt.pause(0.001)"
   ]
  },
  {
   "cell_type": "markdown",
   "metadata": {},
   "source": [
    "Lors de l'exécution de ce code, nous aurons l'animation ci-dessous:\n",
    "\n",
    "<!-- dom:FIGURE:[scripts/anim/myimage.gif, width=500 frac=0.8] -->\n",
    "<!-- begin figure -->\n",
    "\n",
    "<p></p>\n",
    "<img src=\"scripts/anim/myimage.gif\" width=500>\n",
    "\n",
    "<!-- end figure -->\n",
    "\n",
    "\n",
    "<!-- ======= L'équation de Schrödinger \"time-dependent\" ======= -->\n",
    "<!--  -->\n",
    "<!-- Soit une particule, un électron pour fixer les idées, qui se déplace dans un espace unidimensionnel. Pour étudier son mouvement, nous allons fixer un référentiel. L'apparition de ce mot \"référentiel\" devrait vous interpeler : la relativité n'est pas loin ! On ne va pas se compliquer la vie et on considérera que la vitesse de la particule est petite devant c, un électron non relativiste. Pour rappel, si la particule est relativiste, ne surtout pas utiliser Schrödinger... -->\n",
    "<!--  -->\n",
    "<!-- Cet électron bouge dans un espace où il peut subir des interactions avec d'autres systèmes physiques. Dans ce cas, on modélisera ces interactions par une énergie potentielle notée U(x,t). Si l'électron ne subit aucune interaction, U(x,t) sera nulle et notre électron sera dit \"libre\". -->\n",
    "<!--  -->\n",
    "<!-- L'équation, analogue à notre deuxième loi de Newton, qui décrit le mouvement de l'électron dans l'espace et le temps est l'équation de Schrödinger. Plus précisément, elle décrit l'évolution de la fonction d'onde qui elle-même décrit l'état quantique de l'électron. Sa forme unidimensionnelle s'écrit : -->\n",
    "<!-- !bt -->\n",
    "<!-- \\begin{align} -->\n",
    "<!-- i\\hbar \\dfrac{\\partial \\Psi -->\n",
    "<!-- (x,t)}{\\partial t} = -\\dfrac{\\hbar ^2}{2m_e} \\dfrac{\\partial^2 \\Psi -->\n",
    "<!-- (x,t)}{\\partial x^2} + U(x)\\Psi(x,t) -->\n",
    "<!-- \\end{align} -->\n",
    "<!-- !et -->\n",
    "<!-- avec $m_e$ la masse de l'électron et $\\hbar$ la constante de Planck réduite. Je choisis d'utiliser une fonction potentiel U stationnaire (indépendante du temps). -->\n",
    "<!--  -->\n",
    "<!-- C'est une équation linéaire de premier ordre par rapport au temps. Linéaire, c'est à dire que toute combinaison linéaire de solutions particulières de l'équation est aussi solution de l'équation. De premier ordre par rapport au temps, c'est à dire que la connaissance de l'état quantique de la particule à un instant donné, considéré comme l'instant initial $t_0$, permet de calculer son état quantique à n'importe quel instant postérieur à $t_0$. -->\n",
    "<!-- ===== L'énoncé du problème ===== -->\n",
    "<!-- On enferme un électron dans une boite quantique, c'est à dire qu'on se cantonne dans un espace fermé par des barrières de potentiel infini. Nous resterons dans un espace unidimensionnel, ce qui nous donne le schéma suivant de boîte : -->\n",
    "<!--  -->\n",
    "<!-- FIGURE:[imgs/Schro1D_4, width=500 frac=0.8] -->\n",
    "<!--  -->\n",
    "<!-- Dans cette boîte, nous déposons un électron et nous voulons déterminer son mouvement. Pour l'instant, notre électron ne rencontre aucune barrière de potentiel dans sa boîte. Il est libre... dans sa boîte ! La fonction U(x) est donc constante et nulle dans la boîte. -->\n",
    "<!--  -->\n",
    "<!-- ===== La simulation de l'évolution d'un électron libre U(x) = 0 ===== -->\n",
    "<!--  -->\n",
    "<!-- L'équation de Schrödinger 1D avec U(x) = 0, que l'on écrit $i\\hbar \\dfrac{\\partial \\Psi (x,t)}{\\partial t} = -\\dfrac{\\hbar ^2}{2m} \\dfrac{\\partial^2 \\Psi (x,t)}{\\partial x^2}$ st parfaitement intégrable analytiquement! D'ailleurs, je vous invite à la comparer avec une autre équation que nous avons déjà rencontré: $\\dfrac{\\partial T}{\\partial t} = D \\dfrac{\\partial^2 T}{\\partial x^2}$, [l'équation de diffusion thermique!](https://codetunisia.github.io/SN2HAP2019/cours2/cours2-bs.html#___sec1)  Dans les deux cas, la transformée de Fourier est l'outil privilégié pour ces calculs. -->\n",
    "<!--  -->\n",
    "<!-- === La discrétisation de Schrödinger === -->\n",
    "<!-- La première étape consiste à discrétiser l'équation de Schrödinger. Reprenons donc notre équation de Schrödinger time-dependent dans un espace unidimensionnel : -->\n",
    "<!--  -->\n",
    "<!-- !bt -->\n",
    "<!-- \\begin{align} -->\n",
    "<!-- i\\hbar \\dfrac{\\partial \\Psi (x,t)}{\\partial t} = -\\dfrac{\\hbar -->\n",
    "<!-- ^2}{2m} \\dfrac{\\partial^2 \\Psi (x,t)}{\\partial x^2} + U(x)\\Psi(x,t) -->\n",
    "<!-- \\end{align} -->\n",
    "<!-- !et -->\n",
    "<!-- La fonction $\\Psi(x,t)$ est une fonction complexe. Je vais la décomposer en sa partie réelle $\\Psi_R(x,t)$ et sa partie imaginaire $\\Psi_I(x,t)$ et écrire deux équations l'une portant sur sa partie réelle et l'autre sur sa partie imaginaire, ce qui, en réorganisant notre équation de Schrödinger pour isoler à gauche la dérivée partielle temporelle, nous donne le couple d'équations : -->\n",
    "<!-- !bt -->\n",
    "<!-- \\begin{align} -->\n",
    "<!-- \\dfrac{\\partial \\Psi_R (x,t)}{\\partial t} &= -\\dfrac{\\hbar}{2m} -->\n",
    "<!-- \\dfrac{\\partial^2 \\Psi_I (x,t)}{\\partial x^2} + -->\n",
    "<!-- \\dfrac{1}{\\hbar}U(x)\\Psi_I(x,t) \\\\ -->\n",
    "<!--  -->\n",
    "<!-- \\dfrac{\\partial \\Psi_I (x,t)}{\\partial t} &= \\dfrac{\\hbar}{2m} -->\n",
    "<!-- \\dfrac{\\partial^2 \\Psi_R (x,t)}{\\partial x^2} - -->\n",
    "<!-- \\dfrac{1}{\\hbar}U(x)\\Psi_R(x,t) -->\n",
    "<!-- \\end{align} -->\n",
    "<!-- !et -->\n",
    "<!--  -->\n",
    "<!-- Comme d'habitude je vais discrétiser les dérivées partielles en faisant un DL d'ordre 1 : -->\n",
    "<!--  -->\n",
    "<!-- !bt -->\n",
    "<!-- \\begin{align} -->\n",
    "<!-- \\dfrac{\\partial \\Psi(x,t)}{\\partial t} &\\approx \\dfrac{\\Psi(x, -->\n",
    "<!-- t+\\Delta t) - \\Psi(x,t)}{\\Delta t} \\\\ -->\n",
    "<!--  -->\n",
    "<!-- \\dfrac{\\partial^2 \\Psi(x,t)}{\\partial x^2} &\\approx -->\n",
    "<!-- \\dfrac{\\Psi(x+\\Delta x,t) - 2\\Psi(x,t) + \\Psi(x - \\Delta x,t)}{{\\Delta -->\n",
    "<!-- x}^2} -->\n",
    "<!-- \\end{align} -->\n",
    "<!-- !et -->\n",
    "<!--  -->\n",
    "<!-- Nous obtenons finalement les équations discrètes, avec $i$ l'indice sur le vecteur $x$ : -->\n",
    "<!-- !bt -->\n",
    "<!-- \\begin{align} -->\n",
    "<!-- \\Psi_R(i)  &= \\Psi_R(i) - \\dfrac{\\hbar \\Delta t }{2m{\\Delta -->\n",
    "<!-- x}^2}\\left( \\Psi_I(i+1) - 2\\Psi_I(i) + \\Psi_I(i-1)  \\right)  + \\dfrac{e -->\n",
    "<!-- \\Delta t}{\\hbar}  U(i) \\Psi_I(i) \\\\ -->\n",
    "<!--  -->\n",
    "<!-- \\Psi_I(i)  &= \\Psi_I(i) + \\dfrac{\\hbar \\Delta t }{2m{\\Delta -->\n",
    "<!-- x}^2}\\left( \\Psi_R(i+1) - 2\\Psi_R(i) + \\Psi_R(i-1)  \\right)  - \\dfrac{e -->\n",
    "<!-- \\Delta t}{\\hbar}  U(i) \\Psi_R(i) -->\n",
    "<!-- \\end{align} -->\n",
    "<!-- !et -->\n",
    "<!--  -->\n",
    "<!-- Une petite remarque : j'ai introduit la charge élémentaire e dans la valeur du coefficient affectant l'énergie potentielle U : c'est parce que j'exprime dans mon code U en eV, il faut donc effectuer la conversion eV/Joule. -->\n",
    "<!--  -->\n",
    "<!-- Dans mon code, j'ai défini $a_2 = \\dfrac{\\hbar \\Delta t}{2m{\\Delta x}^2} = 0.1$, il faut bien faire un choix, ce qui me donne la contrainte sur $\\Delta t$ suivante, codée dans la variable `dt : dt = a2*2*m_e*dx**2/hbar`. -->\n",
    "<!--  -->\n",
    "<!-- === Le code Python === -->\n",
    "<!--  -->\n",
    "<!-- __La propagation du paquet d'ondes__ -->\n",
    "<!--  -->\n",
    "<!-- Le programme Python pour ce problème est: -->\n",
    "<!--  -->\n",
    "<!-- @@@CODE scripts/Schrodinger_1DLibre.py -->\n",
    "<!--  -->\n",
    "<!-- Lors de l'exécution de ce code, nous aurons l'animation ci-dessous: -->\n",
    "<!--  -->\n",
    "<!-- FIGURE:[scripts/anim2/myimage, width=500 frac=0.8] -->\n",
    "<!--  -->\n",
    "<!-- __Cas d'une barrière de potentiel__ -->\n",
    "<!-- Le programme Python pour ce problème est: -->\n",
    "<!--  -->\n",
    "<!-- @@@CODE scripts/Schrodinger_1DBar.py -->\n",
    "<!--  -->\n",
    "<!-- Lors de l'exécution de ce code, nous aurons l'animation ci-dessous: -->\n",
    "<!--  -->\n",
    "<!-- FIGURE:[scripts/anim3/myimage, width=500 frac=0.8] -->"
   ]
  }
 ],
 "metadata": {},
 "nbformat": 4,
 "nbformat_minor": 2
}
