{
 "cells": [
  {
   "cell_type": "markdown",
   "metadata": {},
   "source": [
    "<!-- dom:TITLE: Résolution des équations aux dérivées partielles -->\n",
    "# Résolution des équations aux dérivées partielles\n",
    "<!-- dom:AUTHOR: Ahmed Ammar Email:ahmed.ammar@fst.utm.tn at Institut Préparatoire aux Études Scientifiques et Techniques, Université de Carthage. -->\n",
    "<!-- Author: -->  \n",
    "**Ahmed Ammar** (email: `ahmed.ammar@fst.utm.tn`), Institut Préparatoire aux Études Scientifiques et Techniques, Université de Carthage.\n",
    "\n",
    "Date: **Apr 15, 2020**\n",
    "\n",
    "Copyright 2020, Ahmed Ammar. Released under CC Attribution 4.0 license\n",
    "\n",
    "\n",
    "\n",
    "<!-- TOC: on -->\n",
    "# Introduction\n",
    "Il existe trois types d'équations aux dérivées partielles.\n",
    "* Des équations telles que l'équation d'onde,"
   ]
  },
  {
   "cell_type": "markdown",
   "metadata": {},
   "source": [
    "<!-- Equation labels as ordinary links -->\n",
    "<div id=\"_auto1\"></div>\n",
    "\n",
    "$$\n",
    "\\begin{equation}\n",
    "\\frac{\\partial^2 u}{\\partial t^2} =  c^2 \\frac{\\partial^2 u}{\\partial x^2}\n",
    "\\label{_auto1} \\tag{1}\n",
    "\\end{equation}\n",
    "$$"
   ]
  },
  {
   "cell_type": "markdown",
   "metadata": {},
   "source": [
    "où $u (t, x)$ est une fonction de déplacement et $c$ une vitesse constante, sont connues sous le nom d'équations hyperboliques.\n",
    "* Des équations telles que l'équation de diffusion,"
   ]
  },
  {
   "cell_type": "markdown",
   "metadata": {},
   "source": [
    "<!-- Equation labels as ordinary links -->\n",
    "<div id=\"_auto2\"></div>\n",
    "\n",
    "$$\n",
    "\\begin{equation}\n",
    "\\frac{\\partial u}{\\partial t} =  \\frac{\\partial}{\\partial x} \\left( D \\frac{\\partial u}{\\partial x}\\right)\n",
    "\\label{_auto2} \\tag{2}\n",
    "\\end{equation}\n",
    "$$"
   ]
  },
  {
   "cell_type": "markdown",
   "metadata": {},
   "source": [
    "où $u (t, x)$ est le champ de densité et $D$ le coefficient de diffusion sont appelés équations paraboliques. L'équation de Schrödinger en fonction du temps est un autre exemple d'équation parabolique.\n",
    "* Des équations telles que l'équation de Poisson,"
   ]
  },
  {
   "cell_type": "markdown",
   "metadata": {},
   "source": [
    "<!-- Equation labels as ordinary links -->\n",
    "<div id=\"_auto3\"></div>\n",
    "\n",
    "$$\n",
    "\\begin{equation}\n",
    "\\frac{\\partial^2 u}{\\partial x^2} + \\frac{\\partial^2 u}{\\partial y^2} + \\frac{\\partial^2 u}{\\partial z^2} = - \\frac{\\rho(x, y, z)}{\\epsilon_0}\n",
    "\\label{_auto3} \\tag{3}\n",
    "\\end{equation}\n",
    "$$"
   ]
  },
  {
   "cell_type": "markdown",
   "metadata": {},
   "source": [
    "où $u (x, y, z)$ est une fonction potentielle et $\\rho/ \\epsilon_0$ est une source, appelées équations elliptiques. L'équation de Schrödinger indépendante du temps est un autre exemple d'équation elliptique.\n",
    "\n",
    "On trouve des équations hyperboliques ou paraboliques dans les problèmes de valeurs initiales: la configuration du champ $u (t, x)$ est spécifiée à un moment initial et évolue dans le temps. Les équations elliptiques se retrouvent dans les problèmes de valeur limite: la valeur du champ $u (x, y, z)$ est spécifiée sur la limite d'une région et nous cherchons la solution à travers l'intérieur.\n",
    "\n",
    "# Équation de diffusion thermique\n",
    "\n",
    "L'équation de diffusion thermique est historiquement liée à Joseph Fourier. Ce dernier naquit en 1768 à Auxerre, où il étudie dans une école militaire. Fin 1794, il est élève à Normale Sup et en 1795-1796, il enseigne la physique à Normale Sup et à l'X. Il débute ses travaux sur la chaleur en 1802 lorsqu'il est nommé préfet de l'Isère par Napoléon. Il publie sa théorie sur la chaleur (et l'analyse de Fourier) en 1822. Il est élu à l'Académie française en 1826 et décédé à Paris en 1830.\n",
    "\n",
    "<!-- dom:FIGURE:[imgs/JFourier.jpg, width=600 frac=0.7] Gravure du mathématicien Jean Baptiste Joseph Fourier (1768-1830). [source 1: Article de **CNRS Le journal**, [Joseph Fourier transforme toujours la science](https://lejournal.cnrs.fr/articles/joseph-fourier-transforme-toujours-la-science)] -->\n",
    "<!-- begin figure -->\n",
    "\n",
    "<p>Gravure du mathématicien Jean Baptiste Joseph Fourier (1768-1830). [source 1: Article de <b>CNRS Le journal</b>, [Joseph Fourier transforme toujours la science](https://lejournal.cnrs.fr/articles/joseph-fourier-transforme-toujours-la-science)]</p>\n",
    "<img src=\"imgs/JFourier.jpg\" width=600>\n",
    "\n",
    "<!-- end figure -->\n",
    "\n",
    "\n",
    "## La conduction thermique dans les solides\n",
    "Dans les solides, les molécules ou les atomes sont figés dans un réseau maillé qui empêchent les grands déplacements. Le seul mouvement possible est un mouvement de vibration autour de leur position d'équilibre dans le réseau. Le transfert thermique d'énergie se traduit par une augmentation plus ou moins grande de l'amplitude de ces vibrations. Lorsque l'énergie apportée est suffisante pour que l'amplitude de la vibration dépasse une certaine valeur dépendante du réseau, alors les molécules se libèrent du réseau et le solide fond et s'évapore...\n",
    "\n",
    "Le cas des métaux est un peu particulier : eux possèdent des électrons de conduction, qui circulent librement sur le réseau du solide. Ces électrons se comportent comme les molécules d'un gaz (on parle de gaz d'électrons) et dans ce cas, à l'augmentation de l'amplitude des vibrations sur le réseau s'ajoute le transfert d'énergie cinétique des électrons rapides, \"chauds\" vers les électrons lents, \"froids\".\n",
    "## Notion de flux d'énergie\n",
    "La notion de flux d'énergie est très courante en physique. Nous l'avons déjà rencontré sous le nom d'intensité du courant électrique. Dans ce cas, il s'agit du flux de charges électriques qui traversent une surface unitaire donnée par unité de temps. Nous l'avons noté:"
   ]
  },
  {
   "cell_type": "markdown",
   "metadata": {},
   "source": [
    "<!-- Equation labels as ordinary links -->\n",
    "<div id=\"_auto4\"></div>\n",
    "\n",
    "$$\n",
    "\\begin{equation}\n",
    "I_q = \\dfrac{dQ}{dt}\n",
    "\\label{_auto4} \\tag{4}\n",
    "\\end{equation}\n",
    "$$"
   ]
  },
  {
   "cell_type": "markdown",
   "metadata": {},
   "source": [
    "Par analogie, on définit le flux thermique, plus exactement le flux d'énergie interne par $I_u = \\dfrac{dU}{dt}$. C'est la quantité d'énergie interne U qui traverse, sans travail, une surface unitaire par unité de temps.\n",
    "\n",
    "Pour l'exprimer plus précisément, on introduit un nouvel objet par analogie avec le courant électrique. Il s'agit du vecteur de courant volumique d'énergie interne sans travail noté classiquement $\\vec{J_u}$ et souvent nommé improprement \"vecteur courant thermique\", ce qui nous permet d'écrire l'expression du flux de ce vecteur à travers une surface dS orientée vers l'extérieur par le vecteur normal $\\vec{n}$ , ce qui nous donne $I_u = \\int_S \\vec{J_u} . \\vec{n} dS$. Le signe de $I_u$ dépend du sens du flux à travers la surface. Il est négatif pour le flux entrant et positif pour le flux sortant (pensez au signe du produit scalaire sous l'intégrale...).\n",
    "\n",
    "## L'expression de la loi de Fourier\n",
    "Après ces préambules utiles, venons en à la loi de Fourier proprement dite. La conduction thermique est un transfert thermique spontané d'une région de température élevée vers une région de température plus basse, et est décrite par la loi dite de Fourier établie mathématiquement par Jean-Baptiste Biot en 1804 puis expérimentalement par Fourier en 1822 : la densité de flux de chaleur est proportionnelle au gradient de température.\n",
    "\n",
    "Pour faire simple, ici et dans la suite, on va se placer dans le cadre d'un problème unidimensionnel, c'est à dire que le transfert thermique d'énergie se fait sur une dimension $Ox$.\n",
    "\n",
    "La loi de Fourier relie, après constat expérimental, le vecteur de courant volumique d'énergie interne sans travail $\\vec{J_u}$ avec le gradient de température $\\vec{grad} T$. La relation est linéaire et s'écrit $\\vec{J_u} = - \\kappa \\ \\vec{grad} T$. La linéarité de l'équation n'est due qu'aux approximations que nous avons fixé à son domaine de validité, comme pour la loi d'Ohm.\n",
    "\n",
    "Le paramètre $\\kappa$ est appelé conductivité thermique, toujours positif, de dimension $W.m^{-1}.K^{-1}$. Notez la présence du signe $-$, qui résulte du second principe de la thermodynamique : le flux d'énergie va des régions aux températures les plus hautes vers les régions aux températures les plus basses.\n",
    "\n",
    "Dans notre hypothèse d'un problème unidimensionnel, en développant le gradient, on obtient l'équation $\\vec{J_u} = - \\kappa \\dfrac{\\partial T}{\\partial x}\\vec{u}$, soit en projetant sur $Ox$, $J_u(x,t) = - \\kappa \\dfrac{\\partial T(x,t)}{\\partial x}$ Nous obtenons une équation à deux variables, la position x et le temps t, avec une dérivée partielle.\n",
    "\n",
    "## Comment obtenir cette équation?\n",
    "Nous allons l'établir en utilisant la loi de Fourier décrite ci-dessus et le principe de conservation d'énergie. Nous resterons dans le cadre du problème unidimensionnel, sachant que l'extension en dimension 2 ou 3 n'est pas très compliquée, mais trop lourde pour notre étude.\n",
    "\n",
    "Considérons un élément de volume dV orienté selon l'axe $Ox$ de propagation du flux d'énergie, limité par deux surfaces dS, l'une entrante et l'autre sortante, et d'épaisseur $dx$. Appelons $\\vec{J_uE}$ le vecteur de courant d'énergie volumique entrant et $\\vec{J_uS}$ le vecteur de courant d'énergie volumique sortant. Supposons que ces deux vecteurs soient normaux aux surfaces entrantes et sortantes.\n",
    "\n",
    "Cet élément de volume $dV$ est immobile et son énergie potentielle n'est pas modifiée par hypothèse. Selon le premier principe de la thermodynamique, la variation d'énergie interne dU n'est donc attribuable qu'à la variation $dQ$, le transfert thermique d'énergie.\n",
    "\n",
    "Calculons la variation d'énergie interne dans ce volume dV, de masse volumique $\\rho$, en utilisant la définition de $\\vec{J_u}$ donnée plus haut dans le cas unidimensionnel. Nous obtenons après simplification, en égalant $dU$ et $dQ$ :"
   ]
  },
  {
   "cell_type": "markdown",
   "metadata": {},
   "source": [
    "<!-- Equation labels as ordinary links -->\n",
    "<div id=\"_auto5\"></div>\n",
    "\n",
    "$$\n",
    "\\begin{equation}\n",
    "\\dfrac{\\partial(\\rho u)}{\\partial t}dx = -J_{u,x}(x + dx,t) + J_{u,x}(x,t)\n",
    "\\label{_auto5} \\tag{5}\n",
    "\\end{equation}\n",
    "$$"
   ]
  },
  {
   "cell_type": "markdown",
   "metadata": {},
   "source": [
    "En remarquant que $J_{u,x}(x + dx,t) - J_{u,x}(x,t)= \\dfrac{\\partial J_{u,x}}{\\partial x}dx$, on obtient finalement :"
   ]
  },
  {
   "cell_type": "markdown",
   "metadata": {},
   "source": [
    "<!-- Equation labels as ordinary links -->\n",
    "<div id=\"_auto6\"></div>\n",
    "\n",
    "$$\n",
    "\\begin{equation}\n",
    "\\dfrac{\\partial(\\rho u)}{\\partial t} = - \\dfrac{\\partial J_{u,x}}{\\partial x}\n",
    "\\label{_auto6} \\tag{6}\n",
    "\\end{equation}\n",
    "$$"
   ]
  },
  {
   "cell_type": "markdown",
   "metadata": {},
   "source": [
    "Dans cette dernière équation, remplaçons dans le terme de droite $J_{u,x}$ par sa définition donnée par la loi de Fourier, on obtient :\n",
    "\n",
    "$\\dfrac{\\partial(\\rho u)}{\\partial t} = - \\dfrac{\\partial}{\\partial x}(- \\kappa \\dfrac{\\partial T}{\\partial x})$ ou en condensant l'écriture :"
   ]
  },
  {
   "cell_type": "markdown",
   "metadata": {},
   "source": [
    "<!-- Equation labels as ordinary links -->\n",
    "<div id=\"_auto7\"></div>\n",
    "\n",
    "$$\n",
    "\\begin{equation}\n",
    "\\dfrac{\\partial(\\rho u)}{\\partial t} = \\kappa \\dfrac{\\partial^2 T}{\\partial x^2}\n",
    "\\label{_auto7} \\tag{7}\n",
    "\\end{equation}\n",
    "$$"
   ]
  },
  {
   "cell_type": "markdown",
   "metadata": {},
   "source": [
    "Vous aurez noté ici, si vous êtes attentifs, que j'ai considéré que $\\kappa$ était constant puisque je l'ai sorti de la dérivée sans autre forme de procès! C'est un peu osé, et vrai seulement si le milieu est isotrope (le matériaux est homogène) et si l'on ne chauffe pas trop fort ou trop vite, parce que sinon, il devient dépendant de la température.\n",
    "\n",
    "Reste maintenant à traiter le terme de gauche. Pour ce faire, je vais faire appel à l'expression de la capacité calorique qui relie les variations de l'énergie avec les variations de température. On peut donc écrire que, si $\\rho u$ désigne l'énergie interne volumique :"
   ]
  },
  {
   "cell_type": "markdown",
   "metadata": {},
   "source": [
    "<!-- Equation labels as ordinary links -->\n",
    "<div id=\"_auto8\"></div>\n",
    "\n",
    "$$\n",
    "\\begin{equation}\n",
    "\\dfrac{\\partial(\\rho u)}{\\partial t} = \\rho c_v \\dfrac{\\partial\n",
    "        T}{\\partial t}\n",
    "\\label{_auto8} \\tag{8}\n",
    "\\end{equation}\n",
    "$$"
   ]
  },
  {
   "cell_type": "markdown",
   "metadata": {},
   "source": [
    "avec $c_v$ la capacité thermique massique à volume constant.\n",
    "\n",
    "En reportant cette expression dans le terme de gauche de notre équation, j'obtiens :"
   ]
  },
  {
   "cell_type": "markdown",
   "metadata": {},
   "source": [
    "<!-- Equation labels as ordinary links -->\n",
    "<div id=\"_auto9\"></div>\n",
    "\n",
    "$$\n",
    "\\begin{equation}\n",
    "\\rho c_v \\dfrac{\\partial T}{\\partial t} = \\kappa \\dfrac{\\partial^2\n",
    "        T}{\\partial x^2}\n",
    "\\label{_auto9} \\tag{9}\n",
    "\\end{equation}\n",
    "$$"
   ]
  },
  {
   "cell_type": "markdown",
   "metadata": {},
   "source": [
    "soit en regroupant les termes constants à droite de l'équation :"
   ]
  },
  {
   "cell_type": "markdown",
   "metadata": {},
   "source": [
    "<!-- Equation labels as ordinary links -->\n",
    "<div id=\"_auto10\"></div>\n",
    "\n",
    "$$\n",
    "\\begin{equation}\n",
    "\\dfrac{\\partial T}{\\partial t} = \\dfrac{\\kappa}{\\rho c_v}\n",
    "        \\dfrac{\\partial^2 T}{\\partial x^2}\n",
    "\\label{_auto10} \\tag{10}\n",
    "\\end{equation}\n",
    "$$"
   ]
  },
  {
   "cell_type": "markdown",
   "metadata": {},
   "source": [
    "Pour simplifier l'écriture, je vais appeler $D$ le rapport $\\dfrac{\\kappa}{\\rho c_v}$. Ce paramètre est la diffusivité thermique du matériau constituant notre élément de volume. La dimension de $D$ est $m^2.s^{-1}$. Finalement, j'obtiens l'équation :"
   ]
  },
  {
   "cell_type": "markdown",
   "metadata": {},
   "source": [
    "<!-- Equation labels as ordinary links -->\n",
    "<div id=\"eq:diffT\"></div>\n",
    "\n",
    "$$\n",
    "\\begin{equation}\n",
    "\\label{eq:diffT} \\tag{11}\n",
    "\\dfrac{\\partial T}{\\partial t} = D \\dfrac{\\partial^2 T}{\\partial x^2}\n",
    "\\end{equation}\n",
    "$$"
   ]
  },
  {
   "cell_type": "markdown",
   "metadata": {},
   "source": [
    "qui constitue l'équation de diffusion thermique!\n",
    "\n",
    "## Résolution numérique de l'équation de diffusion thermique\n",
    "### Le modèle physique\n",
    "\n",
    "Nous allons considérer une barre métallique homogène de faible diamètre, de telle sorte que nous puissions négliger ses dimensions spatiales autre que sa longueur. Autrement dit, je m'arrange pour avoir un modèle approximativement 1D.\n",
    "\n",
    "Nous allons considérer que cette barre solide de longueur $L = 1m$ de coefficient de diffusion thermique $D \\approx 0.5 \\ m^2.s^{-1}$. La barre est initialement préparée dans un état de température $T(x, t<0) = T_0(x) = 100 C^\\circ$.\n",
    "\n",
    "À l'instant $t \\ge 0$, les extrémités de la barre spnt misent en contact avec deux sources de températures identiques $T_{extr} = 0 c^\\circ$, donc nous aurons:"
   ]
  },
  {
   "cell_type": "markdown",
   "metadata": {},
   "source": [
    "$$\n",
    "\\begin{align*}\n",
    "T(x = 0, t \\ge 0) = T(x = L, t \\ge 0) = T_{extr}\n",
    "\\end{align*}\n",
    "$$"
   ]
  },
  {
   "cell_type": "markdown",
   "metadata": {},
   "source": [
    "<!-- dom:FIGURE:[imgs/fig1.png, width=600 frac=0.7] Choc thermique sur une barre de longueur L. -->\n",
    "<!-- begin figure -->\n",
    "\n",
    "<p>Choc thermique sur une barre de longueur L.</p>\n",
    "<img src=\"imgs/fig1.png\" width=600>\n",
    "\n",
    "<!-- end figure -->\n",
    "\n",
    "\n",
    "La température $T(x, t)$ de la barre est solution de l'équation ([11](#eq:diffT)) de la diffusion thermique à 1D\n",
    "\n",
    "### Principe de la résolution numérique\n",
    "\n",
    "On recherche une solution numérique à ce problème par la classique méthode des *différences finies*.\n",
    "\n",
    "Supposons que nous cherchions l'évolution de $T(x,t)$ sur une durée totale $\\tau = 1 s$:\n",
    "* La barre est spatialement discrétisée en $N_x$ tronçons de longueur égale $\\Delta x = \\dfrac{L}{N_x}$. Ainsi, l'abscisse discrète $x_m$ est: $x_m = m * \\Delta x$ avec $m \\in [0, N_x]$.\n",
    "\n",
    "* De même, la durée totale de l'évolution est discrétisée en $N_t$ intervalles de durée $\\Delta t = \\dfrac{\\tau}{N_t}$. Ainsi, l'instant \"discret\" $t_n$ est: $t_n = n * \\Delta t$ avec $n \\in [0, N_t]$.\n",
    "\n",
    "On peut, par conséquent, poser la température discrétisée:"
   ]
  },
  {
   "cell_type": "markdown",
   "metadata": {},
   "source": [
    "$$\n",
    "\\begin{align*}\n",
    "T_{m,n} = T(m*\\Delta x, n* \\Delta t)\n",
    "\\end{align*}\n",
    "$$"
   ]
  },
  {
   "cell_type": "markdown",
   "metadata": {},
   "source": [
    "### Discrétisation du terme $\\dfrac{\\partial T}{\\partial t}$\n",
    "\n",
    "Pour $x$ fixe ($x=x_m$), $T(x_m, t)$ est de classe $C^1 $ sur $[0, \\tau]$ par rapport au temps.\n",
    "\n",
    "Soit le développement de Taylor à l'ordre 1:"
   ]
  },
  {
   "cell_type": "markdown",
   "metadata": {},
   "source": [
    "$$\n",
    "\\begin{align*}\n",
    "T(x_m, t_{n+1}) &= T(x_m, t_n+ \\Delta t) \\\\\n",
    " &\\approx T(x_m, t_n) + \\Delta t \\dfrac{\\partial T(x_m, t_n)}{\\partial t} + \\mathcal{O}(\\Delta t^2)\n",
    "\\end{align*}\n",
    "$$"
   ]
  },
  {
   "cell_type": "markdown",
   "metadata": {},
   "source": [
    "Nous revenons à l'expression explicite d'Euler déjà abordée dans le chapitre précédent. On peut donc avoir l'expression discrétisée du terme $\\dfrac{\\partial T}{\\partial t}$:"
   ]
  },
  {
   "cell_type": "markdown",
   "metadata": {},
   "source": [
    "<!-- Equation labels as ordinary links -->\n",
    "<div id=\"eq:terme1\"></div>\n",
    "\n",
    "$$\n",
    "\\begin{equation}\n",
    "\\label{eq:terme1} \\tag{12}\n",
    "\\dfrac{\\partial T(x_m, t_n)}{\\partial t} = \\dfrac{T(x_m, t_{n+1}) - T(x_m, t_n)}{\\Delta t}\n",
    "\\end{equation}\n",
    "$$"
   ]
  },
  {
   "cell_type": "markdown",
   "metadata": {},
   "source": [
    "### Discrétisation du terme $\\dfrac{\\partial^2 T}{\\partial x^2}$\n",
    "\n",
    "Pour $t$ fixe ($t=t_n$), $T(x, t_n)$ est de classe $C^2 $ sur $[0, L]$ par rapport à $x$.\n",
    "\n",
    "Soit le développement de Taylor à l'ordre 2:"
   ]
  },
  {
   "cell_type": "markdown",
   "metadata": {},
   "source": [
    "$$\n",
    "\\begin{align*}\n",
    "T(x_{m+1}, t_n) &= T(x_m + \\Delta x, t_n) \\\\\n",
    " &\\approx T(x_m, t_n) + \\Delta x \\dfrac{\\partial T(x_m, t_n)}{\\partial x} + \\dfrac{\\Delta x^2}{2!} \\dfrac{\\partial^2 T(x_m, t_n)}{\\partial x^2} + \\mathcal{O}(\\Delta t^3)\n",
    "\\end{align*}\n",
    "$$"
   ]
  },
  {
   "cell_type": "markdown",
   "metadata": {},
   "source": [
    "La dérivée première $\\dfrac{\\partial T(x_m, t_n)}{\\partial x}$ ne figure pas dans l'équation initiale (Eq. ([11](#eq:diffT))), il faut donc l'éliminer!\n",
    "\n",
    "**Notice.**\n",
    "\n",
    "L'idée est de faire une addition des développements en ($x_m + \\Delta x$) et en ($x_m - \\Delta x$)."
   ]
  },
  {
   "cell_type": "markdown",
   "metadata": {},
   "source": [
    "$$\n",
    "\\begin{align*}\n",
    "T(x_{m-1}, t_n) &= T(x_m - \\Delta x, t_n) \\\\\n",
    " &\\approx T(x_m, t_n) - \\Delta x \\dfrac{\\partial T(x_m, t_n)}{\\partial x} + \\dfrac{\\Delta x^2}{2!} \\dfrac{\\partial^2 T(x_m, t_n)}{\\partial x^2} + \\mathcal{O}(\\Delta t^3)\n",
    "\\end{align*}\n",
    "$$"
   ]
  },
  {
   "cell_type": "markdown",
   "metadata": {},
   "source": [
    "$$\n",
    "\\begin{align*}\n",
    "T(x_{m+1}, t_n) + T(x_{m-1}, t_n) &\\approx 2 T(x_m, t_n) + \\dfrac{2\\Delta x^2}{2!} \\dfrac{\\partial^2 T(x_m, t_n)}{\\partial x^2} + \\mathcal{O}(\\Delta t^3)\n",
    "\\end{align*}\n",
    "$$"
   ]
  },
  {
   "cell_type": "markdown",
   "metadata": {},
   "source": [
    "D'où l'expression discrétisée du terme $\\dfrac{\\partial^2 T}{\\partial x^2}$:"
   ]
  },
  {
   "cell_type": "markdown",
   "metadata": {},
   "source": [
    "<!-- Equation labels as ordinary links -->\n",
    "<div id=\"eq:terme2\"></div>\n",
    "\n",
    "$$\n",
    "\\begin{equation}\n",
    "\\label{eq:terme2} \\tag{13}\n",
    "\\dfrac{\\partial^2 T(x_m, t_n)}{\\partial x^2} = \\dfrac{T(x_{m+1}, t_n) - 2 T(x_m, t_n) + T(x_{m-1}, t_n)}{\\Delta x^2}\n",
    "\\end{equation}\n",
    "$$"
   ]
  },
  {
   "cell_type": "markdown",
   "metadata": {},
   "source": [
    "Remplaçons les équations ([12](#eq:terme1)) et ([13](#eq:terme2)) dans l'équation ([11](#eq:diffT)) de la diffusion thermique. Ainsi l'équation de la diffusion thermique 1D discrétisée s'écrit:"
   ]
  },
  {
   "cell_type": "markdown",
   "metadata": {},
   "source": [
    "<!-- Equation labels as ordinary links -->\n",
    "<div id=\"_auto11\"></div>\n",
    "\n",
    "$$\n",
    "\\begin{equation}\n",
    "\\dfrac{T(x_m, t_{n+1}) - T(x_m, t_n)}{\\Delta t} \\approx D \\dfrac{T(x_{m+1}, t_n) - 2 T(x_m, t_n) + T(x_{m-1}, t_n)}{\\Delta x^2}\n",
    "\\label{_auto11} \\tag{14}\n",
    "\\end{equation}\n",
    "$$"
   ]
  },
  {
   "cell_type": "markdown",
   "metadata": {},
   "source": [
    "D'où l'on tire finalement la relation de récurrence permettant d'obtenir la température en $x_m$ à l'instant $t_{n+1}$ en fonction des températures $T_{m,n}$, $T_{m+1,n}$ et $T_{m-1,n}$ calculées à l'instant $t_n$:"
   ]
  },
  {
   "cell_type": "markdown",
   "metadata": {},
   "source": [
    "<!-- Equation labels as ordinary links -->\n",
    "<div id=\"eq:diffTFinal\"></div>\n",
    "\n",
    "$$\n",
    "\\begin{equation}\n",
    "\\label{eq:diffTFinal} \\tag{15}\n",
    "T(x_m, t_{n+1}) \\approx T(x_m, t_n) + D \\dfrac{\\Delta t}{\\Delta x^2} \\left[T(x_{m+1}, t_n) - 2 T(x_m, t_n) + T(x_{m-1}, t_n) \\right]\n",
    "\\end{equation}\n",
    "$$"
   ]
  },
  {
   "cell_type": "markdown",
   "metadata": {},
   "source": [
    "**Notice.**\n",
    "\n",
    "On peut écrire l'expression ([15](#eq:diffTFinal)) avec la notation suivante:"
   ]
  },
  {
   "cell_type": "markdown",
   "metadata": {},
   "source": [
    "$$\n",
    "\\begin{align*}\n",
    "T_{m,n+1} \\approx T_{m,n} + D \\dfrac{\\Delta t}{\\Delta x^2} \\left[T_{m+1,n} - 2 T_{m,n} + T_{m-1,n} \\right]\n",
    "\\end{align*}\n",
    "$$"
   ]
  },
  {
   "cell_type": "markdown",
   "metadata": {},
   "source": [
    "### Code Python\n",
    "\n",
    "Le programme Python pour ce problème est:\n",
    "\n",
    "<!-- @@@CODE scripts/EDP_DiffChal.py -->"
   ]
  },
  {
   "cell_type": "code",
   "execution_count": 1,
   "metadata": {
    "collapsed": false
   },
   "outputs": [],
   "source": [
    "%matplotlib inline\n",
    "\n",
    "## NOM DU PROGRAMME: EDP_DiffChal.py\n",
    "#% IMPORTATION\n",
    "import numpy as np\n",
    "import matplotlib.pyplot as plt\n",
    "# DONNÉES NUMÉRIQUES\n",
    "L = 1 # Longueur de la barre [m]\n",
    "Nx = 100 # Nombre de tronçons\n",
    "tau = 1 # Durée totale de l'évolution [s]\n",
    "Nt = 10000 # Nombre d'intervalles de temps\n",
    "dx = L/Nx # Longueur du tronçon\n",
    "dt = tau/Nt # Intervalle élémentaire de temps\n",
    "D = 0.5 # Coefficient de diffusion thermique\n",
    "Tb = 100 # Température initiale de la barre\n",
    "Textr = 0 # Température des extrémités\n",
    "# Construction de axe des abscisses (variable espace x)\n",
    "x = np.linspace(0, L, Nx)\n",
    "# Construction CI ,CL (2 exemples pour la CI)\n",
    "T = [Textr] + (Nx - 2)*[Tb] + [Textr] # Echelon de temperature\n",
    "#T=Textr + (Tb-Textr ) * np.sin(np.pi*x/L) # Arche sinusoidale temperature\n",
    "# Construction du tableau vierge des accroissements de temperature\n",
    "accroissT = np.zeros(Nx)\n",
    "T[0] = 0\n",
    "plt.figure(figsize=(8, 6)) # Créer le graphique\n",
    "# Corps de la résolution\n",
    "for n in range(Nt): # Boucle d'évolution de temps pas à pas\n",
    "    for m in range(1, Nx-1): #boucle de calcul de accroissement de temperature pour chaque abscisse\n",
    "        accroissT[m] = ((dt*D)/(dx**2))*(T[m-1]-2*T[m]+T[m+1])\n",
    "    for m in range(1, Nx-1): # Boucle de calcul de T instant  suivant\n",
    "        T[m] += accroissT[m]\n",
    "    #Trace tous les 1000 intervalles de temps\n",
    "    if (n%1000 == 0):\n",
    "        plotlabel =\"t=%1.2f s\"%(n*dt)\n",
    "        plt.plot(x, T, label=plotlabel,lw = 4, color = plt.get_cmap('jet')(1-n/Nt))\n",
    "\n",
    "plt.grid()\n",
    "plt.xlabel(\"x [m]\", fontsize=14)\n",
    "plt.ylabel(\"T [C]\", fontsize=14)\n",
    "plt.title(\"Évolution de la température après le choc thermique\", weight =\"bold\")\n",
    "plt.legend(loc=1)\n",
    "plt.savefig(\"chaleur.png\"); plt.savefig(\"chaleur.pdf\")\n",
    "plt.tight_layout()\n",
    "plt.show()"
   ]
  },
  {
   "cell_type": "markdown",
   "metadata": {},
   "source": [
    "<!-- Lors de l'exécution de ce code, nous aurons comme sortie la figure ci-dessous: -->\n",
    "<!--  -->\n",
    "<!-- FIGURE:[scripts/chaleur, width=700 frac=0.8] -->\n",
    "\n",
    "Nous pouvons modifier le code ci-dessus pour créer une animation de l'évolution du système dans le temps:"
   ]
  },
  {
   "cell_type": "code",
   "execution_count": 2,
   "metadata": {
    "collapsed": false
   },
   "outputs": [],
   "source": [
    "## NOM DU PROGRAMME: EDP_DiffChalAnim.py\n",
    "#% IMPORTATION\n",
    "import numpy as np\n",
    "import matplotlib.pyplot as plt\n",
    "# DONNÉES NUMÉRIQUES\n",
    "L = 1 # Longueur de la barre [m]\n",
    "Nx = 100 # Nombre de tronçons\n",
    "tau = 1 # Durée totale de l'évolution [s]\n",
    "Nt = 10000 # Nombre d'intervalles de temps\n",
    "dx = L/Nx # Longueur du tronçon\n",
    "dt = tau/Nt # Intervalle élémentaire de temps\n",
    "D = 0.5 # Coefficient de diffusion thermique\n",
    "Tb = 100 # Température initiale de la barre\n",
    "Textr = 0 # Température des extrémités\n",
    "# Construction de axe des abscisses (variable espace x)\n",
    "x = np.linspace(0, L, Nx)\n",
    "# Construction CI ,CL (2 exemples pour la CI)\n",
    "T = [Textr] + (Nx - 2)*[Tb] + [Textr] # Echelon de temperature\n",
    "#T=Textr + (Tb-Textr ) * np.sin(np.pi*x/L) # Arche sinusoidale temperature\n",
    "# Construction du tableau vierge des accroissements de temperature\n",
    "accroissT = np.zeros(Nx)\n",
    "T[0] = 0\n",
    "\n",
    "# Corps de la résolution\n",
    "for n in range(Nt): # Boucle d'évolution de temps pas à pas\n",
    "    plt.clf()\n",
    "    for m in range(1, Nx-1): #boucle de calcul de accroissement de temperature pour chaque abscisse\n",
    "        accroissT[m] = ((dt*D)/(dx**2))*(T[m-1]-2*T[m]+T[m+1])\n",
    "    for m in range(1, Nx-1): # Boucle de calcul de T instant  suivant\n",
    "        T[m] += accroissT[m]  \n",
    "    if (n%100 == 0):    \n",
    "        plt.figure(1)\n",
    "        plotlabel =\"t=%1.2f s\"%(n*dt)\n",
    "        plt.plot(x, T, lw = 4, label=plotlabel, color = plt.get_cmap('jet')(1-n/Nt))\n",
    "            \n",
    "        plt.grid()\n",
    "        plt.xlabel(\"x [m]\", fontsize=14)\n",
    "        plt.ylabel(\"T [C]\", fontsize=14)\n",
    "        plt.title(\"Évolution de la température après le choc thermique\", weight =\"bold\")\n",
    "        plt.legend(loc=1)\n",
    "        plt.axis([0,L,0,100])\n",
    "        \n",
    "        plt.tight_layout()\n",
    "        plt.show()\n",
    "\n",
    "        plt.pause(0.001)"
   ]
  },
  {
   "cell_type": "markdown",
   "metadata": {},
   "source": [
    "Lors de l'exécution de ce code, nous aurons l'animation ci-dessous:\n",
    "\n",
    "<!-- dom:FIGURE:[scripts/anim/myimage.gif, width=500 frac=0.8] -->\n",
    "<!-- begin figure -->\n",
    "\n",
    "<p></p>\n",
    "<img src=\"scripts/anim/myimage.gif\" width=500>\n",
    "\n",
    "<!-- end figure -->\n",
    "\n",
    "\n",
    "# L'équation de Schrödinger \"time-dependent\"\n",
    "\n",
    "<!-- dom:MOVIE: [https://www.youtube.com/embed/A7CDdnQ11Hs, width=720 height=415] -->\n",
    "<!-- begin movie -->"
   ]
  },
  {
   "cell_type": "code",
   "execution_count": 3,
   "metadata": {
    "collapsed": false
   },
   "outputs": [],
   "source": [
    "from IPython.display import HTML\n",
    "_s = \"\"\"\n",
    "<iframe width=\"720\" height=\"415\" src=\"https://www.youtube.com/embed/A7CDdnQ11Hs\" frameborder=\"0\" allowfullscreen></iframe>\n",
    "\"\"\"\n",
    "HTML(_s)"
   ]
  },
  {
   "cell_type": "markdown",
   "metadata": {},
   "source": [
    "<!-- end movie -->\n",
    "\n",
    "\n",
    "Soit une particule, un électron pour fixer les idées, qui se déplace dans un espace unidimensionnel. Pour étudier son mouvement, nous allons fixer un référentiel. L'apparition de ce mot \"référentiel\" devrait vous interpeller : la relativité n'est pas loin ! On ne va pas se compliquer la vie et on considérera que la vitesse de la particule est petite devant c, un électron non relativiste. Pour rappel, si la particule est relativiste, ne surtout pas utiliser Schrödinger...\n",
    "\n",
    "Cet électron bouge dans un espace où il peut subir des interactions avec d'autres systèmes physiques. Dans ce cas, on modélisera ces interactions par une énergie potentielle notée U(x,t). Si l'électron ne subit aucune interaction, U(x,t) sera nulle et notre électron sera dit \"libre\".\n",
    "\n",
    "L'équation, analogue à notre deuxième loi de Newton, qui décrit le mouvement de l'électron dans l'espace et le temps est l'équation de Schrödinger. Plus précisément, elle décrit l'évolution de la fonction d'onde qui elle-même décrit l'état quantique de l'électron. Sa forme unidimensionnelle s'écrit :"
   ]
  },
  {
   "cell_type": "markdown",
   "metadata": {},
   "source": [
    "<!-- Equation labels as ordinary links -->\n",
    "<div id=\"_auto12\"></div>\n",
    "\n",
    "$$\n",
    "\\begin{equation}\n",
    "i\\hbar \\dfrac{\\partial \\Psi\n",
    "        (x,t)}{\\partial t} = -\\dfrac{\\hbar ^2}{2m_e} \\dfrac{\\partial^2 \\Psi\n",
    "        (x,t)}{\\partial x^2} + U(x)\\Psi(x,t)\n",
    "\\label{_auto12} \\tag{16}\n",
    "\\end{equation}\n",
    "$$"
   ]
  },
  {
   "cell_type": "markdown",
   "metadata": {},
   "source": [
    "avec $m_e$ la masse de l'électron et $\\hbar$ la constante de Planck réduite. Je choisis d'utiliser une fonction potentiel U stationnaire (indépendante du temps).\n",
    "<!-- dom:FIGURE:[imgs/schrodinger.jpg, width=600 frac=0.4] Erwin Schrödinger (1887-1961).Physicien théoricien de nationalité autrichienne. Il a reçu un prix Nobel de physique 1933 partagé avec Paul Adrien Maurice Dirac \"pour la découverte de nouvelles formes productives de la théorie atomique.\" -->\n",
    "<!-- begin figure -->\n",
    "\n",
    "<p>Erwin Schrödinger (1887-1961).Physicien théoricien de nationalité autrichienne. Il a reçu un prix Nobel de physique 1933 partagé avec Paul Adrien Maurice Dirac \"pour la découverte de nouvelles formes productives de la théorie atomique.\"</p>\n",
    "<img src=\"imgs/schrodinger.jpg\" width=600>\n",
    "\n",
    "<!-- end figure -->\n",
    "\n",
    "\n",
    "\n",
    "C'est une équation linéaire de premier ordre par rapport au temps. Linéaire, c'est à dire que toute combinaison linéaire de solutions particulières de l'équation est aussi solution de l'équation. De premier ordre par rapport au temps, c'est à dire que la connaissance de l'état quantique de la particule à un instant donné, considéré comme l'instant initial $t_0$, permet de calculer son état quantique à n'importe quel instant postérieur à $t_0$.\n",
    "## L'énoncé du problème\n",
    "On enferme un électron dans une boite quantique, c'est à dire qu'on se cantonne dans un espace fermé par des barrières de potentiel infini. Nous resterons dans un espace unidimensionnel, ce qui nous donne le schéma suivant de boîte :\n",
    "\n",
    "<!-- dom:FIGURE:[imgs/Schro1D_4.png, width=400 frac=0.7] Le potentiel est nul dans la boîte et infini ailleurs. -->\n",
    "<!-- begin figure -->\n",
    "\n",
    "<p>Le potentiel est nul dans la boîte et infini ailleurs.</p>\n",
    "<img src=\"imgs/Schro1D_4.png\" width=400>\n",
    "\n",
    "<!-- end figure -->\n",
    "\n",
    "\n",
    "Dans cette boîte, nous déposons un électron et nous voulons déterminer son mouvement. Pour l'instant, notre électron ne rencontre aucune barrière de potentiel dans sa boîte. Il est libre... dans sa boîte ! La fonction U(x) est donc constante et nulle dans la boîte.\n",
    "\n",
    "## La simulation de l'évolution d'un électron libre U(x) = 0\n",
    "\n",
    "L'équation de Schrödinger 1D avec U(x) = 0, que l'on écrit $i\\hbar \\dfrac{\\partial \\Psi (x,t)}{\\partial t} = -\\dfrac{\\hbar ^2}{2m} \\dfrac{\\partial^2 \\Psi (x,t)}{\\partial x^2}$ st parfaitement intégrable analytiquement! D'ailleurs, je vous invite à la comparer avec une autre équation que nous avons déjà rencontré: $\\dfrac{\\partial T}{\\partial t} = D \\dfrac{\\partial^2 T}{\\partial x^2}$, [l'équation de diffusion thermique!](https://codetunisia.github.io/SN2HAP2019/cours2/cours2-bs.html#___sec1)  Dans les deux cas, la transformée de Fourier est l'outil privilégié pour ces calculs.\n",
    "\n",
    "### La discrétisation de Schrödinger\n",
    "\n",
    "La première étape consiste à discrétiser l'équation de Schrödinger. Reprenons donc notre équation de Schrödinger time-dependent dans un espace unidimensionnel :"
   ]
  },
  {
   "cell_type": "markdown",
   "metadata": {},
   "source": [
    "<!-- Equation labels as ordinary links -->\n",
    "<div id=\"_auto13\"></div>\n",
    "\n",
    "$$\n",
    "\\begin{equation}\n",
    "i\\hbar \\dfrac{\\partial \\Psi (x,t)}{\\partial t} = -\\dfrac{\\hbar\n",
    "        ^2}{2m} \\dfrac{\\partial^2 \\Psi (x,t)}{\\partial x^2} + U(x)\\Psi(x,t)\n",
    "\\label{_auto13} \\tag{17}\n",
    "\\end{equation}\n",
    "$$"
   ]
  },
  {
   "cell_type": "markdown",
   "metadata": {},
   "source": [
    "La fonction $\\Psi(x,t)$ est une fonction complexe. Je vais la décomposer en sa partie réelle $\\Psi_R(x,t)$ et sa partie imaginaire $\\Psi_I(x,t)$ et écrire deux équations l'une portant sur sa partie réelle et l'autre sur sa partie imaginaire, ce qui, en réorganisant notre équation de Schrödinger pour isoler à gauche la dérivée partielle temporelle, nous donne le couple d'équations :"
   ]
  },
  {
   "cell_type": "markdown",
   "metadata": {},
   "source": [
    "<!-- Equation labels as ordinary links -->\n",
    "<div id=\"_auto14\"></div>\n",
    "\n",
    "$$\n",
    "\\begin{equation}\n",
    "\\dfrac{\\partial \\Psi_R (x,t)}{\\partial t} = -\\dfrac{\\hbar}{2m}\n",
    "        \\dfrac{\\partial^2 \\Psi_I (x,t)}{\\partial x^2} +\n",
    "        \\dfrac{1}{\\hbar}U(x)\\Psi_I(x,t) \n",
    "\\label{_auto14} \\tag{18}\n",
    "\\end{equation}\n",
    "$$"
   ]
  },
  {
   "cell_type": "markdown",
   "metadata": {},
   "source": [
    "<!-- Equation labels as ordinary links -->\n",
    "<div id=\"_auto15\"></div>\n",
    "\n",
    "$$\n",
    "\\begin{equation} \n",
    "\\dfrac{\\partial \\Psi_I (x,t)}{\\partial t} = \\dfrac{\\hbar}{2m}\n",
    "                \\dfrac{\\partial^2 \\Psi_R (x,t)}{\\partial x^2} -\n",
    "                \\dfrac{1}{\\hbar}U(x)\\Psi_R(x,t)\n",
    "\\label{_auto15} \\tag{19}\n",
    "\\end{equation}\n",
    "$$"
   ]
  },
  {
   "cell_type": "markdown",
   "metadata": {},
   "source": [
    "Comme d'habitude je vais discrétiser les dérivées partielles en faisant un DL d'ordre 1 :"
   ]
  },
  {
   "cell_type": "markdown",
   "metadata": {},
   "source": [
    "<!-- Equation labels as ordinary links -->\n",
    "<div id=\"_auto16\"></div>\n",
    "\n",
    "$$\n",
    "\\begin{equation}\n",
    "\\dfrac{\\partial \\Psi(x,t)}{\\partial t} \\approx \\dfrac{\\Psi(x,\n",
    "        t+\\Delta t) - \\Psi(x,t)}{\\Delta t} \n",
    "\\label{_auto16} \\tag{20}\n",
    "\\end{equation}\n",
    "$$"
   ]
  },
  {
   "cell_type": "markdown",
   "metadata": {},
   "source": [
    "<!-- Equation labels as ordinary links -->\n",
    "<div id=\"_auto17\"></div>\n",
    "\n",
    "$$\n",
    "\\begin{equation} \n",
    "\\dfrac{\\partial^2 \\Psi(x,t)}{\\partial x^2} \\approx\n",
    "                \\dfrac{\\Psi(x+\\Delta x,t) - 2\\Psi(x,t) + \\Psi(x - \\Delta x,t)}{{\\Delta\n",
    "                x}^2}\n",
    "\\label{_auto17} \\tag{21}\n",
    "\\end{equation}\n",
    "$$"
   ]
  },
  {
   "cell_type": "markdown",
   "metadata": {},
   "source": [
    "Nous obtenons finalement les équations discrètes, avec $i$ l'indice sur le vecteur $x$ :"
   ]
  },
  {
   "cell_type": "markdown",
   "metadata": {},
   "source": [
    "<!-- Equation labels as ordinary links -->\n",
    "<div id=\"_auto18\"></div>\n",
    "\n",
    "$$\n",
    "\\begin{equation}\n",
    "\\Psi_R(i)  = \\Psi_R(i) - \\dfrac{\\hbar \\Delta t }{2m{\\Delta\n",
    "        x}^2}\\left( \\Psi_I(i+1) - 2\\Psi_I(i) + \\Psi_I(i-1)  \\right)  + \\dfrac{e\n",
    "        \\Delta t}{\\hbar}  U(i) \\Psi_I(i) \n",
    "\\label{_auto18} \\tag{22}\n",
    "\\end{equation}\n",
    "$$"
   ]
  },
  {
   "cell_type": "markdown",
   "metadata": {},
   "source": [
    "<!-- Equation labels as ordinary links -->\n",
    "<div id=\"_auto19\"></div>\n",
    "\n",
    "$$\n",
    "\\begin{equation} \n",
    "\\Psi_I(i)  = \\Psi_I(i) + \\dfrac{\\hbar \\Delta t }{2m{\\Delta\n",
    "                x}^2}\\left( \\Psi_R(i+1) - 2\\Psi_R(i) + \\Psi_R(i-1)  \\right)  - \\dfrac{e\n",
    "                \\Delta t}{\\hbar}  U(i) \\Psi_R(i)\n",
    "\\label{_auto19} \\tag{23}\n",
    "\\end{equation}\n",
    "$$"
   ]
  },
  {
   "cell_type": "markdown",
   "metadata": {},
   "source": [
    "Une petite remarque : j'ai introduit la charge élémentaire e dans la valeur du coefficient affectant l'énergie potentielle U : c'est parce que j'exprime dans mon code U en eV, il faut donc effectuer la conversion eV/Joule.\n",
    "\n",
    "Dans mon code, j'ai défini $a_2 = \\dfrac{\\hbar \\Delta t}{2m{\\Delta x}^2} = 0.1$, il faut bien faire un choix, ce qui me donne la contrainte sur $\\Delta t$ suivante, codée dans la variable `dt : dt = a2*2*m_e*dx**2/hbar`.\n",
    "\n",
    "### Le code Python\n",
    "\n",
    "**La propagation du paquet d'ondes**\n",
    "\n",
    "Le programme Python pour ce problème est:"
   ]
  },
  {
   "cell_type": "code",
   "execution_count": 4,
   "metadata": {
    "collapsed": false
   },
   "outputs": [],
   "source": [
    "## NOM DU PROGRAMME: Schrodinger_1DLibre.py\n",
    "#% IMPORTATION\n",
    "import numpy as np\n",
    "import matplotlib.pyplot as plt\n",
    "'''\n",
    "Définition des constantes\n",
    "-------------------------\n",
    "Les constantes physiques standards sont tirées \n",
    "du package scipy.constants\n",
    "'''\n",
    "from scipy.constants import h, hbar, e, m_e\n",
    "\n",
    "DeuxPi = 2.0*np.pi\n",
    "L = 5.0e-9   # dimension de la boite quantique (USI)  \n",
    "\n",
    "#%% Définition du domaine spatial et temporel\n",
    "Nx = 1000    # nombre de pas d'intégration sur le domaine spatial\n",
    "xmin = 0.0\n",
    "xmax = L\n",
    "dx = (xmax-xmin)/Nx\n",
    "x = np.arange(0.0,L,dx)\n",
    "Nt = 30000   # nombre de pas d'intégration sur le domaine temporel \n",
    "a2 = 0.1\n",
    "dt = a2*2*m_e*dx**2/hbar\n",
    "a3 = e*dt/hbar\n",
    "\n",
    "#%% Définition des paramètres du paquet d'onde inital\n",
    "x0 = x[int(Nx/2)]  # position initiale du paquet\n",
    "sigma = 2.0e-10    # largeur du paquet en m\n",
    "Lambda = 1.5e-10   # longeur d'onde de de Broglie l'électron (en m)\n",
    "Ec = (h/Lambda)**2/(2*m_e*e) # énergie cinétique théorique de l'électron (en eV)\n",
    "\n",
    "#%% Définition du potentiel\n",
    "U = np.zeros(Nx)  # électron libre dans le puit\n",
    "\n",
    "#%% Initialisation des buffers de calcul aux conditions initiales\n",
    "Psi_Real = np.zeros(Nx)\n",
    "Psi_Imag = np.zeros(Nx)\n",
    "Psi_Prob = np.zeros(Nx)\n",
    "\n",
    "#%% calcul et affichage de la fonction d'onde initiale\n",
    "Psi_Real = np.exp(-0.5*((x-x0)/sigma)**2)*np.cos(DeuxPi*(x-x0)/Lambda)\n",
    "Psi_Imag = np.exp(-0.5*((x-x0)/sigma)**2)*np.sin(DeuxPi*(x-x0)/Lambda)\n",
    "# Normalisation du paquet d'onde\n",
    "Psi_Prob = Psi_Real**2 + Psi_Imag**2\n",
    "## FIGURE ---> Test\n",
    "#plt.figure()\n",
    "#pl1, pl2, pl3 = plt.plot(x, Psi_Real, x, Psi_Imag, x, Psi_Prob)\n",
    "#plt.legend((pl1, pl2,pl3), (\"PSI R\", \"PSI Imag\", \"Psi Prob\"))\n",
    "#plt.show()\n",
    "\n",
    "#%% Boucle de calcul et d'affichage de l'évolution\n",
    "for t in range(Nt):\n",
    "    plt.clf()\n",
    "    Psi_Real[1:-1] = Psi_Real[1:-1] - a2*(Psi_Imag[2:] - 2*Psi_Imag[1:-1] + Psi_Imag[:-2]) \\\n",
    "                     + a3*U[1:-1]*Psi_Imag[1:-1]\n",
    "    Psi_Imag[1:-1] = Psi_Imag[1:-1] + a2*(Psi_Real[2:] - 2*Psi_Real[1:-1] + Psi_Real[:-2]) \\\n",
    "                     - a3*U[1:-1]*Psi_Real[1:-1]\n",
    "    Psi_Prob[1:-1] = Psi_Real[1:-1]**2 + Psi_Imag[1:-1]**2\n",
    "    if t % 1000 == 0:\n",
    "        \n",
    "        plt.figure(1)\n",
    "        plt.plot(x*1.e9,Psi_Real,'blue')\n",
    "        plt.plot(x*1.e9,Psi_Imag,'red')\n",
    "        plt.plot(x*1.e9,Psi_Prob,'green')\n",
    "        plt.axis([0,L*1.e9,-1,1])\n",
    "        plt.grid(True)\n",
    "        plt.tight_layout()\n",
    "        plt.savefig(\"anim2/\"+str(int(t%Nt/1000)).rjust(2, '0')+\".png\")\n",
    "        plt.savefig(\"anim2/myimage.pdf\")\n",
    "        plt.show()\n",
    "        plt.pause(0.001)"
   ]
  },
  {
   "cell_type": "markdown",
   "metadata": {},
   "source": [
    "Lors de l'exécution de ce code, nous aurons l'animation ci-dessous:\n",
    "\n",
    "<!-- dom:FIGURE:[scripts/anim2/myimage.gif, width=500 frac=1] -->\n",
    "<!-- begin figure -->\n",
    "\n",
    "<p></p>\n",
    "<img src=\"scripts/anim2/myimage.gif\" width=500>\n",
    "\n",
    "<!-- end figure -->\n",
    "\n",
    "\n",
    "**Cas d'une barrière de potentiel**\n",
    "Le programme Python pour ce problème est:"
   ]
  },
  {
   "cell_type": "code",
   "execution_count": 5,
   "metadata": {
    "collapsed": false
   },
   "outputs": [],
   "source": [
    "## NOM DU PROGRAMME: Schrodinger_1DBar.py\n",
    "#% IMPORTATION\n",
    "import numpy as np\n",
    "import matplotlib.pyplot as plt\n",
    "'''\n",
    "Définition des constantes\n",
    "-------------------------\n",
    "Les constantes physiques standards sont tirées \n",
    "du package scipy.constants\n",
    "'''\n",
    "from scipy.constants import h, hbar, e, m_e\n",
    "\n",
    "DeuxPi = 2.0*np.pi\n",
    "L = 5.0e-9   # dimension de la boite quantique (USI)  \n",
    "\n",
    "#%% Définition du domaine spatial et temporel\n",
    "Nx = 1000    # nombre de pas d'intégration sur le domaine spatial\n",
    "xmin = 0.0\n",
    "xmax = L\n",
    "dx = (xmax-xmin)/Nx\n",
    "x = np.arange(0.0,L,dx)\n",
    "Nt = 50000   # nombre de pas d'intégration sur le domaine temporel \n",
    "a2 = 0.1\n",
    "dt = a2*2*m_e*dx**2/hbar\n",
    "a3 = e*dt/hbar\n",
    "\n",
    "#%% Définition des paramètres du paquet d'onde inital\n",
    "x0 = x[int(Nx/4)]  # position initiale du paquet\n",
    "sigma = 2.0e-10    # largeur du paquet en m\n",
    "Lambda = 1.5e-10   # longeur d'onde de de Broglie l'électron (en m)\n",
    "Ec = (h/Lambda)**2/(2*m_e*e) # énergie cinétique théorique de l'électron (en eV)\n",
    "\n",
    "#%% Définition du potentiel\n",
    "U0 = 80    # en eV\n",
    "U = np.zeros(Nx)\n",
    "#U[int(Nx/2):] = U0  # définition d'une marche de potentiel\n",
    "EppBar = 30 # largeur de la barrière en nombre de pas dx (0.15 nm)\n",
    "U[int(Nx/2):int(Nx/2+EppBar)] = U0 # définition d'une barrière de potentiel\n",
    "#%% Initialisation des buffers de calcul aux conditions initiales\n",
    "Psi_Real = np.zeros(Nx)\n",
    "Psi_Imag = np.zeros(Nx)\n",
    "Psi_Prob = np.zeros(Nx)\n",
    "\n",
    "#%% calcul et affichage de la fonction d'onde initiale\n",
    "Psi_Real = np.exp(-0.5*((x-x0)/sigma)**2)*np.cos(DeuxPi*(x-x0)/Lambda)\n",
    "Psi_Imag = np.exp(-0.5*((x-x0)/sigma)**2)*np.sin(DeuxPi*(x-x0)/Lambda)\n",
    "# Normalisation du paquet d'onde\n",
    "Psi_Prob = Psi_Real**2 + Psi_Imag**2\n",
    "## FIGURE ---> Test\n",
    "#plt.figure()\n",
    "#pl1, pl2, pl3 = plt.plot(x, Psi_Real, x, Psi_Imag, x, Psi_Prob)\n",
    "#plt.legend((pl1, pl2,pl3), (\"PSI R\", \"PSI Imag\", \"Psi Prob\"))\n",
    "#plt.show()\n",
    "\n",
    "#%% Boucle de calcul et d'affichage de l'évolution\n",
    "for t in range(Nt):\n",
    "    plt.clf()\n",
    "    Psi_Real[1:-1] = Psi_Real[1:-1] - a2*(Psi_Imag[2:] - 2*Psi_Imag[1:-1] + Psi_Imag[:-2]) \\\n",
    "                     + a3*U[1:-1]*Psi_Imag[1:-1]\n",
    "    Psi_Imag[1:-1] = Psi_Imag[1:-1] + a2*(Psi_Real[2:] - 2*Psi_Real[1:-1] + Psi_Real[:-2]) \\\n",
    "                     - a3*U[1:-1]*Psi_Real[1:-1]\n",
    "    Psi_Prob[1:-1] = Psi_Real[1:-1]**2 + Psi_Imag[1:-1]**2\n",
    "    if t % 1000 == 0:\n",
    "        \n",
    "        fig, ax1 = plt.subplots(num=1)\n",
    "        ax1.plot(x*1.e9,Psi_Prob,'green')\n",
    "        ax1.axis([0,L*1.e9,0,1])\n",
    "        ax1.set_xlabel('x [nanometre]')\n",
    "        ax1.set_ylabel('Densite de proba. de detection [m-1]')\n",
    "        ax1.grid(True)\n",
    "        \n",
    "        ax2 = ax1.twinx()\n",
    "        ax2.plot(x*1.e9,U,'blue')\n",
    "        ax2.set_ylabel('U [eV]')\n",
    "        ax2.axis([0,L*1.e9,0,90])\n",
    "        plt.savefig(\"anim3/\"+str(int(t%Nt/1000)).rjust(2, '0')+\".png\")\n",
    "        plt.savefig(\"anim3/myimage.pdf\")\n",
    "        plt.tight_layout()\n",
    "        plt.show()\n",
    "        plt.pause(0.001)"
   ]
  },
  {
   "cell_type": "markdown",
   "metadata": {},
   "source": [
    "Lors de l'exécution de ce code, nous aurons l'animation ci-dessous:\n",
    "\n",
    "<!-- dom:FIGURE:[scripts/anim3/myimage.gif, width=500 frac=1] -->\n",
    "<!-- begin figure -->\n",
    "\n",
    "<p></p>\n",
    "<img src=\"scripts/anim3/myimage.gif\" width=500>\n",
    "\n",
    "<!-- end figure -->\n",
    "\n",
    "\n",
    "# L'équation de Laplace\n",
    "Nous considérons maintenant les équations elliptiques. L'équation de Poisson en trois dimensions est :"
   ]
  },
  {
   "cell_type": "markdown",
   "metadata": {},
   "source": [
    "<!-- Equation labels as ordinary links -->\n",
    "<div id=\"_auto20\"></div>\n",
    "\n",
    "$$\n",
    "\\begin{equation}\n",
    "\\dfrac{\\partial^2 u(x, y, z)}{\\partial x^2} + \\dfrac{\\partial^2 u(x, y, z)}{\\partial y^2} + \\dfrac{\\partial^2 u(x, y, z)}{\\partial z^2} = - \\dfrac{\\rho(x,y,z)}{\\epsilon_0}\n",
    "\\label{_auto20} \\tag{24}\n",
    "\\end{equation}\n",
    "$$"
   ]
  },
  {
   "cell_type": "markdown",
   "metadata": {},
   "source": [
    "où $u(x, y, z)$ est le champ de potentiel électrique et $\\rho(x, y, z)$ est la densité de charge. Par souci de simplicité, cependant, nous étudierons l'équation de Laplace en deux dimensions :"
   ]
  },
  {
   "cell_type": "markdown",
   "metadata": {},
   "source": [
    "<!-- Equation labels as ordinary links -->\n",
    "<div id=\"_auto21\"></div>\n",
    "\n",
    "$$\n",
    "\\begin{equation}\n",
    "\\dfrac{\\partial^2 u(x, y)}{\\partial x^2} + \\dfrac{\\partial^2 u(x, y)}{\\partial y^2}  = 0\n",
    "\\label{_auto21} \\tag{25}\n",
    "\\end{equation}\n",
    "$$"
   ]
  },
  {
   "cell_type": "markdown",
   "metadata": {},
   "source": [
    "sur le carré $0 ≤ x ≤ L$ et $0 ≤ y ≤ L$ avec une paroi du carré maintenue (la paroi à $y = L$) à un potentiel de $V_0 = 1V$ et les autres parois mises à la terre à $0V$.\n",
    "\n",
    "<!-- dom:FIGURE:[imgs/laplace2D.png, width=400 frac=0.5] Exemple de problème de valeur limite pour l'équation de Laplace en deux dimensions. -->\n",
    "<!-- begin figure -->\n",
    "\n",
    "<p>Exemple de problème de valeur limite pour l'équation de Laplace en deux dimensions.</p>\n",
    "<img src=\"imgs/laplace2D.png\" width=400>\n",
    "\n",
    "<!-- end figure -->\n",
    "\n",
    "\n",
    "Nous utilisons la séparation des variables"
   ]
  },
  {
   "cell_type": "markdown",
   "metadata": {},
   "source": [
    "<!-- Equation labels as ordinary links -->\n",
    "<div id=\"_auto22\"></div>\n",
    "\n",
    "$$\n",
    "\\begin{equation}\n",
    "u(x, y) = X(x)Y(y)\n",
    "\\label{_auto22} \\tag{26}\n",
    "\\end{equation}\n",
    "$$"
   ]
  },
  {
   "cell_type": "markdown",
   "metadata": {},
   "source": [
    "pour exprimer l'équation de Laplace comme les équations différentielles ordinaires"
   ]
  },
  {
   "cell_type": "markdown",
   "metadata": {},
   "source": [
    "<!-- Equation labels as ordinary links -->\n",
    "<div id=\"_auto23\"></div>\n",
    "\n",
    "$$\n",
    "\\begin{equation}\n",
    "- \\dfrac{X\"}{X} = \\dfrac{Y\"}{Y} = k^2\n",
    "\\label{_auto23} \\tag{27}\n",
    "\\end{equation}\n",
    "$$"
   ]
  },
  {
   "cell_type": "markdown",
   "metadata": {},
   "source": [
    "où $k$ est une constante de séparation. Les conditions aux limites sont $X (0) = 0$, $X (L) = 0$, $Y (0) = 0$ et $Y (L) = V_0$. Les solutions pour $X$ avec ces conditions aux limites sont"
   ]
  },
  {
   "cell_type": "markdown",
   "metadata": {},
   "source": [
    "<!-- Equation labels as ordinary links -->\n",
    "<div id=\"_auto24\"></div>\n",
    "\n",
    "$$\n",
    "\\begin{equation}\n",
    "X(x) \\propto sin(\\dfrac{n \\pi x}{L}) \\quad pour \\ n = 1,2,3,\\dots\n",
    "\\label{_auto24} \\tag{28}\n",
    "\\end{equation}\n",
    "$$"
   ]
  },
  {
   "cell_type": "markdown",
   "metadata": {},
   "source": [
    "et les constantes de séparation autorisées sont $k_n = n \\pi /L$. Les solutions pour $Y$ seront une combinaison linéaire des fonctions sinus hyperbolique et cosinus hyperbolique, mais comme seule la fonction sinus hyperbolique disparaît à $x = 0$, notre solution est de la forme"
   ]
  },
  {
   "cell_type": "markdown",
   "metadata": {},
   "source": [
    "<!-- Equation labels as ordinary links -->\n",
    "<div id=\"_auto25\"></div>\n",
    "\n",
    "$$\n",
    "\\begin{equation}\n",
    "u(x,y) = \\sum_{n=1}^{\\infty} c_n sin(\\dfrac{n \\pi x}{L}) sinh(\\dfrac{n \\pi y}{L})\n",
    "\\label{_auto25} \\tag{29}\n",
    "\\end{equation}\n",
    "$$"
   ]
  },
  {
   "cell_type": "markdown",
   "metadata": {},
   "source": [
    "La condition aux limites finale, $u (x, L) = V_0$, détermine alors les coefficients $c_n$ : on a"
   ]
  },
  {
   "cell_type": "markdown",
   "metadata": {},
   "source": [
    "<!-- Equation labels as ordinary links -->\n",
    "<div id=\"_auto26\"></div>\n",
    "\n",
    "$$\n",
    "\\begin{equation}\n",
    "\\sum_{n=1}^{\\infty} c_n sinh(n \\pi) sin(\\dfrac{n \\pi x}{L}) =V_0\n",
    "\\label{_auto26} \\tag{30}\n",
    "\\end{equation}\n",
    "$$"
   ]
  },
  {
   "cell_type": "markdown",
   "metadata": {},
   "source": [
    "Nous multiplions les deux côtés par $sin (m \\pi x = L)$ et intégrons de $x = 0$ à $x = L$ pour obtenir"
   ]
  },
  {
   "cell_type": "markdown",
   "metadata": {},
   "source": [
    "<!-- Equation labels as ordinary links -->\n",
    "<div id=\"_auto27\"></div>\n",
    "\n",
    "$$\n",
    "\\begin{equation}\n",
    "\\dfrac{L}{2} sinh(m \\pi) = \\begin{cases} \\dfrac{2LV_0}{m \\pi} & \\text{pour m impair}\\\\\n",
    "0 & \\text{autrement.}\n",
    "\\end{cases}\n",
    "\\label{_auto27} \\tag{31}\n",
    "\\end{equation}\n",
    "$$"
   ]
  },
  {
   "cell_type": "markdown",
   "metadata": {},
   "source": [
    "Nous avons donc"
   ]
  },
  {
   "cell_type": "markdown",
   "metadata": {},
   "source": [
    "<!-- Equation labels as ordinary links -->\n",
    "<div id=\"_auto28\"></div>\n",
    "\n",
    "$$\n",
    "\\begin{equation}\n",
    "c_m = \\begin{cases} \\dfrac{4V_0}{m \\pi \\ sinh(m \\pi)} & \\text{pour m impair}\\\\\n",
    "0 & \\text{autrement.}\n",
    "\\end{cases}\n",
    "\\label{_auto28} \\tag{32}\n",
    "\\end{equation}\n",
    "$$"
   ]
  },
  {
   "cell_type": "markdown",
   "metadata": {},
   "source": [
    "et la solution de l'équation de Laplace est"
   ]
  },
  {
   "cell_type": "markdown",
   "metadata": {},
   "source": [
    "<!-- Equation labels as ordinary links -->\n",
    "<div id=\"_auto29\"></div>\n",
    "\n",
    "$$\n",
    "\\begin{equation}\n",
    "u(x,y) = 4 V_0 \\sum_{\\substack{n=1 \\\\ n \\ impair}}^{\\infty} \\dfrac{sin(n \\pi x/L)}{n \\pi} \\dfrac{sinh(n \\pi y/L)}{sinh(n \\pi)}\n",
    "\\label{_auto29} \\tag{33}\n",
    "\\end{equation}\n",
    "$$"
   ]
  },
  {
   "cell_type": "markdown",
   "metadata": {},
   "source": [
    "Un grand nombre de termes dans cette série sont nécessaires pour calculer avec précision le champ près du mur près de $y = L$ (et surtout aux coins).\n",
    "\n",
    "La méthode de relaxation peut être utilisée pour les équations elliptiques de la forme"
   ]
  },
  {
   "cell_type": "markdown",
   "metadata": {},
   "source": [
    "<!-- Equation labels as ordinary links -->\n",
    "<div id=\"_auto30\"></div>\n",
    "\n",
    "$$\n",
    "\\begin{equation}\n",
    "\\hat{L} u = \\rho\n",
    "\\label{_auto30} \\tag{34}\n",
    "\\end{equation}\n",
    "$$"
   ]
  },
  {
   "cell_type": "markdown",
   "metadata": {},
   "source": [
    "où $\\hat{L}$ est un opérateur elliptique et $\\rho$ est un terme source. L'approche consiste à prendre une distribution initiale $u$ qui ne résout pas nécessairement l'équation elliptique et à lui permettre de se détendre à la solution de l'équation en faisant évoluer l'équation de diffusion"
   ]
  },
  {
   "cell_type": "markdown",
   "metadata": {},
   "source": [
    "<!-- Equation labels as ordinary links -->\n",
    "<div id=\"_auto31\"></div>\n",
    "\n",
    "$$\n",
    "\\begin{equation}\n",
    "\\dfrac{\\partial u}{\\partial t}= \\hat{L} u - \\rho\n",
    "\\label{_auto31} \\tag{35}\n",
    "\\end{equation}\n",
    "$$"
   ]
  },
  {
   "cell_type": "markdown",
   "metadata": {},
   "source": [
    "Aux temps tardifs, $t \\rightarrow 0$, la solution s'approchera asymptotiquement de la solution stationnaire de l'équation elliptique.\n",
    "Pour le problème en question ($\\rho = 0$ et $\\hat{L}$ est l'opérateur laplacien bidimensionnel), la méthode FTCS appliquée à l'équation de diffusion conduit à"
   ]
  },
  {
   "cell_type": "markdown",
   "metadata": {},
   "source": [
    "<!-- Equation labels as ordinary links -->\n",
    "<div id=\"_auto32\"></div>\n",
    "\n",
    "$$\n",
    "\\begin{equation}\n",
    "u_{j,k}^{n+1} = u_{j,k}^{n} + \\left[ \\dfrac{u_{j+1,k}^{n} - 2 u_{j,k}^{n} + u_{j-1,k}^{n}}{(\\Delta x)^2} + \\dfrac{u_{j,k+1}^{n} - 2 u_{j,k}^{n} + u_{j,k-1}^{n}}{(\\Delta y)^2}\\right] \\Delta t\n",
    "\\label{_auto32} \\tag{36}\n",
    "\\end{equation}\n",
    "$$"
   ]
  },
  {
   "cell_type": "markdown",
   "metadata": {},
   "source": [
    "où $u_{j,k}^{n} = u^{n}(j \\Delta x, k \\Delta y)$ et $n$ indique l'itération. Pour simplifier, nous prenons $\\Delta x = \\Delta y = \\Delta$ donc nous avons"
   ]
  },
  {
   "cell_type": "markdown",
   "metadata": {},
   "source": [
    "<!-- Equation labels as ordinary links -->\n",
    "<div id=\"eq:laplaceFTCS\"></div>\n",
    "\n",
    "$$\n",
    "\\begin{equation}\n",
    "u_{j,k}^{n+1} = (1 - \\omega) u_{j,k}^{n} + \\dfrac{\\omega}{4}(u_{j+1,k}^{n} + u_{j-1,k}^{n} + u_{j,k+1}^{n} + u_{j,k-1}^{n}) \\label{eq:laplaceFTCS} \\tag{37}\n",
    "\\end{equation}\n",
    "$$"
   ]
  },
  {
   "cell_type": "markdown",
   "metadata": {},
   "source": [
    "où $\\omega = 4 \\Delta t /\\Delta^2$.\n",
    "La stabilité de l'équation de diffusion limite l'ampleur des $\\omega$. Nous pouvons déterminer la valeur maximale de $\\omega$ en utilisant une analyse de stabilité de von Neumann, mais maintenant nous nous limiterons aux modes propres spatiaux qui satisfont aux conditions aux limites de Dirichlet pour la partie homogène de la solution. Notre approche est donc"
   ]
  },
  {
   "cell_type": "markdown",
   "metadata": {},
   "source": [
    "<!-- Equation labels as ordinary links -->\n",
    "<div id=\"eq:approche\"></div>\n",
    "\n",
    "$$\n",
    "\\begin{equation}\n",
    "u_{j,k}^{n} = u^0 \\zeta^n(m_x, m_y) sin(\\dfrac{m_x \\pi j \\Delta}{L}) sin(\\dfrac{m_y \\pi k \\Delta}{L}) \\label{eq:approche} \\tag{38}\n",
    "\\end{equation}\n",
    "$$"
   ]
  },
  {
   "cell_type": "markdown",
   "metadata": {},
   "source": [
    "où $m_x$ et $m_y$ sont respectivement les numéros de mode dans les directions $x$ et $y$. En substituant cette approche à l'Eq. ([37](#eq:laplaceFTCS)) on trouve"
   ]
  },
  {
   "cell_type": "markdown",
   "metadata": {},
   "source": [
    "<!-- Equation labels as ordinary links -->\n",
    "<div id=\"eq:zeta\"></div>\n",
    "\n",
    "$$\n",
    "\\begin{equation}\n",
    "\\zeta(m_x, m_y) = 1 - \\omega + \\dfrac{\\omega}{2} \\left( cos(\\dfrac{m_x \\pi \\Delta}{L}) + cos(\\dfrac{m_y \\pi \\Delta}{L}) \\right) \\label{eq:zeta} \\tag{39}\n",
    "\\end{equation}\n",
    "$$"
   ]
  },
  {
   "cell_type": "markdown",
   "metadata": {},
   "source": [
    "et nous voyons que la stabilité est atteinte, c'est-à-dire que $| \\zeta(m_x, m_y) | \\le 1$ pour tout mode donné par $(m_x, m_y)$, si $\\omega \\le 1$. Si nous prenons maintenant la plus grande valeur de $\\Delta t = \\Delta^2 / 4$ permise pour une itération stable correspondant à $\\omega = 1$, nous obtenons l'itération suivante schème:"
   ]
  },
  {
   "cell_type": "markdown",
   "metadata": {},
   "source": [
    "<!-- Equation labels as ordinary links -->\n",
    "<div id=\"_auto33\"></div>\n",
    "\n",
    "$$\n",
    "\\begin{equation}\n",
    "u_{j,k}^{n+1} = \\dfrac{1}{4} (u_{j+1,k}^{n}+u_{j-1,k}^{n}+u_{j,k+1}^{n}+u_{j,k-1}^{n})\n",
    "\\label{_auto33} \\tag{40}\n",
    "\\end{equation}\n",
    "$$"
   ]
  },
  {
   "cell_type": "markdown",
   "metadata": {},
   "source": [
    "On voit ici que la valeur du champ à un point de réseau donné $(j, k)$ à l'étape $n + 1$ est égale à la moyenne des valeurs du champ aux points voisins à l'étape $n$. Ceci est connu comme *la méthode de Jacobi*.\n",
    "\n",
    "Le programme `Laplace_relax.py` implémente la méthode de Jacobi pour notre problème de modèle. Le nombre de points de grille de chaque côté, $N$, est entré. Les résultats obtenus pour $N = 20$ points sont présentés sur la [figure](#fig:`Laplace_relax)."
   ]
  },
  {
   "cell_type": "code",
   "execution_count": 6,
   "metadata": {
    "collapsed": false
   },
   "outputs": [],
   "source": [
    "## NOM DU PROGRAMME: Laplace_relax.py\n",
    "#% IMPORTATION\n",
    "import numpy as np\n",
    "import matplotlib.pyplot as plt\n",
    "import mpl_toolkits.mplot3d\n",
    "eps = 1e-5 # erreur fractionnaire autorisée\n",
    "L = 1.0 # longueur de chaque côté\n",
    "N = int(input('nombre de points de grille sur un côté -> '))\n",
    "dy = dx = L/(N-1.0)\n",
    "x = np.array(range(N))*dx\n",
    "y = np.array(range(N))*dy\n",
    "(x, y) = np.meshgrid(x, y)\n",
    "u0 = np.zeros((N, N))\n",
    "u1 = np.zeros((N, N))\n",
    "# conditions aux limites\n",
    "for j in range(N):\n",
    "    u1[j,N-1] = u0[j,N-1] = 1.0\n",
    "    \n",
    "# préparer l'animation\n",
    "image = plt.imshow(u0.T, origin='lower', extent=(0.0, L, 0.0, L))\n",
    "n = 0 # nombre d'itérations\n",
    "err = 1.0 # erreur moyenne par site\n",
    "while err > eps:\n",
    "    # mettre à jour le tracé animé\n",
    "    image.set_data(u0.T)\n",
    "    plt.title('itération %d'%n)\n",
    "    plt.tight_layout()\n",
    "    plt.show()\n",
    "    plt.pause(0.001)\n",
    "    # prochaine itération en raffinement\n",
    "    n = n+1\n",
    "    err = 0.0\n",
    "    for j in range(1, N-1):\n",
    "        for k in range(1, N-1):\n",
    "            u1[j,k] = (u0[j-1,k]+u0[j+1,k]+u0[j,k-1]+u0[j,k+1])/4.0\n",
    "            err += abs(u1[j,k]-u0[j,k])\n",
    "    err /= N**2\n",
    "    # permutez les anciens et les nouveaux tableaux pour la prochaine itération\n",
    "    (u0, u1) = (u1, u0)\n",
    "    \n",
    "# tracé de surface de la solution finale\n",
    "\n",
    "fig = plt.figure()\n",
    "axis = fig.gca(projection='3d', azim=-60, elev=20)\n",
    "surf = axis.plot_surface(x, y, u0.T, rstride=1, cstride=1, cmap='viridis')\n",
    "wire = axis.plot_wireframe(x, y, u0.T, rstride=1+N//50, cstride=1+N//50,\n",
    "                           color = \"r\", linewidth=0.5, alpha = 0.5)\n",
    "axis.contour(x, y, u0.T, 10, zdir='z', offset=-1.0)\n",
    "axis.set_xlabel('x')\n",
    "axis.set_ylabel('y')\n",
    "axis.set_zlabel('u')\n",
    "axis.set_zlim(-1.0, 1.0)\n",
    "fig.colorbar(surf)\n",
    "plt.tight_layout()\n",
    "plt.savefig(\"Laplace_relax.png\"); plt.savefig(\"Laplace_relax.pdf\")\n",
    "plt.show()"
   ]
  },
  {
   "cell_type": "markdown",
   "metadata": {},
   "source": [
    "<!-- dom:FIGURE:[scripts/anim4/output.gif, width=400 frac=1] -->\n",
    "<!-- begin figure -->\n",
    "\n",
    "<p></p>\n",
    "<img src=\"scripts/anim4/output.gif\" width=400>\n",
    "\n",
    "<!-- end figure -->\n",
    "\n",
    "\n",
    "<!-- dom:FIGURE:[scripts/Laplace_relax.png, width=500 frac=.7] Résultats de l'exécution du programme `Laplace_relax.py` avec les paramètres N = 20 points de grille de chaque côté. La solution est obtenue après 386 itérations. <div id=\"fig:`Laplace_relax\"></div> -->\n",
    "<!-- begin figure -->\n",
    "<div id=\"fig:`Laplace_relax\"></div>\n",
    "\n",
    "<p>Résultats de l'exécution du programme <code>Laplace_relax.py</code> avec les paramètres N = 20 points de grille de chaque côté. La solution est obtenue après 386 itérations.</p>\n",
    "<img src=\"scripts/Laplace_relax.png\" width=500>\n",
    "\n",
    "<!-- end figure -->\n",
    "\n",
    "\n",
    "Dans le programme `Laplace_relax.py`, l'itération s'est poursuivie jusqu'à ce que l'erreur moyenne par point de maillage soit inférieure à $\\epsilon = 10^{-5}$ où l'erreur a été estimée en prenant la différence entre l'ancienne valeur à l'étape $n$ et la nouvelle valeur à l'étape $n + 1$. Le nombre d'itérations nécessaires à la convergence dépend du mode propre en décomposition le plus lent de l'itération. Le module du mode de décomposition le plus lent est connu sous le nom de *rayon spectral*"
   ]
  },
  {
   "cell_type": "markdown",
   "metadata": {},
   "source": [
    "<!-- Equation labels as ordinary links -->\n",
    "<div id=\"_auto34\"></div>\n",
    "\n",
    "$$\n",
    "\\begin{equation}\n",
    "\\rho = max_{m_x, m_y} |\\zeta(m_x, m_y)|.\n",
    "\\label{_auto34} \\tag{41}\n",
    "\\end{equation}\n",
    "$$"
   ]
  },
  {
   "cell_type": "markdown",
   "metadata": {},
   "source": [
    "De l'Eq. ([39](#eq:zeta)) nous voyons que pour la méthode de Jacobi avec $\\omega = 1$ nous avons"
   ]
  },
  {
   "cell_type": "markdown",
   "metadata": {},
   "source": [
    "<!-- Equation labels as ordinary links -->\n",
    "<div id=\"_auto35\"></div>\n",
    "\n",
    "$$\n",
    "\\begin{equation}\n",
    "\\rho = \\rho_J = cos(\\dfrac{\\pi \\Delta}{L}).\n",
    "\\label{_auto35} \\tag{42}\n",
    "\\end{equation}\n",
    "$$"
   ]
  },
  {
   "cell_type": "markdown",
   "metadata": {},
   "source": [
    "ce qui correspond au mode $m_x = m_y = 1$. Chaque itération multiplie l'erreur résiduelle dans ce mode le moins amorti par un facteur de module $\\rho$ et donc le nombre d'itérations nécessaires pour atteindre la tolérance d'erreur souhaitée $\\epsilon$ sera"
   ]
  },
  {
   "cell_type": "markdown",
   "metadata": {},
   "source": [
    "<!-- Equation labels as ordinary links -->\n",
    "<div id=\"_auto36\"></div>\n",
    "\n",
    "$$\n",
    "\\begin{equation}\n",
    "n = \\dfrac{ln \\epsilon}{ln \\rho}.\n",
    "\\label{_auto36} \\tag{43}\n",
    "\\end{equation}\n",
    "$$"
   ]
  },
  {
   "cell_type": "markdown",
   "metadata": {},
   "source": [
    "Pour la méthode Jacobi, $\\rho_J = 1 - \\dfrac{1}{2} (\\pi/N)$ et ainsi"
   ]
  },
  {
   "cell_type": "markdown",
   "metadata": {},
   "source": [
    "<!-- Equation labels as ordinary links -->\n",
    "<div id=\"_auto37\"></div>\n",
    "\n",
    "$$\n",
    "\\begin{equation}\n",
    "n \\approx \\dfrac{2 |ln \\epsilon|}{\\pi^2} N^2.\n",
    "\\label{_auto37} \\tag{44}\n",
    "\\end{equation}\n",
    "$$"
   ]
  },
  {
   "cell_type": "markdown",
   "metadata": {},
   "source": [
    "Notez que si nous doublons le nombre de points de grille $N$, nous avons besoin de quatre fois plus d'itérations pour converger. Pour les problèmes pratiques, la méthode de Jacobi converge trop lentement pour être utile.\n",
    "\n",
    "Pour progresser, considérons à nouveau l'Eq. ([37](#eq:laplaceFTCS)) et notons que si nous imaginons que notre grille de calcul est divisée en points clairs et sombres décalés, comme le montre la [figure](#fig:lattice), puis pour mettre à jour la valeur d'un point blanc, nous n'avons besoin que de la valeur actuelle à ce point blanc et des valeurs des points sombres voisins et vice versa pour mettre à jour la valeur d'un point sombre.\n",
    "\n",
    "<!-- dom:FIGURE:[imgs/lattice.png, width=400 frac=.5] Un réseau décalé de points sombres et clairs pour une utilisation en sur-relaxation successive. Les points gris font partie de la frontière et ne sont pas évolués. Pour mettre à jour un point blanc ne nécessite que la valeur précédente du point blanc et des points sombres environnants et de même pour mettre à jour un point noir ne nécessite que la valeur précédente des points noirs et des points clairs environnants. <div id=\"fig:lattice\"></div> -->\n",
    "<!-- begin figure -->\n",
    "<div id=\"fig:lattice\"></div>\n",
    "\n",
    "<p>Un réseau décalé de points sombres et clairs pour une utilisation en sur-relaxation successive. Les points gris font partie de la frontière et ne sont pas évolués. Pour mettre à jour un point blanc ne nécessite que la valeur précédente du point blanc et des points sombres environnants et de même pour mettre à jour un point noir ne nécessite que la valeur précédente des points noirs et des points clairs environnants.</p>\n",
    "<img src=\"imgs/lattice.png\" width=400>\n",
    "\n",
    "<!-- end figure -->\n",
    "\n",
    "\n",
    "Ainsi, nous pouvons adopter une approche échelonnée où nous mettons à jour tous les points blancs, puis nous mettons à jour tous les points noirs et les deux étapes peuvent être effectuées sur place. Pour les étapes où $n$ est un entier, nous calculons les valeurs des points blancs en utilisant la formule"
   ]
  },
  {
   "cell_type": "markdown",
   "metadata": {},
   "source": [
    "<!-- Equation labels as ordinary links -->\n",
    "<div id=\"eq:surrelax2D\"></div>\n",
    "\n",
    "$$\n",
    "\\begin{equation}\n",
    "u_{j,k}^{n+1} = (1 - \\omega) u_{j,k}^{n} + \\dfrac{\\omega}{4}(u_{j+1,k}^{n+1/2} + u_{j-1,k}^{n+1/2} + u_{j,k+1}^{n+1/2} + u_{j,k-1}^{n+1/2}) \\label{eq:surrelax2D} \\tag{45}\n",
    "\\end{equation}\n",
    "$$"
   ]
  },
  {
   "cell_type": "markdown",
   "metadata": {},
   "source": [
    "puis pour les étapes où n est un demi-entier, nous utilisons la même formule pour calculer les valeurs des points noirs. Nous pouvons répéter l'analyse de stabilité en utilisant l'approche de l'équation. ([38](#eq:approche)) et nous trouvons"
   ]
  },
  {
   "cell_type": "markdown",
   "metadata": {},
   "source": [
    "<!-- Equation labels as ordinary links -->\n",
    "<div id=\"_auto38\"></div>\n",
    "\n",
    "$$\n",
    "\\begin{equation}\n",
    "\\zeta^{1/2}(m_x, m_y) = \\dfrac{\\omega c \\pm \\sqrt{\\omega^2 c^2 - 4(\\omega -1)}}{2}\n",
    "\\label{_auto38} \\tag{46}\n",
    "\\end{equation}\n",
    "$$"
   ]
  },
  {
   "cell_type": "markdown",
   "metadata": {},
   "source": [
    "où"
   ]
  },
  {
   "cell_type": "markdown",
   "metadata": {},
   "source": [
    "<!-- Equation labels as ordinary links -->\n",
    "<div id=\"_auto39\"></div>\n",
    "\n",
    "$$\n",
    "\\begin{equation}\n",
    "c =\\dfrac{1}{2} (cos(\\dfrac{m_x \\pi \\Delta}{L}) + cos(\\dfrac{m_y \\pi \\Delta}{L}))\n",
    "\\label{_auto39} \\tag{47}\n",
    "\\end{equation}\n",
    "$$"
   ]
  },
  {
   "cell_type": "markdown",
   "metadata": {},
   "source": [
    "Cela révèle que le schéma de l'Eq. ([45](#eq:surrelax2D)) est stable pour $0 < \\omega < 2$. Lorsque $\\omega = 1$, la méthode est connue sous le nom de méthode Gauss-Seidel, qui converge un peu plus rapidement que la méthode Jacobi. Pour $\\omega> 1$, nous avons accéléré la convergence (par rapport à la relaxation) qui est connue sous le nom de sur-relaxation successive ou SOR (Successive Over-Relaxation, en anglais). Le paramètre $\\omega$ est connu comme le paramètre de sur-relaxation.\n",
    "\n",
    "Il existe une valeur optimale pour le paramètre de sur-relaxation pour lequel le rayon spectral est minimisé. Si nous nous concentrons sur le mode le moins amorti pour lequel $m_x = m_y = 1$, nous avons $c = \\rho_J$ et donc le rayon spectral en fonction de $\\omega$ peut être écrit comme"
   ]
  },
  {
   "cell_type": "markdown",
   "metadata": {},
   "source": [
    "<!-- Equation labels as ordinary links -->\n",
    "<div id=\"_auto40\"></div>\n",
    "\n",
    "$$\n",
    "\\begin{equation}\n",
    "\\rho(\\omega) = \\begin{cases} \\left[ \\dfrac{1}{2} \\omega \\rho_J + \\dfrac{1}{2} \\sqrt{\\omega^2 \\rho_J^2 - 4(\\omega - 1)} \\right]^2 & \\quad pour \\ 0 < \\omega \\le \\omega_{opt}\\\\\n",
    "\\omega -1 & \\quad pour  \\ \\omega_{opt} \\le \\omega <2\n",
    "\\end{cases}\n",
    "\\label{_auto40} \\tag{48}\n",
    "\\end{equation}\n",
    "$$"
   ]
  },
  {
   "cell_type": "markdown",
   "metadata": {},
   "source": [
    "où $\\omega_{opt}$ est le choix optimal qui minimise $\\rho$,"
   ]
  },
  {
   "cell_type": "markdown",
   "metadata": {},
   "source": [
    "<!-- Equation labels as ordinary links -->\n",
    "<div id=\"_auto41\"></div>\n",
    "\n",
    "$$\n",
    "\\begin{equation}\n",
    "\\omega_{opt} = \\dfrac{2}{1 + \\sqrt{1 - \\rho_J^2}} =  \\dfrac{2}{1 + sin(\\pi \\Delta/L)} \\quad pour \\ \\rho_J = cos(\\pi \\Delta/L).\n",
    "\\label{_auto41} \\tag{49}\n",
    "\\end{equation}\n",
    "$$"
   ]
  },
  {
   "cell_type": "markdown",
   "metadata": {},
   "source": [
    "Ainsi, ou le choix optimal du paramètre de sur-relaxation, $\\omega = \\omega_{opt} \\approx \\pi = N$, le rayon spectral est"
   ]
  },
  {
   "cell_type": "markdown",
   "metadata": {},
   "source": [
    "<!-- Equation labels as ordinary links -->\n",
    "<div id=\"_auto42\"></div>\n",
    "\n",
    "$$\n",
    "\\begin{equation}\n",
    "\\rho(\\omega_{opt})= \\rho_{opt} =  \\dfrac{1 - sin(\\pi \\Delta/L)}{1 + sin(\\pi \\Delta/L)} \\approx 1 - \\dfrac{2\\pi}{N}\n",
    "\\label{_auto42} \\tag{50}\n",
    "\\end{equation}\n",
    "$$"
   ]
  },
  {
   "cell_type": "markdown",
   "metadata": {},
   "source": [
    "et le nombre d'itérations nécessaires pour réduire l'erreur à une certaine tolérance $\\epsilon$ est"
   ]
  },
  {
   "cell_type": "markdown",
   "metadata": {},
   "source": [
    "<!-- Equation labels as ordinary links -->\n",
    "<div id=\"_auto43\"></div>\n",
    "\n",
    "$$\n",
    "\\begin{equation}\n",
    "n \\approx \\dfrac{ln \\epsilon}{ln \\rho_{opt}} \\approx \\dfrac{|ln \\epsilon|}{2 \\pi} N.\n",
    "\\label{_auto43} \\tag{51}\n",
    "\\end{equation}\n",
    "$$"
   ]
  },
  {
   "cell_type": "markdown",
   "metadata": {},
   "source": [
    "Maintenant, le nombre d'itérations est proportionnel à $N$ plutôt qu'à $N^2$, donc la convergence est atteinte beaucoup plus rapidement pour les grandes valeurs de $N$.\n",
    "\n",
    "Le programme `Laplace_surrelax.py` est une modification de `Laplace_relax.py` qui implémente une sur-relaxation successive. Le programme diffère dans de nombreux endroits, il est donc répertorié dans son intégralité. Les résultats pour $N = 100$ points le long d'un côté sont affichés sur la [figure](#fig:`Laplace_surrelax). La convergence se produit en 137 itérations."
   ]
  },
  {
   "cell_type": "code",
   "execution_count": 7,
   "metadata": {
    "collapsed": false
   },
   "outputs": [],
   "source": [
    "## NOM DU PROGRAMME: Laplace_surrelax.py\n",
    "#% IMPORTATION\n",
    "import numpy as np\n",
    "import matplotlib.pyplot as plt\n",
    "import mpl_toolkits.mplot3d\n",
    "eps = 1e-5 # erreur fractionnaire autorisée\n",
    "L = 1.0 # longueur de chaque côté\n",
    "N = int(input('nombre de points de grille sur un côté -> '))\n",
    "dy = dx = L/(N-1.0)\n",
    "x = np.array(range(N))*dx\n",
    "y = np.array(range(N))*dy\n",
    "(x, y) = np.meshgrid(x, y)\n",
    "u = np.zeros((N, N))\n",
    "# conditions aux limites\n",
    "for j in range(N):\n",
    "    u[j,N-1] = 1.0\n",
    "# calculer le paramètre de sur-relaxation\n",
    "omega = 2.0/(1.0+np.sin(np.pi*dx/L))\n",
    "# pixels blancs et noirs: les blancs ont j+k pairs; les noirs ont j+k impairs\n",
    "blanc = [(j, k) for j in range(1, N-1) for k in range(1, N-1) if (j+k)%2 == 0]\n",
    "noir = [(j, k) for j in range(1, N-1) for k in range(1, N-1) if (j+k)%2 == 1]\n",
    "# préparer l'animation\n",
    "image = plt.imshow(u.T, origin='lower', extent=(0.0, L, 0.0, L))\n",
    "n = 0 # nombre d'itérations\n",
    "err = 1.0 # erreur moyenne par site\n",
    "while err > eps:\n",
    "    # mettre à jour le tracé animé\n",
    "    image.set_data(u.T)\n",
    "    plt.title('itération %d'%n)\n",
    "    plt.tight_layout()\n",
    "    plt.show()\n",
    "    plt.pause(0.001)\n",
    "    # prochaine itération en raffinement\n",
    "    n = n+1\n",
    "    err = 0.0\n",
    "    for (j, k) in blanc+noir: # boucle sur pixels blancs puis pixels noirs\n",
    "        du = (u[j-1,k]+u[j+1,k]+u[j,k-1]+u[j,k+1])/4.0-u[j,k]\n",
    "        u[j,k] += omega*du\n",
    "        err += abs(du)\n",
    "    err /= N**2\n",
    "# tracé de surface de la solution finale\n",
    "fig = plt.figure()\n",
    "axis = fig.gca(projection='3d', azim=-60, elev=20)\n",
    "surf = axis.plot_surface(x, y, u.T, rstride=1, cstride=1, cmap='viridis')\n",
    "wire = axis.plot_wireframe(x, y, u.T, rstride=1+N//50, cstride=1+N//50,\n",
    "                           color = \"r\", linewidth=0.5, alpha = 0.5)\n",
    "axis.contour(x, y, u.T, 10, zdir='z', offset=-1.0)\n",
    "axis.set_xlabel('x')\n",
    "axis.set_ylabel('y')\n",
    "axis.set_zlabel('u')\n",
    "axis.set_zlim(-1.0, 1.0)\n",
    "fig.colorbar(surf)\n",
    "plt.tight_layout()\n",
    "plt.savefig(\"Laplace_surrelax.png\"); plt.savefig(\"Laplace_surrelax.pdf\")\n",
    "plt.show()"
   ]
  },
  {
   "cell_type": "markdown",
   "metadata": {},
   "source": [
    "<!-- dom:FIGURE:[scripts/anim5/output.gif, width=400 frac=1] -->\n",
    "<!-- begin figure -->\n",
    "\n",
    "<p></p>\n",
    "<img src=\"scripts/anim5/output.gif\" width=400>\n",
    "\n",
    "<!-- end figure -->\n",
    "\n",
    "\n",
    "<!-- dom:FIGURE:[scripts/Laplace_surrelax.png, width=500 frac=.7] Résultats de l'exécution du programme `LaplaceJacobi_surrelax.py` avec les paramètres N = 100 points de grille le long de chaque côté. La solution est obtenue après 137 itérations. <div id=\"fig:`Laplace_surrelax\"></div> -->\n",
    "<!-- begin figure -->\n",
    "<div id=\"fig:`Laplace_surrelax\"></div>\n",
    "\n",
    "<p>Résultats de l'exécution du programme <code>LaplaceJacobi_surrelax.py</code> avec les paramètres N = 100 points de grille le long de chaque côté. La solution est obtenue après 137 itérations.</p>\n",
    "<img src=\"scripts/Laplace_surrelax.png\" width=500>\n",
    "\n",
    "<!-- end figure -->\n",
    "\n",
    "\n",
    "Comme dernier exemple, résolvons le potentiel électrique produit par une charge ponctuelle centrée dans un cube avec des bords de longueur $2L$ dans laquelle les faces du cube sont mises à la terre comme le montre la [figure](#fig:laplace3D).\n",
    "\n",
    "<!-- dom:FIGURE:[imgs/laplace3D.png, width=400 frac=.5] Exemple de problème de valeur limite pour l'équation de Poisson : une charge ponctuelle $q$ est située au centre d'un cube de longueur d'arête $2L$ dont les faces sont mises à la terre. <div id=\"fig:laplace3D\"></div> -->\n",
    "<!-- begin figure -->\n",
    "<div id=\"fig:laplace3D\"></div>\n",
    "\n",
    "<p>Exemple de problème de valeur limite pour l'équation de Poisson : une charge ponctuelle $q$ est située au centre d'un cube de longueur d'arête $2L$ dont les faces sont mises à la terre.</p>\n",
    "<img src=\"imgs/laplace3D.png\" width=400>\n",
    "\n",
    "<!-- end figure -->\n",
    "\n",
    "\n",
    "Il s'agit maintenant d'un problème tridimensionnel que nous pouvons à nouveau résoudre en utilisant une sur-relaxation successive, et notre équation d'itération comprend désormais également un terme source:"
   ]
  },
  {
   "cell_type": "markdown",
   "metadata": {},
   "source": [
    "<!-- Equation labels as ordinary links -->\n",
    "<div id=\"eq:surrelax3D\"></div>\n",
    "\n",
    "$$\n",
    "\\begin{equation}\n",
    "u_{i,j,k}^{n+1} = (1 - \\omega) u_{i,j,k}^{n} + \\dfrac{\\omega}{6}(u_{i+1,j,k}^{n+1/2} + u_{i-1,j,k}^{n+1/2} + u_{i,j+1,k}^{n+1/2} + u_{i,j-1,k}^{n+1/2} + u_{i,j,k+1}^{n+1/2} + u_{i,j,k-1}^{n+1/2}) + \\dfrac{\\omega}{6} \\dfrac{\\rho_{i,j,k}}{\\epsilon_0} \\label{eq:surrelax3D} \\tag{52}\n",
    "\\end{equation}\n",
    "$$"
   ]
  },
  {
   "cell_type": "markdown",
   "metadata": {},
   "source": [
    "Encore une fois, nous divisons le réseau de points de la grille en pixels «blancs» et «noirs» alternés et résolvons les pixels blancs sur les pas entiers et les pixels noirs sur les pas demi-entiers. La charge ponctuelle nous donne une densité de charge que nous considérons comme étant"
   ]
  },
  {
   "cell_type": "markdown",
   "metadata": {},
   "source": [
    "<!-- Equation labels as ordinary links -->\n",
    "<div id=\"_auto44\"></div>\n",
    "\n",
    "$$\n",
    "\\begin{equation}\n",
    "\\rho_{i,j,k} = \\begin{cases} \\dfrac{q}{\\Delta^3} & \\quad pour \\ i = j = k = (N-1)/2\\\\\n",
    " 0 & \\text{autrement}\n",
    "\\end{cases}\n",
    "\\label{_auto44} \\tag{53}\n",
    "\\end{equation}\n",
    "$$"
   ]
  },
  {
   "cell_type": "markdown",
   "metadata": {},
   "source": [
    "et nous devons être sûrs de choisir une valeur impaire pour $N$ afin qu'il y ait un point de grille au centre exact de la boîte.\n",
    "\n",
    "Le programme `charge.py` répertorié ci-dessous calcule le champ de potentiel électrique dans la boîte mise à la terre pour une unité $q = \\epsilon_0 = 1$ charge. Les résultats sont présentés sur la [figure](#fig:charge)."
   ]
  },
  {
   "cell_type": "code",
   "execution_count": 8,
   "metadata": {
    "collapsed": false
   },
   "outputs": [],
   "source": [
    "## NOM DU PROGRAMME: charge.py\n",
    "#% IMPORTATION\n",
    "import numpy as np\n",
    "import matplotlib.pyplot as plt\n",
    "import mpl_toolkits.mplot3d\n",
    "eps = 1e-5 # erreur fractionnaire autorisée\n",
    "L = 1.0 # longueur de chaque côté\n",
    "N = int(input('nombre de points de grille sur un côté -> '))\n",
    "dz = dy = dx = 2.0*L/(N-1.0)\n",
    "x = -L + np.array(range(N))*dx\n",
    "y = -L + np.array(range(N))*dy\n",
    "z = -L + np.array(range(N))*dz\n",
    "u = np.zeros((N, N, N))\n",
    "rho = np.zeros((N, N, N))\n",
    "# source\n",
    "q = 1.0\n",
    "rho[(N-1)//2,(N-1)//2,(N-1)//2] = q/(dx*dy*dz)\n",
    "# préparer l'animation\n",
    "s = u[:,:,(N-1)//2]\n",
    "image = plt.imshow(s.T, origin='lower', extent=(-L, L, -L, L), vmax=1.0)\n",
    "# calculer le paramètre de sur-relaxation\n",
    "omega = 2.0/(1.0+np.sin(np.pi*dx/L))\n",
    "# pixels blancs et noirs: les blancs ont i+j+k pairs; les noirs ont i+j+k impairs\n",
    "blanc = [(i, j, k) for i in range(1, N-1) for j in range(1, N-1) \\\n",
    "         for k in range(1, N-1) if (i+j+k)%2 == 0]\n",
    "noir = [(i, j, k) for i in range(1, N-1) for j in range(1, N-1) \\\n",
    "         for k in range(1, N-1) if (i+j+k)%2 == 1]\n",
    "n = 0 # nombre d'itérations\n",
    "err = 1.0 # erreur moyenne par site\n",
    "while err > eps:\n",
    "    image.set_data(s.T)\n",
    "    plt.title('itération %d'%n)\n",
    "    plt.tight_layout()\n",
    "    plt.show()\n",
    "    plt.pause(0.001)\n",
    "    # prochaine itération en raffinement\n",
    "    n = n+1\n",
    "    err = 0.0\n",
    "    # lboucle sur pixels blancs puis pixels noirs\n",
    "    for (i, j, k) in blanc+noir:\n",
    "        du = (u[i-1,j,k] + u[i+1,j,k] + u[i,j-1,k] + u[i,j+1,k] + u[i,j,k-1] \\\n",
    "              + u[i,j,k+1] + dx**2*rho[i,j,k])/6.0 - u[i,j,k]\n",
    "        u[i,j,k] += omega*du\n",
    "        err += abs(du)\n",
    "    err /= N**3\n",
    "# tracé de surface de la solution finale\n",
    "(x, y) = np.meshgrid(x, y)\n",
    "s = s.clip(eps, 1.0)\n",
    "levels = [10**(l/2.0) for l in range(-5, 0)]\n",
    "fig = plt.figure()\n",
    "axis = fig.gca(projection='3d', azim=-60, elev=20)\n",
    "surf = axis.plot_surface(x, y, s.T, rstride=1, cstride=1, cmap='viridis')\n",
    "wire = axis.plot_wireframe(x, y, s.T, rstride=1+N//50, cstride=1+N//50,\n",
    "                           color = \"r\", linewidth=0.5, alpha = 0.5)\n",
    "axis.contour(x, y, s.T, levels, zdir='z', offset=-1.0)\n",
    "axis.contourf(x, y, s.T, 4, zdir='x', offset=-L)\n",
    "axis.contourf(x, y, s.T, 4, zdir='y', offset=L)\n",
    "axis.set_zlim(-1.0, 1.0)\n",
    "axis.set_xlabel('x')\n",
    "axis.set_ylabel('y')\n",
    "axis.set_zlabel('u')\n",
    "fig.colorbar(surf)\n",
    "plt.tight_layout()\n",
    "plt.savefig(\"charge.png\"); plt.savefig(\"charge.pdf\")\n",
    "plt.show()"
   ]
  },
  {
   "cell_type": "markdown",
   "metadata": {},
   "source": [
    "<!-- dom:FIGURE:[scripts/anim6/output.gif, width=400 frac=1] -->\n",
    "<!-- begin figure -->\n",
    "\n",
    "<p></p>\n",
    "<img src=\"scripts/anim6/output.gif\" width=400>\n",
    "\n",
    "<!-- end figure -->\n",
    "\n",
    "\n",
    "<!-- dom:FIGURE:[scripts/charge.png, width=500 frac=.7] Résultats de l'exécution du programme `charge.py` avec des paramètres N = 50 points de grille le long de chaque côté. <div id=\"fig:charge\"></div> -->\n",
    "<!-- begin figure -->\n",
    "<div id=\"fig:charge\"></div>\n",
    "\n",
    "<p>Résultats de l'exécution du programme <code>charge.py</code> avec des paramètres N = 50 points de grille le long de chaque côté.</p>\n",
    "<img src=\"scripts/charge.png\" width=500>\n",
    "\n",
    "<!-- end figure -->"
   ]
  }
 ],
 "metadata": {},
 "nbformat": 4,
 "nbformat_minor": 2
}
