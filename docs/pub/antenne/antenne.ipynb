{
 "cells": [
  {
   "cell_type": "markdown",
   "metadata": {},
   "source": [
    "<!-- dom:TITLE: Diagramme de rayonnement -->\n",
    "# Diagramme de rayonnement\n",
    "<!-- dom:AUTHOR: Ahmed Ammar Email:ahmed.ammar@fst.utm.tn at Institut Préparatoire aux Études Scientifiques et Techniques, Université de Carthage. -->\n",
    "<!-- Author: -->  \n",
    "**Ahmed Ammar** (email: `ahmed.ammar@fst.utm.tn`), Institut Préparatoire aux Études Scientifiques et Techniques, Université de Carthage.\n",
    "\n",
    "Date: **Feb 24, 2020**\n",
    "\n",
    "Copyright 2020, Ahmed Ammar. Released under CC Attribution 4.0 license\n",
    "\n",
    "\n",
    "\n",
    "<!-- TOC: on -->\n",
    "# Antenne dipolaire\n",
    "Pour une antenne dipolaire de longueur L, le calcul est très complexe car on ne connaît pas a priori l'expression de l'intensité I(z,t) du courant dans l'antenne. Les calculs conduisent à l'expression suivante :"
   ]
  },
  {
   "cell_type": "markdown",
   "metadata": {},
   "source": [
    "<!-- Equation labels as ordinary links -->\n",
    "<div id=\"_auto1\"></div>\n",
    "\n",
    "$$\n",
    "\\begin{equation}\n",
    "I(z,t)=I_0 sin(\\frac{L}{2}-z)e^{-i \\omega t}\n",
    "\\label{_auto1} \\tag{1}\n",
    "\\end{equation}\n",
    "$$"
   ]
  },
  {
   "cell_type": "markdown",
   "metadata": {},
   "source": [
    "On par ailleurs I(-z,t)=I(z,t). Le courant s'annule aux extrémités et varie sinusoïdalement avec une période $\\lambda$. Connaissant le courant, on peut calculer le champ électromagnétique en sommant les contributions des segments élémentaires, qui sont des dipôles oscillants.\n",
    "\n",
    "Pour une antenne de longueur petite devant la longueur d'onde, le courant décroît linéairement entre sa valeur I0 au centre de l'antenne et une valeur nulle à l'extrémité. Dans ce cas, on peut utiliser les résultats du dipôle oscillant en remplaçant I0 par I0/2.\n",
    "\n",
    "Il est intéressant d'augmenter la longueur des antennes car la puissance émise est proportionnelle au carré de la longueur. Pour des fréquences supérieures à $100 \\ MHz$, on utilise des antennes dont la longueur n'est pas petite devant la longueur d'onde. Par exemple, une antenne demi-onde a une longueur égale à $\\lambda / 2$. Dans le cas général, le facteur angulaire du champ électrique est la fonction suivante :"
   ]
  },
  {
   "cell_type": "markdown",
   "metadata": {},
   "source": [
    "<!-- Equation labels as ordinary links -->\n",
    "<div id=\"_auto2\"></div>\n",
    "\n",
    "$$\n",
    "\\begin{equation}\n",
    "f(\\theta) = \\frac{cos(\\frac{kL}{2}cos \\theta) -cos(\\frac{kL}{2})}{sin \\theta}\n",
    "\\label{_auto2} \\tag{2}\n",
    "\\end{equation}\n",
    "$$"
   ]
  },
  {
   "cell_type": "markdown",
   "metadata": {},
   "source": [
    "Le carré de cette fonction permet de tracer le diagramme de rayonnement en fonction du rapport"
   ]
  },
  {
   "cell_type": "markdown",
   "metadata": {},
   "source": [
    "<!-- Equation labels as ordinary links -->\n",
    "<div id=\"_auto3\"></div>\n",
    "\n",
    "$$\n",
    "\\begin{equation}\n",
    "\\frac{kL}{2} = \\frac{\\pi L}{\\lambda}\n",
    "\\label{_auto3} \\tag{3}\n",
    "\\end{equation}\n",
    "$$"
   ]
  },
  {
   "cell_type": "markdown",
   "metadata": {},
   "source": [
    "## Simulation Python"
   ]
  },
  {
   "cell_type": "code",
   "execution_count": 1,
   "metadata": {
    "collapsed": false
   },
   "outputs": [],
   "source": [
    "%matplotlib inline\n",
    "\n",
    "## NOM DU PROGRAMME: DipRadiation.py\n",
    "#% IMPORTATION\n",
    "import numpy as np\n",
    "import matplotlib.pyplot as plt\n",
    "import mpl_toolkits.mplot3d.axes3d as axes3d\n",
    "\n",
    "def rho(theta, rapport = 0.5):\n",
    "    u = rapport* np.pi\n",
    "    F = (np.cos(u*np.cos(theta)) - np.cos(u))/(np.sin(theta))\n",
    "    G = F * F\n",
    "    return G/G.max() \n",
    "\n",
    "plt.figure()\n",
    "ax = plt.subplot(111, polar=True)\n",
    "plt.title(\"Rayonnement d'une antenne dipolaire de longueur L\")\n",
    "ax.set_theta_zero_location('N')\n",
    "ax.set_theta_direction(-1)\n",
    "\n",
    "ax.grid(True)\n",
    "theta = np.linspace(0.01,2*np.pi,500)\n",
    "\n",
    "for rapport in [0.5,1.0,1.5, 2]:\n",
    "    ax.plot(theta,rho(theta, rapport), lw = 2,\n",
    "            label=r\"$L/\\lambda=%.1f$\"%rapport)\n",
    "plt.legend(loc='lower right')\n",
    "plt.tight_layout()\n",
    "plt.savefig(\"dipole.png\"); plt.savefig(\"dipole.pdf\")\n",
    "plt.show()\n",
    "\n",
    "#% Dipôle 3D\n",
    "Theta = np.linspace(0.001,np.pi,400)\n",
    "Phi = np.linspace(0.001,2*np.pi,400)\n",
    "THETA, PHI = np.meshgrid(Theta,Phi)\n",
    "# \n",
    "def sph2cart(azimuth,elevation,r):\n",
    "    \"\"\"\n",
    "    Convertisseur de Coordonnée Sphérique/Cartésienne\n",
    "    \"\"\"\n",
    "    x = r * np.sin(elevation) * np.cos(azimuth)\n",
    "    y = r * np.sin(elevation) * np.sin(azimuth)\n",
    "    z = r * np.cos(elevation)\n",
    "    return x, y, z\n",
    "\n",
    "import matplotlib.colors as mcolors\n",
    "fig = plt.figure(figsize=(8,5))\n",
    "cmap = plt.get_cmap('gnuplot')\n",
    "rapport = 1.4\n",
    "X, Y, Z = sph2cart(PHI,THETA,rho(THETA,rapport))\n",
    "#ax1 = plt.subplot(121, polar=True)\n",
    "#ax1.plot(theta,rho(theta, rapport), lw = 2)\n",
    "#ax1.set_theta_zero_location('N')\n",
    "#ax1.set_theta_direction(-1)\n",
    "ax2 = plt.subplot(111, projection='3d')\n",
    "ax2._axis3don = False # hide x, y, z axis\n",
    "norm = mcolors.Normalize(vmin=Z.min(), vmax=Z.max())\n",
    "ax2.plot_surface(X, Y, Z, rstride=8, cstride=8,\n",
    "                 facecolors=cmap(norm(Z)), antialiased=True, alpha=0.5)\n",
    "fig.suptitle(\"Diagramme de rayonnement: \"+r\"$L/\\lambda=%.1f$\"%rapport)\n",
    "plt.tight_layout()\n",
    "plt.savefig(\"dipole3D_w14.png\"); plt.savefig(\"dipole3D_w14.pdf\")"
   ]
  },
  {
   "cell_type": "markdown",
   "metadata": {},
   "source": [
    "<!-- dom:FIGURE:[scripts/dipole.png, width=500 frac=.8] -->\n",
    "<!-- begin figure -->\n",
    "\n",
    "<p></p>\n",
    "<img src=\"scripts/dipole.png\" width=500>\n",
    "\n",
    "<!-- end figure -->\n",
    "\n",
    "\n",
    "<!-- dom:FIGURE:[scripts/dipole3D_w05.png, width=500 frac=1] -->\n",
    "<!-- begin figure -->\n",
    "\n",
    "<p></p>\n",
    "<img src=\"scripts/dipole3D_w05.png\" width=500>\n",
    "\n",
    "<!-- end figure -->\n",
    "\n",
    "\n",
    "<!-- dom:FIGURE:[scripts/dipole3D.png, width=500 frac=1] -->\n",
    "<!-- begin figure -->\n",
    "\n",
    "<p></p>\n",
    "<img src=\"scripts/dipole3D.png\" width=500>\n",
    "\n",
    "<!-- end figure -->"
   ]
  }
 ],
 "metadata": {},
 "nbformat": 4,
 "nbformat_minor": 2
}
