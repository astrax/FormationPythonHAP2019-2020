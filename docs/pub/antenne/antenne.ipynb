{
 "cells": [
  {
   "cell_type": "markdown",
   "metadata": {},
   "source": [
    "<!-- dom:TITLE: Diagramme de rayonnement -->\n",
    "# Diagramme de rayonnement\n",
    "<!-- dom:AUTHOR: Ahmed Ammar Email:ahmed.ammar@fst.utm.tn at Institut Préparatoire aux Études Scientifiques et Techniques, Université de Carthage. -->\n",
    "<!-- Author: -->  \n",
    "**Ahmed Ammar** (email: `ahmed.ammar@fst.utm.tn`), Institut Préparatoire aux Études Scientifiques et Techniques, Université de Carthage.\n",
    "\n",
    "Date: **Feb 24, 2020**\n",
    "\n",
    "Copyright 2020, Ahmed Ammar. Released under CC Attribution 4.0 license\n",
    "\n",
    "\n",
    "\n",
    "<!-- TOC: on -->\n",
    "# Diagramme de rayonnement\n",
    "La puissance surfacique rayonnée dépend localement de l'angle $\\theta$. Elle est maximale dans le plan équatorial et s'annule dans l'axe du dipôle. Pour représenter graphiquement cette dépendance angulaire, on trace la courbe suivante en coordonnées polaires [[perez1997electromagnetisme]](#perez1997electromagnetisme):"
   ]
  },
  {
   "cell_type": "markdown",
   "metadata": {},
   "source": [
    "<!-- Equation labels as ordinary links -->\n",
    "<div id=\"_auto1\"></div>\n",
    "\n",
    "$$\n",
    "\\begin{equation}\n",
    "\\rho (\\theta)=sin^2 \\theta\n",
    "\\label{_auto1} \\tag{1}\n",
    "\\end{equation}\n",
    "$$"
   ]
  },
  {
   "cell_type": "markdown",
   "metadata": {},
   "source": [
    "## Simulation Python"
   ]
  },
  {
   "cell_type": "code",
   "execution_count": 1,
   "metadata": {
    "collapsed": false
   },
   "outputs": [],
   "source": [
    "%matplotlib inline\n",
    "\n",
    "## NOM DU PROGRAMME: DipRadiation.py\n",
    "#% IMPORTATION\n",
    "import numpy as np\n",
    "import matplotlib.pyplot as plt\n",
    "\n",
    "theta = np.linspace(0,2*np.pi,500)\n",
    "rho = np.sin(theta)**2\n",
    "plt.figure()\n",
    "ax = plt.subplot(111, polar=True)\n",
    "ax.plot(theta, rho,color='r')\n",
    "ax.set_theta_zero_location('N')\n",
    "ax.set_theta_direction(-1)\n",
    "ax.set_rmax(1.0)\n",
    "ax.set_title(\"Rayonnement d'un dipole\", va='bottom')\n",
    "theta = np.linspace(0.01,2*np.pi,500)\n",
    "plt.tight_layout()\n",
    "plt.savefig(\"dipole1.png\"); plt.savefig(\"dipole1.pdf\")\n",
    "plt.show()"
   ]
  },
  {
   "cell_type": "markdown",
   "metadata": {},
   "source": [
    "<!-- dom:FIGURE:[scripts/dipole1.png, width=500 frac=1] -->\n",
    "<!-- begin figure -->\n",
    "\n",
    "<p></p>\n",
    "<img src=\"scripts/dipole1.png\" width=500>\n",
    "\n",
    "<!-- end figure -->\n",
    "\n",
    "\n",
    "Ce tracé est un diagramme de rayonnement (ou indicatrice de rayonnement). Il permet de voir comment évolue la puissance avec l'angle. On voit par exemple que la puissance est égale à la moitié de sa valeur maximale pour un angle de 45 degrés.\n",
    "\n",
    "Pour tracer le diagramme de rayonnement sur un graphe 3D, nous devons passer par une fonction de conversion de coordonnées sphériques/cartésiennes; `sph2cart(azimuth,elevation,r)`:"
   ]
  },
  {
   "cell_type": "code",
   "execution_count": 2,
   "metadata": {
    "collapsed": false
   },
   "outputs": [],
   "source": [
    "## NOM DU PROGRAMME: DipRadiation3D.py\n",
    "#% IMPORTATION\n",
    "import numpy as np\n",
    "import matplotlib.pyplot as plt\n",
    "import mpl_toolkits.mplot3d.axes3d as axes3d\n",
    "import matplotlib.colors as mcolors\n",
    "\n",
    "def sph2cart(azimuth,elevation,r):\n",
    "    \"\"\"\n",
    "    Convertisseur de Coordonnée Sphérique/Cartésienne\n",
    "    \"\"\"\n",
    "    x = r * np.sin(elevation) * np.cos(azimuth)\n",
    "    y = r * np.sin(elevation) * np.sin(azimuth)\n",
    "    z = r * np.cos(elevation)\n",
    "    return x, y, z\n",
    "theta = np.linspace(0.001,np.pi,400)\n",
    "phi = np.linspace(0.001,2*np.pi,400)\n",
    "THETA, PHI = np.meshgrid(theta,phi)\n",
    "RHO = np.sin(THETA)**2\n",
    "X, Y, Z = sph2cart(PHI,THETA,RHO)\n",
    "fig = plt.figure(figsize=(8,5))\n",
    "cmap = plt.get_cmap('gnuplot')\n",
    "ax2 = plt.subplot(111, projection='3d')\n",
    "ax2._axis3don = False # hide x, y, z axis\n",
    "norm = mcolors.Normalize(vmin=Z.min(), vmax=Z.max())\n",
    "ax2.plot_surface(X, Y, Z, rstride=8, cstride=8,\n",
    "                 facecolors=cmap(norm(Z)), antialiased=True, alpha=0.5)\n",
    "fig.suptitle(\"Rayonnement d'un dipole (3D)\")\n",
    "plt.tight_layout()\n",
    "plt.savefig(\"dipole1_3D.png\"); plt.savefig(\"dipole1_3D.pdf\")\n",
    "plt.show()"
   ]
  },
  {
   "cell_type": "markdown",
   "metadata": {},
   "source": [
    "<!-- dom:FIGURE:[scripts/dipole1_3D.png, width=500 frac=1] -->\n",
    "<!-- begin figure -->\n",
    "\n",
    "<p></p>\n",
    "<img src=\"scripts/dipole1_3D.png\" width=500>\n",
    "\n",
    "<!-- end figure -->\n",
    "\n",
    "## Antenne dipolaire\n",
    "\n",
    "Pour une antenne dipolaire de longueur L, le calcul est très complexe car on ne connaît pas a priori l'expression de l'intensité I(z,t) du courant dans l'antenne. Les calculs conduisent à l'expression suivante :"
   ]
  },
  {
   "cell_type": "markdown",
   "metadata": {},
   "source": [
    "<!-- Equation labels as ordinary links -->\n",
    "<div id=\"_auto2\"></div>\n",
    "\n",
    "$$\n",
    "\\begin{equation}\n",
    "I(z,t)=I_0 sin(\\frac{L}{2}-z)e^{-i \\omega t}\n",
    "\\label{_auto2} \\tag{2}\n",
    "\\end{equation}\n",
    "$$"
   ]
  },
  {
   "cell_type": "markdown",
   "metadata": {},
   "source": [
    "On par ailleurs I(-z,t)=I(z,t). Le courant s'annule aux extrémités et varie sinusoïdalement avec une période $\\lambda$. Connaissant le courant, on peut calculer le champ électromagnétique en sommant les contributions des segments élémentaires, qui sont des dipôles oscillants.\n",
    "\n",
    "Pour une antenne de longueur petite devant la longueur d'onde, le courant décroît linéairement entre sa valeur I0 au centre de l'antenne et une valeur nulle à l'extrémité. Dans ce cas, on peut utiliser les résultats du dipôle oscillant en remplaçant I0 par I0/2.\n",
    "\n",
    "Il est intéressant d'augmenter la longueur des antennes car la puissance émise est proportionnelle au carré de la longueur. Pour des fréquences supérieures à $100 \\ MHz$, on utilise des antennes dont la longueur n'est pas petite devant la longueur d'onde. Par exemple, une antenne demi-onde a une longueur égale à $\\lambda / 2$. Dans le cas général, le facteur angulaire du champ électrique est la fonction suivante [[perez1997electromagnetisme]](#perez1997electromagnetisme):"
   ]
  },
  {
   "cell_type": "markdown",
   "metadata": {},
   "source": [
    "<!-- Equation labels as ordinary links -->\n",
    "<div id=\"_auto3\"></div>\n",
    "\n",
    "$$\n",
    "\\begin{equation}\n",
    "f(\\theta) = \\frac{cos(\\frac{kL}{2}cos \\theta) -cos(\\frac{kL}{2})}{sin \\theta}\n",
    "\\label{_auto3} \\tag{3}\n",
    "\\end{equation}\n",
    "$$"
   ]
  },
  {
   "cell_type": "markdown",
   "metadata": {},
   "source": [
    "Le carré de cette fonction permet de tracer le diagramme de rayonnement en fonction du rapport"
   ]
  },
  {
   "cell_type": "markdown",
   "metadata": {},
   "source": [
    "<!-- Equation labels as ordinary links -->\n",
    "<div id=\"_auto4\"></div>\n",
    "\n",
    "$$\n",
    "\\begin{equation}\n",
    "\\frac{kL}{2} = \\frac{\\pi L}{\\lambda}\n",
    "\\label{_auto4} \\tag{4}\n",
    "\\end{equation}\n",
    "$$"
   ]
  },
  {
   "cell_type": "markdown",
   "metadata": {},
   "source": [
    "## Simulation Python"
   ]
  },
  {
   "cell_type": "code",
   "execution_count": 3,
   "metadata": {
    "collapsed": false
   },
   "outputs": [],
   "source": [
    "## NOM DU PROGRAMME: DipRadiationGeneral.py\n",
    "#% IMPORTATION\n",
    "import numpy as np\n",
    "import matplotlib.pyplot as plt\n",
    "import mpl_toolkits.mplot3d.axes3d as axes3d\n",
    "\n",
    "def rho(theta, rapport = 0.5):\n",
    "    u = rapport* np.pi\n",
    "    F = (np.cos(u*np.cos(theta)) - np.cos(u))/(np.sin(theta))\n",
    "    G = F * F\n",
    "    return G/G.max() \n",
    "\n",
    "plt.figure()\n",
    "ax = plt.subplot(111, polar=True)\n",
    "plt.title(\"Rayonnement d'une antenne dipolaire de longueur L\")\n",
    "ax.set_theta_zero_location('N')\n",
    "ax.set_theta_direction(-1)\n",
    "ax.set_rmax(1.0)\n",
    "theta = np.linspace(0.01,2*np.pi,500)\n",
    "\n",
    "for rapport in [0.5,1.0,1.5, 2]:\n",
    "    ax.plot(theta,rho(theta, rapport), lw = 2,\n",
    "            label=r\"$L/\\lambda=%.1f$\"%rapport, alpha=0.75)\n",
    "plt.legend(loc='lower right')\n",
    "plt.tight_layout()\n",
    "plt.savefig(\"dipole.png\"); plt.savefig(\"dipole.pdf\")\n",
    "plt.show()\n",
    "\n",
    "#% Dipôle 3D\n",
    "Theta = np.linspace(0.001,np.pi,400)\n",
    "Phi = np.linspace(0.001,2*np.pi,400)\n",
    "THETA, PHI = np.meshgrid(Theta,Phi)\n",
    "# \n",
    "def sph2cart(azimuth,elevation,r):\n",
    "    \"\"\"\n",
    "    Convertisseur de Coordonnée Sphérique/Cartésienne\n",
    "    \"\"\"\n",
    "    x = r * np.sin(elevation) * np.cos(azimuth)\n",
    "    y = r * np.sin(elevation) * np.sin(azimuth)\n",
    "    z = r * np.cos(elevation)\n",
    "    return x, y, z\n",
    "\n",
    "import matplotlib.colors as mcolors\n",
    "fig = plt.figure(figsize=(8,5))\n",
    "cmap = plt.get_cmap('gnuplot')\n",
    "rapport = 1.4\n",
    "X, Y, Z = sph2cart(PHI,THETA,rho(THETA,rapport))\n",
    "#ax1 = plt.subplot(121, polar=True)\n",
    "#ax1.plot(theta,rho(theta, rapport), lw = 2)\n",
    "#ax1.set_theta_zero_location('N')\n",
    "#ax1.set_theta_direction(-1)\n",
    "ax2 = plt.subplot(111, projection='3d')\n",
    "ax2._axis3don = False # hide x, y, z axis\n",
    "norm = mcolors.Normalize(vmin=Z.min(), vmax=Z.max())\n",
    "ax2.plot_surface(X, Y, Z, rstride=8, cstride=8,\n",
    "                 facecolors=cmap(norm(Z)), antialiased=True, alpha=0.5)\n",
    "fig.suptitle(\"Diagramme de rayonnement: \"+r\"$L/\\lambda=%.1f$\"%rapport)\n",
    "plt.tight_layout()\n",
    "plt.savefig(\"dipole3D_w14.png\"); plt.savefig(\"dipole3D_w14.pdf\")"
   ]
  },
  {
   "cell_type": "markdown",
   "metadata": {},
   "source": [
    "<!-- dom:FIGURE:[scripts/dipole.png, width=500 frac=1] -->\n",
    "<!-- begin figure -->\n",
    "\n",
    "<p></p>\n",
    "<img src=\"scripts/dipole.png\" width=500>\n",
    "\n",
    "<!-- end figure -->\n",
    "\n",
    "\n",
    "On voit que la directivité de l'émission augmente avec la longueur de l'antenne. Pour $L > \\lambda$, il apparaît des lobes à 45 degrés, qui deviennent prépondérants lorsque la longueur augmente.\n",
    "\n",
    "<!-- dom:FIGURE:[scripts/dipole3D_w05.png, width=500 frac=1] -->\n",
    "<!-- begin figure -->\n",
    "\n",
    "<p></p>\n",
    "<img src=\"scripts/dipole3D_w05.png\" width=500>\n",
    "\n",
    "<!-- end figure -->\n",
    "\n",
    "\n",
    "<!-- dom:FIGURE:[scripts/dipole3D.png, width=500 frac=1] -->\n",
    "<!-- begin figure -->\n",
    "\n",
    "<p></p>\n",
    "<img src=\"scripts/dipole3D.png\" width=500>\n",
    "\n",
    "<!-- end figure -->\n",
    "\n",
    "\n",
    "\n",
    "# References\n",
    "1. <div id=\"perez1997electromagnetisme\"></div> **J.-P. Pérez, R. Fleckinger and R. Carles**. \n",
    "    *Electromagnétisme: Fondements Et Applications: Avec 300 Exercices Et Problèmes Résolus*,\n",
    "    Masson,\n",
    "    1997."
   ]
  }
 ],
 "metadata": {},
 "nbformat": 4,
 "nbformat_minor": 2
}
