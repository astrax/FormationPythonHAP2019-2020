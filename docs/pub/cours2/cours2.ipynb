{
 "cells": [
  {
   "cell_type": "markdown",
   "metadata": {},
   "source": [
    "<!-- dom:TITLE: Introduction à Python III : Contrôle du flux d’instructions -->\n",
    "# Introduction à Python III : Contrôle du flux d’instructions\n",
    "<!-- dom:AUTHOR: Ahmed Ammar Email:ahmed.ammar@fst.utm.tn at Institut Préparatoire aux Études Scientifiques et Techniques, Université de Carthage. -->\n",
    "<!-- Author: -->  \n",
    "**Ahmed Ammar** (email: `ahmed.ammar@fst.utm.tn`), Institut Préparatoire aux Études Scientifiques et Techniques, Université de Carthage.\n",
    "\n",
    "Date: **Oct 23, 2019**\n",
    "\n",
    "Copyright 2019, Ahmed Ammar. Released under CC Attribution 4.0 license\n",
    "\n",
    "\n",
    "\n",
    "\n",
    "\n",
    "\n",
    "\n",
    "\n",
    "# Les conditions\n",
    "## L'instruction `if`\n",
    "En programmation, nous avons toujours besoin de la notion de condition pour permettre à un programme de s'adapter à différents cas de figure.\n",
    "\n",
    "**Syntaxe.**"
   ]
  },
  {
   "cell_type": "markdown",
   "metadata": {},
   "source": [
    "```Python\n",
    "        if expression: # ne pas oublier le signe de ponctuation ':'\n",
    "            \"bloc d'instructions\" # attention à l'indentation (1 Tab ou 4 * Espaces)\n",
    "        # suite du programme\n",
    "```"
   ]
  },
  {
   "cell_type": "markdown",
   "metadata": {},
   "source": [
    "* Si l'expression est vraie (`True`) alors le bloc d'instructions est exécuté.\n",
    "\n",
    "* Si l'expression est fausse (`False`) on passe directement à la suite du programme.\n",
    "\n",
    "### Exemple 1: Note sur 20\n",
    "\n",
    "Dans cet exemple nous allons tester si la note entrée par l'utilisateur. Si la note est > 10 on doit recevoir le message: \"J'ai la moyenne\" sinon il va rien faire."
   ]
  },
  {
   "cell_type": "code",
   "execution_count": 1,
   "metadata": {
    "collapsed": false
   },
   "outputs": [],
   "source": [
    "chaine = input(\"Note sur 20 : \")\n",
    "note = float(chaine)\n",
    "if note >= 10.0:\n",
    "    # ce bloc est exécuté si l'expression (note >= 10.0) est vraie\n",
    "    print(\"J'ai la moyenne\")\n",
    "\n",
    "# suite du programme\n",
    "print(\"Fin du programme\")"
   ]
  },
  {
   "cell_type": "markdown",
   "metadata": {},
   "source": [
    "**Notice.**\n",
    "\n",
    "* Les blocs de code sont délimités par l'indentation.\n",
    "\n",
    "* L'indentation est obligatoire dans les scripts.\n",
    "\n",
    "\n",
    "\n",
    "## L'instruction `else`\n",
    "\n",
    "Une instruction `else` est toujours associée à une instruction `if`.\n",
    "\n",
    "**Syntaxe.**"
   ]
  },
  {
   "cell_type": "markdown",
   "metadata": {},
   "source": [
    "```Python\n",
    "        if expression:\n",
    "            \"bloc d'instructions 1\"    # attention à l'indentation (1 Tab ou 4 * Espaces)\n",
    "        else:                          # else est au même niveau que if\n",
    "            \"bloc d'instructions 2\"    # attention à l'indentation\n",
    "        # suite du programme\n",
    "```"
   ]
  },
  {
   "cell_type": "markdown",
   "metadata": {},
   "source": [
    "* Si l'expression est vraie (`True`) alors le bloc d'instructions 1 est exécuté.\n",
    "\n",
    "* Si l'expression est fausse (`False`) alors c'est le bloc d'instructions 2 qui est exécuté.\n",
    "\n",
    "### Exemple 2 : moyenne\n",
    "\n",
    "Dans cet exemple nous allons tester si la note entrée par l'utilisateur. Si la note est > 10 on doit recevoir le message: \"J'ai la moyenne\" sinon il va afficher \"C'est en dessous de la moyenne\"."
   ]
  },
  {
   "cell_type": "code",
   "execution_count": 2,
   "metadata": {
    "collapsed": false
   },
   "outputs": [],
   "source": [
    "chaine = input(\"Note sur 20 : \")\n",
    "note = float(chaine)\n",
    "if note >= 10.0:\n",
    "    # ce bloc est exécuté si l'expression (note >= 10.0) est vraie\n",
    "    print(\"J'ai la moyenne\")\n",
    "else:\n",
    "    # ce bloc est exécuté si l'expression (note >= 10.0) est fausse\n",
    "    print(\"C'est en dessous de la moyenne\")\n",
    "print(\"Fin du programme\")"
   ]
  },
  {
   "cell_type": "markdown",
   "metadata": {},
   "source": [
    "Pour traiter le cas des notes invalides ($<0$ ou $>20$), on peut imbriquer des instructions conditionnelles :"
   ]
  },
  {
   "cell_type": "code",
   "execution_count": 3,
   "metadata": {
    "collapsed": false
   },
   "outputs": [],
   "source": [
    "chaine = input(\"Note sur 20 : \")\n",
    "note = float(chaine)\n",
    "if note > 20.0 or note < 0.0:\n",
    "    # ce bloc est exécuté si l'expression (note > 20.0 or note < 0.0) est vraie\n",
    "    print(\"Note invalide !\")\n",
    "else:\n",
    "    # ce bloc est exécuté si l'expression (note > 20.0 or note < 0.0) est fausse\n",
    "    if note >= 10.0:\n",
    "        # ce bloc est exécuté si l'expression (note >= 10.0) est vraie\n",
    "        print(\"J'ai la moyenne\")\n",
    "    else:\n",
    "        # ce bloc est exécuté si l'expression (note >= 10.0) est fausse\n",
    "        print(\"C'est en dessous de la moyenne\")\n",
    "print(\"Fin du programme\")"
   ]
  },
  {
   "cell_type": "markdown",
   "metadata": {},
   "source": [
    "Ou bien encore:"
   ]
  },
  {
   "cell_type": "code",
   "execution_count": 4,
   "metadata": {
    "collapsed": false
   },
   "outputs": [],
   "source": [
    "chaine = input(\"Note sur 20 : \")\n",
    "note = float(chaine)\n",
    "if note > 20.0 or note < 0.0:\n",
    "    print(\"Note invalide !\")\n",
    "else:\n",
    "    if note >= 10.0:\n",
    "        print(\"J'ai la moyenne\")\n",
    "        if note == 20.0:\n",
    "            # ce bloc est exécuté si l'expression (note == 20.0) est vraie\n",
    "            print(\"C'est même excellent !\")\n",
    "    else:\n",
    "        print(\"C'est en dessous de la moyenne\")\n",
    "        if note == 0.0:\n",
    "            # ce bloc est exécuté si l'expression (note == 0.0) est vraie\n",
    "            print(\"... lamentable !\")\n",
    "print(\"Fin du programme\")"
   ]
  },
  {
   "cell_type": "markdown",
   "metadata": {},
   "source": [
    "## L'instruction `elif`\n",
    "Une instruction `elif` (contraction de **else if**) est toujours associée à une instruction `if`.\n",
    "\n",
    "**Syntaxe.**"
   ]
  },
  {
   "cell_type": "markdown",
   "metadata": {},
   "source": [
    "```Python\n",
    "        if expression 1:\n",
    "            \"bloc d'instructions 1\"\n",
    "        elif expression 2:\n",
    "            \"bloc d'instructions 2\"\n",
    "        elif expression 3:\n",
    "            \"bloc d'instructions 3\"    # ici deux instructions elif, mais il n'y a pas de limitation\n",
    "        else:\n",
    "            \"bloc d'instructions 4\"\n",
    "        # suite du programme\n",
    "```"
   ]
  },
  {
   "cell_type": "markdown",
   "metadata": {},
   "source": [
    "* Si l'expression 1 est vraie alors le bloc d'instructions 1 est exécuté, et on passe à la suite du programme.\n",
    "\n",
    "* Si l'expression 1 est fausse alors on teste l'expression 2 :\n",
    "\n",
    "* si l'expression 2 est vraie on exécute le bloc d'instructions 2, et on passe à la suite du programme.\n",
    "\n",
    "* si l'expression 2 est fausse alors on teste l'expression 3, etc.\n",
    "\n",
    "Le bloc d'instructions 4 est donc exécuté si toutes les expressions sont fausses (c'est le bloc \"par défaut\").\n",
    "\n",
    "Parfois il n'y a rien à faire. Dans ce cas, on peut omettre l'instruction `else` :"
   ]
  },
  {
   "cell_type": "markdown",
   "metadata": {},
   "source": [
    "```Python\n",
    "        if expression 1:\n",
    "            \"bloc d'instructions 1\"\n",
    "        elif expression 2:\n",
    "            \"bloc d'instructions 2\"\n",
    "        elif expression 3:\n",
    "            \"bloc d'instructions 3\"\n",
    "        # suite du programme\n",
    "```"
   ]
  },
  {
   "cell_type": "markdown",
   "metadata": {},
   "source": [
    "L'instruction `elif` évite souvent l'utilisation de conditions imbriquées (et souvent compliquées).\n",
    "\n",
    "### Exemple 3 : moyenne-bis\n",
    "\n",
    "On peut tester plusieurs possibilités avec une syntaxe beaucoup plus propre avec les instructions `if-elif-else`:"
   ]
  },
  {
   "cell_type": "code",
   "execution_count": 5,
   "metadata": {
    "collapsed": false
   },
   "outputs": [],
   "source": [
    "note = float(input(\"Note sur 20 : \"))\n",
    "if note == 0.0:\n",
    "    print(\"C'est en dessous de la moyenne\")\n",
    "    print(\"... lamentable!\")\n",
    "elif note == 20.0:\n",
    "    print(\"J'ai la moyenne\")\n",
    "    print(\"C'est même excellent !\")\n",
    "elif 0 < note < 10:    # ou bien : elif 0.0 < note < 10.0:\n",
    "    print(\"C'est en dessous de la moyenne\")\n",
    "elif note >= 10.0 and note < 20.0:   # ou bien : elif 10.0 <= note < 20.0:\n",
    "    print(\"J'ai la moyenne\")\n",
    "else:\n",
    "    print(\"Note invalide !\")\n",
    "print(\"Fin du programme\")"
   ]
  },
  {
   "cell_type": "markdown",
   "metadata": {},
   "source": [
    "<!-- --- begin exercise --- -->\n",
    "\n",
    "## Exercise 1: Condition sur le jour de travail\n",
    "\n",
    "Si aujourd'hui est lundi alors je dois aller travailler, mais si c'est dimanche alors je peux rester faire la grasse matinée. Pour pouvoir accomplir ce genre de choses en Python, on fait appel à des expressions booléennes qui ne peuvent revêtir que deux possibilités - ou bien l'expression est vraie ou bien elle est fausse - et à la syntaxe if condition: qui permet de contrôler le flux du programme grâce à ces valeurs booléennes."
   ]
  },
  {
   "cell_type": "markdown",
   "metadata": {},
   "source": [
    "```Python\n",
    "        day_week = [\"Lundi\", \"Mardi\", \"Mercredi\", \"Jeudi\", \"Vendredi\",\n",
    "                    \"Samedi\", \"Dimanche\"]\n",
    "        today = input(\"Aujourd'hui est: \")\n",
    "        \n",
    "        if *condition vraie*:  # Quelle est la condition vraie dans ce cas?\n",
    "            print(\"Je dors le matin!\")\n",
    "        else:\n",
    "            print(\"Je travail le matin!\")\n",
    "        \n",
    "        print(\"Fin du programme\")\n",
    "```"
   ]
  },
  {
   "cell_type": "markdown",
   "metadata": {},
   "source": [
    "<!-- --- begin hint in exercise --- -->\n",
    "\n",
    "**Hint.**\n",
    "Dans la **condition vraie**, utilisez l'opérateur logique `in` pour tester les éléments de la liste `day_week`.\n",
    "\n",
    "<!-- --- end hint in exercise --- -->\n",
    "\n"
   ]
  },
  {
   "cell_type": "markdown",
   "metadata": {},
   "source": [
    "\n",
    "<!-- --- end exercise --- -->\n",
    "\n",
    "\n",
    "# Les boucles\n",
    "## L'instruction `while`\n",
    "\n",
    "**Syntaxe.**"
   ]
  },
  {
   "cell_type": "markdown",
   "metadata": {},
   "source": [
    "```Python\n",
    "        while expression:           # ne pas oublier le signe de ponctuation ':'\n",
    "            \"bloc d'instructions\"   # attention à l'indentation (1 Tab ou 4 * Espaces)\n",
    "        # suite du programme\n",
    "```"
   ]
  },
  {
   "cell_type": "markdown",
   "metadata": {},
   "source": [
    "* Si l'expression est vraie (`True`) le bloc d'instructions est exécuté, puis l'expression est à nouveau évaluée.\n",
    "\n",
    "* Le cycle continue jusqu'à ce que l'expression soit fausse (`False`) : on passe alors à la suite du programme.\n",
    "\n",
    "### Exemple 1 : un script qui compte de 1 à 4"
   ]
  },
  {
   "cell_type": "code",
   "execution_count": 7,
   "metadata": {
    "collapsed": false
   },
   "outputs": [],
   "source": [
    "# initialisation de la variable de comptage\n",
    "compteur = 0\n",
    "while compteur < 5:\n",
    "    # ce bloc est exécuté tant que la condition (compteur < 5) est vraie\n",
    "    print(compteur)\n",
    "    compteur +=  1    # incrémentation du compteur,  compteur = compteur + 1\n",
    "print(compteur)\n",
    "print(\"Fin de la boucle\")"
   ]
  },
  {
   "cell_type": "markdown",
   "metadata": {},
   "source": [
    "### Exemple 2 : Table de multiplication par 8"
   ]
  },
  {
   "cell_type": "code",
   "execution_count": 8,
   "metadata": {
    "collapsed": false
   },
   "outputs": [],
   "source": [
    "compteur = 1         # initialisation de la variable de comptage\n",
    "while compteur <= 10:\n",
    "    # ce bloc est exécuté tant que la condition (compteur <= 10) est vraie\n",
    "    print(compteur, '* 8 =', compteur*8)\n",
    "    compteur += 1    # incrémentation du compteur, compteur = compteur + 1\n",
    "print(\"Et voilà !\")"
   ]
  },
  {
   "cell_type": "markdown",
   "metadata": {},
   "source": [
    "### Exemple 3 : Affichage de l'heure courante"
   ]
  },
  {
   "cell_type": "code",
   "execution_count": 9,
   "metadata": {
    "collapsed": false
   },
   "outputs": [],
   "source": [
    "import time     # importation du module time\n",
    "quitter = 'n'   # initialisation\n",
    "while quitter != 'o':\n",
    "    # ce bloc est exécuté tant que la condition est vraie\n",
    "    # strftime() est une fonction du module time\n",
    "    print('Heure courante ', time.strftime('%H:%M:%S'))\n",
    "    quitter = input(\"Voulez-vous quitter le programme (o/n) ? \")\n",
    "print(\"A bientôt\")"
   ]
  },
  {
   "cell_type": "markdown",
   "metadata": {},
   "source": [
    "## L'instruction `for`\n",
    "\n",
    "**Syntaxe.**"
   ]
  },
  {
   "cell_type": "markdown",
   "metadata": {},
   "source": [
    "```Python\n",
    "        for élément in séquence :     # ne pas oublier le signe de ponctuation ':'\n",
    "            \"bloc d'instructions\"     # attention à l'indentation (1 Tab ou 4 * Espaces)\n",
    "        # suite du programme\n",
    "```"
   ]
  },
  {
   "cell_type": "markdown",
   "metadata": {},
   "source": [
    "Les éléments de la séquence sont issus d'une chaîne de caractères ou bien d'une liste.\n",
    "\n",
    "### Exemple 1 : séquence de caractères"
   ]
  },
  {
   "cell_type": "code",
   "execution_count": 10,
   "metadata": {
    "collapsed": false
   },
   "outputs": [],
   "source": [
    "chaine = 'Bonsoir'\n",
    "for lettre in chaine:  # lettre est la variable d'itération\n",
    "    print(lettre)\n",
    "print(\"Fin de la boucle\")"
   ]
  },
  {
   "cell_type": "markdown",
   "metadata": {},
   "source": [
    "La variable lettre est initialisée avec le premier élément de la séquence ('B').\n",
    "Le bloc d'instructions est alors exécuté.\n",
    "\n",
    "Puis la variable lettre est mise à jour avec le second élément de la séquence ('o') et le bloc d'instructions à nouveau exécuté...\n",
    "\n",
    "Le bloc d'instructions est exécuté une dernière fois lorsqu'on arrive au dernier élément de la séquence ('r').\n",
    "\n",
    "### Fonction `range()`\n",
    "\n",
    "L'association avec la fonction `range()` est très utile pour créer des séquences automatiques de nombres entiers :"
   ]
  },
  {
   "cell_type": "code",
   "execution_count": 11,
   "metadata": {
    "collapsed": false
   },
   "outputs": [],
   "source": [
    "for i in range(1, 5):\n",
    "    print(i)\n",
    "print(\"Fin de la boucle\")"
   ]
  },
  {
   "cell_type": "markdown",
   "metadata": {},
   "source": [
    "### Exemple 2 : Table de multiplication\n",
    "\n",
    "La création d'une table de multiplication paraît plus simple avec une boucle `for` qu'avec une boucle `while` :"
   ]
  },
  {
   "cell_type": "code",
   "execution_count": 12,
   "metadata": {
    "collapsed": false
   },
   "outputs": [],
   "source": [
    "for compteur in range(1,11):\n",
    "    print(compteur, '* 8 =', compteur*8)\n",
    "print(\"Et voilà !\")"
   ]
  },
  {
   "cell_type": "markdown",
   "metadata": {},
   "source": [
    "### Exemple 3 : calcul d'une somme\n",
    "\n",
    "Soit, par exemple, l'expression de la somme suivante:\n",
    "$$s = \\sum_{i = 0}^{100} \\sqrt{ \\frac{i \\pi}{100}} sin(\\frac{i \\pi}{100})$$"
   ]
  },
  {
   "cell_type": "code",
   "execution_count": 13,
   "metadata": {
    "collapsed": false
   },
   "outputs": [],
   "source": [
    "from math import sqrt, sin, pi\n",
    "s = 0.0 # # intialisation de s\n",
    "for i in range(101):\n",
    "    s+= sqrt(i * pi/100) * sin(i * pi/100)   # équivalent à s = s + sqrt(x) * sin(x)\n",
    "# Affichage de la somme\n",
    "print(s)"
   ]
  },
  {
   "cell_type": "markdown",
   "metadata": {},
   "source": [
    "<!-- --- begin exercise --- -->\n",
    "\n",
    "## Exercise 2: produit de Wallis\n",
    "\n",
    "Calculer $\\pi$ avec le [produit de Wallis](https://fr.wikipedia.org/wiki/Int%C3%A9grale_de_Wallis#Calcul_de_%CF%80)\n",
    "\n",
    "$$ \\frac{\\pi}{2} = \\prod_{i=1}^p\\frac{4i^2}{4i^2-1}$$\n",
    "\n"
   ]
  },
  {
   "cell_type": "markdown",
   "metadata": {},
   "source": [
    "\n",
    "<!-- --- end exercise --- -->\n",
    "\n",
    "\n",
    "## Compréhensions de listes\n",
    "\n",
    "Les compréhensions de listes fournissent un moyen de construire des listes de manière très concise. Une application classique est la construction de nouvelles listes où chaque élément est le résultat d’une opération appliquée à chaque élément d’une autre séquence ; ou de créer une sous-séquence des éléments satisfaisant une condition spécifique.\n",
    "\n",
    "Par exemple, supposons que l’on veuille créer une liste de carrés, comme :"
   ]
  },
  {
   "cell_type": "code",
   "execution_count": 15,
   "metadata": {
    "collapsed": false
   },
   "outputs": [],
   "source": [
    "squares = []\n",
    "for x in range(10):\n",
    "    squares.append(x**2)"
   ]
  },
  {
   "cell_type": "code",
   "execution_count": 16,
   "metadata": {
    "collapsed": false
   },
   "outputs": [],
   "source": [
    "squares"
   ]
  },
  {
   "cell_type": "markdown",
   "metadata": {},
   "source": [
    "Notez que cela crée (ou remplace) une variable nommée `x` qui existe toujours après l’exécution de la boucle. On peut calculer une liste de carrés sans effet de bord avec :"
   ]
  },
  {
   "cell_type": "code",
   "execution_count": 17,
   "metadata": {
    "collapsed": false
   },
   "outputs": [],
   "source": [
    "squares = [x**2 for x in range(10)]\n",
    "squares"
   ]
  },
  {
   "cell_type": "markdown",
   "metadata": {},
   "source": [
    "qui est plus court et lisible.\n",
    "\n",
    "Une compréhension de liste consiste à placer entre crochets une expression suivie par une clause `for` puis par zéro ou plus clauses `for` ou `if`. Le résultat est une nouvelle liste résultat de l’évaluation de l’expression dans le contexte des clauses `for` et `if` qui la suivent. Par exemple, cette compréhension de liste combine les éléments de deux listes s’ils ne sont pas égaux :"
   ]
  },
  {
   "cell_type": "code",
   "execution_count": 18,
   "metadata": {
    "collapsed": false
   },
   "outputs": [],
   "source": [
    "combs = [(x, y) for x in [1,2,3] for y in [3,1,4] if x != y]"
   ]
  },
  {
   "cell_type": "code",
   "execution_count": 19,
   "metadata": {
    "collapsed": false
   },
   "outputs": [],
   "source": [
    "combs"
   ]
  },
  {
   "cell_type": "markdown",
   "metadata": {},
   "source": [
    "et c’est équivalent à :"
   ]
  },
  {
   "cell_type": "code",
   "execution_count": 20,
   "metadata": {
    "collapsed": false
   },
   "outputs": [],
   "source": [
    "combs = []\n",
    "for x in [1,2,3]:\n",
    "    for y in [3,1,4]:\n",
    "        if x != y:\n",
    "            combs.append((x, y))"
   ]
  },
  {
   "cell_type": "code",
   "execution_count": 21,
   "metadata": {
    "collapsed": false
   },
   "outputs": [],
   "source": [
    "combs"
   ]
  },
  {
   "cell_type": "markdown",
   "metadata": {},
   "source": [
    "**Notice.**\n",
    "\n",
    "Notez que l’ordre des instructions `for` et `if` est le même dans ces différents extraits de code.\n",
    "\n",
    "\n",
    "\n",
    "## L'instruction break\n",
    "\n",
    "L'instruction break provoque une sortie immédiate d'une boucle `while` ou d'une boucle `for`.\n",
    "\n",
    "Dans l'exemple suivant, l'expression `True` est toujours ... vraie : on a une boucle sans fin.\n",
    "\n",
    "L'instruction `break` est donc le seul moyen de sortir de la boucle.\n",
    "\n",
    "### Exemple : Affichage de l'heure courante"
   ]
  },
  {
   "cell_type": "code",
   "execution_count": 22,
   "metadata": {
    "collapsed": false
   },
   "outputs": [],
   "source": [
    "import time     # importation du module time\n",
    "while True:\n",
    "    # strftime() est une fonction du module time\n",
    "    print('Heure courante ', time.strftime('%H:%M:%S'))\n",
    "    quitter = input('Voulez-vous quitter le programme (o/n) ? ')\n",
    "    if quitter == 'o':\n",
    "        break\n",
    "print(\"A bientôt\")"
   ]
  },
  {
   "cell_type": "markdown",
   "metadata": {},
   "source": [
    "**Notice.**\n",
    "\n",
    "Si vous connaissez le nombre de boucles à effectuer, utiliser une boucle `for`.\n",
    "Autrement, utiliser une boucle `while` (notamment pour faire des boucles sans fin).\n",
    "\n",
    "\n",
    "\n",
    "# Les fonctions\n",
    "\n",
    "Nous avons déjà vu beaucoup de fonctions : `print()`, `type()`, `len()`, `input()`, `range()`...\n",
    "\n",
    "Ce sont des fonctions pré-définies ([Fonctions natives](https://docs.python.org/fr/3/library/functions.html)).\n",
    "\n",
    "Nous avons aussi la possibilité de créer nos propres fonctions!\n",
    "\n",
    "## Intérêt des fonctions\n",
    "\n",
    "Une fonction est une portion de code que l'on peut appeler au besoin (c'est une sorte de sous-programme).\n",
    "\n",
    "L'utilisation des fonctions évite des redondances dans le code : on obtient ainsi des programmes plus courts et plus lisibles.\n",
    "\n",
    "Par exemple, nous avons besoin de convertir à plusieurs reprises des degrés Celsius en degrés Fahrenheit :\n",
    "$$T_F = T_C \\times 1,8 + 32 $$"
   ]
  },
  {
   "cell_type": "code",
   "execution_count": 23,
   "metadata": {
    "collapsed": false
   },
   "outputs": [],
   "source": [
    "print(100 * 1.8 + 32.0)"
   ]
  },
  {
   "cell_type": "code",
   "execution_count": 24,
   "metadata": {
    "collapsed": false
   },
   "outputs": [],
   "source": [
    "print(37.0 * 1.8 + 32.0)"
   ]
  },
  {
   "cell_type": "code",
   "execution_count": 25,
   "metadata": {
    "collapsed": false
   },
   "outputs": [],
   "source": [
    "print(233.0 * 1.8 + 32.0)"
   ]
  },
  {
   "cell_type": "markdown",
   "metadata": {},
   "source": [
    "La même chose en utilisant une fonction :"
   ]
  },
  {
   "cell_type": "code",
   "execution_count": 26,
   "metadata": {
    "collapsed": false
   },
   "outputs": [],
   "source": [
    "def fahrenheit(degre_celsius):\n",
    "        \"\"\"\n",
    "        Conversion degré Celsius en degré Fahrenheit\n",
    "        \"\"\"\n",
    "        print(degre_celsius * 1.8 + 32.0)"
   ]
  },
  {
   "cell_type": "code",
   "execution_count": 27,
   "metadata": {
    "collapsed": false
   },
   "outputs": [],
   "source": [
    "fahrenheit(100)"
   ]
  },
  {
   "cell_type": "code",
   "execution_count": 28,
   "metadata": {
    "collapsed": false
   },
   "outputs": [],
   "source": [
    "fahrenheit(37)"
   ]
  },
  {
   "cell_type": "code",
   "execution_count": 29,
   "metadata": {
    "collapsed": false
   },
   "outputs": [],
   "source": [
    "temperature = 220\n",
    "fahrenheit(temperature)"
   ]
  },
  {
   "cell_type": "markdown",
   "metadata": {},
   "source": [
    "## L'instruction def\n",
    "\n",
    "**Syntaxe.**"
   ]
  },
  {
   "cell_type": "markdown",
   "metadata": {},
   "source": [
    "```Python\n",
    "        def nom_de_la_fonction(parametre1, parametre2, parametre3, ...):\n",
    "            \"\"\"\n",
    "            Documentation\n",
    "            qu'on peut écrire\n",
    "            sur plusieurs lignes\n",
    "            \"\"\"     # docstring entouré de 3 guillemets (ou apostrophes)\n",
    "        \n",
    "            \"bloc d'instructions\"     # attention à l'indentation\n",
    "        \n",
    "            return resultat            # la fonction retourne le contenu de la variable resultat\n",
    "```"
   ]
  },
  {
   "cell_type": "markdown",
   "metadata": {},
   "source": [
    "### Exemple : ma première fonction"
   ]
  },
  {
   "cell_type": "code",
   "execution_count": 30,
   "metadata": {
    "collapsed": false
   },
   "outputs": [],
   "source": [
    "def mapremierefonction():         # cette fonction n'a pas de paramètre\n",
    "    \"\"\"\n",
    "    Cette fonction affiche 'Bonjour'\n",
    "    \"\"\"\n",
    "    print(\"Bonjour\")\n",
    "    return                         # cette fonction ne retourne rien ('None')\n",
    "    # l'instruction return est ici facultative"
   ]
  },
  {
   "cell_type": "code",
   "execution_count": 31,
   "metadata": {
    "collapsed": false
   },
   "outputs": [],
   "source": [
    "mapremierefonction()"
   ]
  },
  {
   "cell_type": "code",
   "execution_count": 32,
   "metadata": {
    "collapsed": false
   },
   "outputs": [],
   "source": [
    "help(mapremierefonction)"
   ]
  },
  {
   "cell_type": "markdown",
   "metadata": {},
   "source": [
    "# Les Scripts\n",
    "\n",
    "Commençons par écrire un script, c’est-à-dire un fichier avec une séquence d’instructions à exécuter chaque fois que le script est appelé. Les instructions peuvent être, par exemple, copié-collé depuis une **cellule code** dans votre notebook (mais veillez à respecter les règles d'indentation!).\n",
    "\n",
    "L'extension pour les fichiers Python est `.py`. Écrivez ou copiez et collez les lignes suivantes dans un fichier appelé `test.py`"
   ]
  },
  {
   "cell_type": "markdown",
   "metadata": {},
   "source": [
    "```Python\n",
    "        chaine = 'Bonsoir'\n",
    "        for lettre in chaine:  # lettre est la variable d'itération\n",
    "            print(lettre)\n",
    "```"
   ]
  },
  {
   "cell_type": "markdown",
   "metadata": {},
   "source": [
    "Exécutons maintenant le script de manière interactive, à l'intérieur de l'interpréteur Ipython (cellule code du notebook). C'est peut-être l'utilisation la plus courante des scripts en calcul et simulation scientifique.\n",
    "\n",
    "**Notice.**\n",
    "\n",
    "Dans la cellule *code* (Ipython), la syntaxe permettant d'exécuter un script est `%run script.py`. Par exemple:"
   ]
  },
  {
   "cell_type": "code",
   "execution_count": 33,
   "metadata": {
    "collapsed": false
   },
   "outputs": [],
   "source": [
    "%run test.py"
   ]
  },
  {
   "cell_type": "code",
   "execution_count": 34,
   "metadata": {
    "collapsed": false
   },
   "outputs": [],
   "source": [
    "chaine"
   ]
  },
  {
   "cell_type": "markdown",
   "metadata": {},
   "source": [
    "La syntaxe permettant de charger le contunu d'un script dans dans une cellule code est `%load script.py`. Par exemple:"
   ]
  },
  {
   "cell_type": "code",
   "execution_count": 35,
   "metadata": {
    "collapsed": false
   },
   "outputs": [],
   "source": [
    "# %load test.py\n",
    "chaine = 'Bonsoir'\n",
    "for lettre in chaine:  # lettre est la variable d'itération\n",
    "    print(lettre)"
   ]
  },
  {
   "cell_type": "markdown",
   "metadata": {},
   "source": [
    "<!-- ======= Travaux dirigés ======= -->\n",
    "<!-- # #include \"TP2.do.txt\" -->\n",
    "\n",
    "# Lectures complémentaires\n",
    "\n",
    "* [Documentation Python 3.6](https://docs.python.org/fr/3.6/tutorial/index.html)\n",
    "\n",
    "* [Apprendre à programmer avec Python, par Gérard Swinnen](http://inforef.be/swi/python.htm)\n",
    "\n",
    "* [Think Python, par Allen B. Downey](https://greenteapress.com/wp/think-python/)"
   ]
  }
 ],
 "metadata": {},
 "nbformat": 4,
 "nbformat_minor": 2
}